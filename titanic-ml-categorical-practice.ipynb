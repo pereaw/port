{
 "cells": [
  {
   "cell_type": "code",
   "execution_count": 1,
   "metadata": {
    "_cell_guid": "b1076dfc-b9ad-4769-8c92-a6c4dae69d19",
    "_uuid": "8f2839f25d086af736a60e9eeb907d3b93b6e0e5",
    "execution": {
     "iopub.execute_input": "2022-11-14T20:33:22.190764Z",
     "iopub.status.busy": "2022-11-14T20:33:22.189764Z",
     "iopub.status.idle": "2022-11-14T20:33:22.199719Z",
     "shell.execute_reply": "2022-11-14T20:33:22.198980Z",
     "shell.execute_reply.started": "2022-11-14T20:23:07.352890Z"
    },
    "papermill": {
     "duration": 0.063141,
     "end_time": "2022-11-14T20:33:22.199946",
     "exception": false,
     "start_time": "2022-11-14T20:33:22.136805",
     "status": "completed"
    },
    "tags": []
   },
   "outputs": [
    {
     "name": "stdout",
     "output_type": "stream",
     "text": [
      "/kaggle/input/titanic/train.csv\n",
      "/kaggle/input/titanic/test.csv\n",
      "/kaggle/input/titanic/gender_submission.csv\n"
     ]
    }
   ],
   "source": [
    "# This Python 3 environment comes with many helpful analytics libraries installed\n",
    "# It is defined by the kaggle/python Docker image: https://github.com/kaggle/docker-python\n",
    "# For example, here's several helpful packages to load\n",
    "\n",
    "import numpy as np # linear algebra\n",
    "import pandas as pd # data processing, CSV file I/O (e.g. pd.read_csv)\n",
    "\n",
    "# Input data files are available in the read-only \"../input/\" directory\n",
    "# For example, running this (by clicking run or pressing Shift+Enter) will list all files under the input directory\n",
    "\n",
    "import os\n",
    "for dirname, _, filenames in os.walk('/kaggle/input'):\n",
    "    for filename in filenames:\n",
    "        print(os.path.join(dirname, filename))\n",
    "        \n",
    "# You can write up to 20GB to the current directory (/kaggle/working/) that gets preserved as output when you create a version using \"Save & Run All\" \n",
    "# You can also write temporary files to /kaggle/temp/, but they won't be saved outside of the current session\n",
    "\n"
   ]
  },
  {
   "cell_type": "markdown",
   "metadata": {
    "papermill": {
     "duration": 0.046547,
     "end_time": "2022-11-14T20:33:22.293203",
     "exception": false,
     "start_time": "2022-11-14T20:33:22.246656",
     "status": "completed"
    },
    "tags": []
   },
   "source": [
    "# Titanic Data Set\n",
    "\n",
    "We are going to take a look at the popular titanic data set. I would like to try various methods to clean the data and deal with our missing values,and fit two common models of random forest and logistic regression. The following lines will read our data and give us some basic information."
   ]
  },
  {
   "cell_type": "code",
   "execution_count": 2,
   "metadata": {
    "execution": {
     "iopub.execute_input": "2022-11-14T20:33:22.393193Z",
     "iopub.status.busy": "2022-11-14T20:33:22.392553Z",
     "iopub.status.idle": "2022-11-14T20:33:22.437231Z",
     "shell.execute_reply": "2022-11-14T20:33:22.436577Z",
     "shell.execute_reply.started": "2022-11-14T20:23:07.374864Z"
    },
    "papermill": {
     "duration": 0.095851,
     "end_time": "2022-11-14T20:33:22.437432",
     "exception": false,
     "start_time": "2022-11-14T20:33:22.341581",
     "status": "completed"
    },
    "tags": []
   },
   "outputs": [
    {
     "name": "stdout",
     "output_type": "stream",
     "text": [
      "<class 'pandas.core.frame.DataFrame'>\n",
      "RangeIndex: 891 entries, 0 to 890\n",
      "Data columns (total 12 columns):\n",
      " #   Column       Non-Null Count  Dtype  \n",
      "---  ------       --------------  -----  \n",
      " 0   PassengerId  891 non-null    int64  \n",
      " 1   Survived     891 non-null    int64  \n",
      " 2   Pclass       891 non-null    int64  \n",
      " 3   Name         891 non-null    object \n",
      " 4   Sex          891 non-null    object \n",
      " 5   Age          714 non-null    float64\n",
      " 6   SibSp        891 non-null    int64  \n",
      " 7   Parch        891 non-null    int64  \n",
      " 8   Ticket       891 non-null    object \n",
      " 9   Fare         891 non-null    float64\n",
      " 10  Cabin        204 non-null    object \n",
      " 11  Embarked     889 non-null    object \n",
      "dtypes: float64(2), int64(5), object(5)\n",
      "memory usage: 83.7+ KB\n"
     ]
    }
   ],
   "source": [
    "train_data = pd.read_csv(\"/kaggle/input/titanic/train.csv\")\n",
    "train_data.info()"
   ]
  },
  {
   "cell_type": "code",
   "execution_count": 3,
   "metadata": {
    "execution": {
     "iopub.execute_input": "2022-11-14T20:33:22.535353Z",
     "iopub.status.busy": "2022-11-14T20:33:22.534620Z",
     "iopub.status.idle": "2022-11-14T20:33:22.554998Z",
     "shell.execute_reply": "2022-11-14T20:33:22.555597Z",
     "shell.execute_reply.started": "2022-11-14T20:23:07.425079Z"
    },
    "papermill": {
     "duration": 0.072137,
     "end_time": "2022-11-14T20:33:22.555798",
     "exception": false,
     "start_time": "2022-11-14T20:33:22.483661",
     "status": "completed"
    },
    "tags": []
   },
   "outputs": [
    {
     "name": "stdout",
     "output_type": "stream",
     "text": [
      "<class 'pandas.core.frame.DataFrame'>\n",
      "RangeIndex: 418 entries, 0 to 417\n",
      "Data columns (total 11 columns):\n",
      " #   Column       Non-Null Count  Dtype  \n",
      "---  ------       --------------  -----  \n",
      " 0   PassengerId  418 non-null    int64  \n",
      " 1   Pclass       418 non-null    int64  \n",
      " 2   Name         418 non-null    object \n",
      " 3   Sex          418 non-null    object \n",
      " 4   Age          332 non-null    float64\n",
      " 5   SibSp        418 non-null    int64  \n",
      " 6   Parch        418 non-null    int64  \n",
      " 7   Ticket       418 non-null    object \n",
      " 8   Fare         417 non-null    float64\n",
      " 9   Cabin        91 non-null     object \n",
      " 10  Embarked     418 non-null    object \n",
      "dtypes: float64(2), int64(4), object(5)\n",
      "memory usage: 36.0+ KB\n"
     ]
    }
   ],
   "source": [
    "test_data = pd.read_csv(\"/kaggle/input/titanic/test.csv\")\n",
    "test_data.info()"
   ]
  },
  {
   "cell_type": "code",
   "execution_count": 4,
   "metadata": {
    "execution": {
     "iopub.execute_input": "2022-11-14T20:33:22.657803Z",
     "iopub.status.busy": "2022-11-14T20:33:22.657113Z",
     "iopub.status.idle": "2022-11-14T20:33:22.682795Z",
     "shell.execute_reply": "2022-11-14T20:33:22.682125Z",
     "shell.execute_reply.started": "2022-11-14T20:23:07.450496Z"
    },
    "papermill": {
     "duration": 0.079569,
     "end_time": "2022-11-14T20:33:22.682958",
     "exception": false,
     "start_time": "2022-11-14T20:33:22.603389",
     "status": "completed"
    },
    "tags": []
   },
   "outputs": [
    {
     "data": {
      "text/html": [
       "<div>\n",
       "<style scoped>\n",
       "    .dataframe tbody tr th:only-of-type {\n",
       "        vertical-align: middle;\n",
       "    }\n",
       "\n",
       "    .dataframe tbody tr th {\n",
       "        vertical-align: top;\n",
       "    }\n",
       "\n",
       "    .dataframe thead th {\n",
       "        text-align: right;\n",
       "    }\n",
       "</style>\n",
       "<table border=\"1\" class=\"dataframe\">\n",
       "  <thead>\n",
       "    <tr style=\"text-align: right;\">\n",
       "      <th></th>\n",
       "      <th>PassengerId</th>\n",
       "      <th>Survived</th>\n",
       "      <th>Pclass</th>\n",
       "      <th>Name</th>\n",
       "      <th>Sex</th>\n",
       "      <th>Age</th>\n",
       "      <th>SibSp</th>\n",
       "      <th>Parch</th>\n",
       "      <th>Ticket</th>\n",
       "      <th>Fare</th>\n",
       "      <th>Cabin</th>\n",
       "      <th>Embarked</th>\n",
       "    </tr>\n",
       "  </thead>\n",
       "  <tbody>\n",
       "    <tr>\n",
       "      <th>0</th>\n",
       "      <td>1</td>\n",
       "      <td>0</td>\n",
       "      <td>3</td>\n",
       "      <td>Braund, Mr. Owen Harris</td>\n",
       "      <td>male</td>\n",
       "      <td>22.0</td>\n",
       "      <td>1</td>\n",
       "      <td>0</td>\n",
       "      <td>A/5 21171</td>\n",
       "      <td>7.2500</td>\n",
       "      <td>NaN</td>\n",
       "      <td>S</td>\n",
       "    </tr>\n",
       "    <tr>\n",
       "      <th>1</th>\n",
       "      <td>2</td>\n",
       "      <td>1</td>\n",
       "      <td>1</td>\n",
       "      <td>Cumings, Mrs. John Bradley (Florence Briggs Th...</td>\n",
       "      <td>female</td>\n",
       "      <td>38.0</td>\n",
       "      <td>1</td>\n",
       "      <td>0</td>\n",
       "      <td>PC 17599</td>\n",
       "      <td>71.2833</td>\n",
       "      <td>C85</td>\n",
       "      <td>C</td>\n",
       "    </tr>\n",
       "    <tr>\n",
       "      <th>2</th>\n",
       "      <td>3</td>\n",
       "      <td>1</td>\n",
       "      <td>3</td>\n",
       "      <td>Heikkinen, Miss. Laina</td>\n",
       "      <td>female</td>\n",
       "      <td>26.0</td>\n",
       "      <td>0</td>\n",
       "      <td>0</td>\n",
       "      <td>STON/O2. 3101282</td>\n",
       "      <td>7.9250</td>\n",
       "      <td>NaN</td>\n",
       "      <td>S</td>\n",
       "    </tr>\n",
       "    <tr>\n",
       "      <th>3</th>\n",
       "      <td>4</td>\n",
       "      <td>1</td>\n",
       "      <td>1</td>\n",
       "      <td>Futrelle, Mrs. Jacques Heath (Lily May Peel)</td>\n",
       "      <td>female</td>\n",
       "      <td>35.0</td>\n",
       "      <td>1</td>\n",
       "      <td>0</td>\n",
       "      <td>113803</td>\n",
       "      <td>53.1000</td>\n",
       "      <td>C123</td>\n",
       "      <td>S</td>\n",
       "    </tr>\n",
       "    <tr>\n",
       "      <th>4</th>\n",
       "      <td>5</td>\n",
       "      <td>0</td>\n",
       "      <td>3</td>\n",
       "      <td>Allen, Mr. William Henry</td>\n",
       "      <td>male</td>\n",
       "      <td>35.0</td>\n",
       "      <td>0</td>\n",
       "      <td>0</td>\n",
       "      <td>373450</td>\n",
       "      <td>8.0500</td>\n",
       "      <td>NaN</td>\n",
       "      <td>S</td>\n",
       "    </tr>\n",
       "  </tbody>\n",
       "</table>\n",
       "</div>"
      ],
      "text/plain": [
       "   PassengerId  Survived  Pclass  \\\n",
       "0            1         0       3   \n",
       "1            2         1       1   \n",
       "2            3         1       3   \n",
       "3            4         1       1   \n",
       "4            5         0       3   \n",
       "\n",
       "                                                Name     Sex   Age  SibSp  \\\n",
       "0                            Braund, Mr. Owen Harris    male  22.0      1   \n",
       "1  Cumings, Mrs. John Bradley (Florence Briggs Th...  female  38.0      1   \n",
       "2                             Heikkinen, Miss. Laina  female  26.0      0   \n",
       "3       Futrelle, Mrs. Jacques Heath (Lily May Peel)  female  35.0      1   \n",
       "4                           Allen, Mr. William Henry    male  35.0      0   \n",
       "\n",
       "   Parch            Ticket     Fare Cabin Embarked  \n",
       "0      0         A/5 21171   7.2500   NaN        S  \n",
       "1      0          PC 17599  71.2833   C85        C  \n",
       "2      0  STON/O2. 3101282   7.9250   NaN        S  \n",
       "3      0            113803  53.1000  C123        S  \n",
       "4      0            373450   8.0500   NaN        S  "
      ]
     },
     "execution_count": 4,
     "metadata": {},
     "output_type": "execute_result"
    }
   ],
   "source": [
    "train_data.head()"
   ]
  },
  {
   "cell_type": "markdown",
   "metadata": {
    "papermill": {
     "duration": 0.047382,
     "end_time": "2022-11-14T20:33:22.790425",
     "exception": false,
     "start_time": "2022-11-14T20:33:22.743043",
     "status": "completed"
    },
    "tags": []
   },
   "source": [
    "We have taken a look at the given data, we see that it is going to be a binary response variable for survivorship so some sort of categorical model is appropriate. As stated earlier we will be looking at the random forest and logistic regression models. \n",
    "\n",
    "Before we get into that, some data cleaning must be performed. We see that the age, cabin and embarked features are all missing values in the training data set, and in the test data set we have missing values for age, fare and cabin.\n",
    "\n",
    "Additionally, the features for name, cabin, and ticket seem to be quite difficult to value from my current perspective. If we were to value these variables in our final model can we find some sort of justification. We should take a closer look at these features and see if anything becomes more apparent.\n",
    "\n",
    "Lets do some data exploration.\n",
    "\n",
    "# Missing value treatment\n",
    "\n",
    "## Continuous features (Fare/age)"
   ]
  },
  {
   "cell_type": "code",
   "execution_count": 5,
   "metadata": {
    "execution": {
     "iopub.execute_input": "2022-11-14T20:33:22.901868Z",
     "iopub.status.busy": "2022-11-14T20:33:22.901095Z",
     "iopub.status.idle": "2022-11-14T20:33:23.316436Z",
     "shell.execute_reply": "2022-11-14T20:33:23.315899Z",
     "shell.execute_reply.started": "2022-11-14T20:23:07.480852Z"
    },
    "papermill": {
     "duration": 0.471711,
     "end_time": "2022-11-14T20:33:23.316592",
     "exception": false,
     "start_time": "2022-11-14T20:33:22.844881",
     "status": "completed"
    },
    "tags": []
   },
   "outputs": [
    {
     "data": {
      "text/plain": [
       "<AxesSubplot:title={'center':'Age'}, xlabel='[Survived]'>"
      ]
     },
     "execution_count": 5,
     "metadata": {},
     "output_type": "execute_result"
    },
    {
     "data": {
      "text/plain": [
       "<Figure size 432x288 with 0 Axes>"
      ]
     },
     "metadata": {},
     "output_type": "display_data"
    },
    {
     "data": {
      "image/png": "[encoded data removed]",
      "text/plain": [
       "<Figure size 720x432 with 1 Axes>"
      ]
     },
     "metadata": {
      "needs_background": "light"
     },
     "output_type": "display_data"
    },
    {
     "data": {
      "image/png": "[encoded data removed]",
      "text/plain": [
       "<Figure size 720x432 with 1 Axes>"
      ]
     },
     "metadata": {
      "needs_background": "light"
     },
     "output_type": "display_data"
    }
   ],
   "source": [
    "import matplotlib.pyplot as plt\n",
    "\n",
    "#take a look at our continuous variables\n",
    "\n",
    "plt.figure()\n",
    "\n",
    "train_data.boxplot(column = ['Fare'], by = ['Survived'], figsize = (10,6))\n",
    "\n",
    "train_data.boxplot(column = [ 'Age'], by = ['Survived'], figsize = (10,6))"
   ]
  },
  {
   "cell_type": "markdown",
   "metadata": {
    "papermill": {
     "duration": 0.048679,
     "end_time": "2022-11-14T20:33:23.415454",
     "exception": false,
     "start_time": "2022-11-14T20:33:23.366775",
     "status": "completed"
    },
    "tags": []
   },
   "source": [
    "In the train data we have some fares that are over 500, quite a bit higher than the other fares. Lets take a look at those values. Additionally, we see that the ages look quite nice with no real differences. I will take a closer look at the 80 year old who survived though."
   ]
  },
  {
   "cell_type": "code",
   "execution_count": 6,
   "metadata": {
    "execution": {
     "iopub.execute_input": "2022-11-14T20:33:23.519119Z",
     "iopub.status.busy": "2022-11-14T20:33:23.518454Z",
     "iopub.status.idle": "2022-11-14T20:33:23.549176Z",
     "shell.execute_reply": "2022-11-14T20:33:23.549735Z",
     "shell.execute_reply.started": "2022-11-14T20:23:07.889071Z"
    },
    "papermill": {
     "duration": 0.085135,
     "end_time": "2022-11-14T20:33:23.549923",
     "exception": false,
     "start_time": "2022-11-14T20:33:23.464788",
     "status": "completed"
    },
    "tags": []
   },
   "outputs": [
    {
     "data": {
      "text/html": [
       "<div>\n",
       "<style scoped>\n",
       "    .dataframe tbody tr th:only-of-type {\n",
       "        vertical-align: middle;\n",
       "    }\n",
       "\n",
       "    .dataframe tbody tr th {\n",
       "        vertical-align: top;\n",
       "    }\n",
       "\n",
       "    .dataframe thead th {\n",
       "        text-align: right;\n",
       "    }\n",
       "</style>\n",
       "<table border=\"1\" class=\"dataframe\">\n",
       "  <thead>\n",
       "    <tr style=\"text-align: right;\">\n",
       "      <th></th>\n",
       "      <th>PassengerId</th>\n",
       "      <th>Survived</th>\n",
       "      <th>Pclass</th>\n",
       "      <th>Name</th>\n",
       "      <th>Sex</th>\n",
       "      <th>Age</th>\n",
       "      <th>SibSp</th>\n",
       "      <th>Parch</th>\n",
       "      <th>Ticket</th>\n",
       "      <th>Fare</th>\n",
       "      <th>Cabin</th>\n",
       "      <th>Embarked</th>\n",
       "    </tr>\n",
       "  </thead>\n",
       "  <tbody>\n",
       "    <tr>\n",
       "      <th>258</th>\n",
       "      <td>259</td>\n",
       "      <td>1</td>\n",
       "      <td>1</td>\n",
       "      <td>Ward, Miss. Anna</td>\n",
       "      <td>female</td>\n",
       "      <td>35.0</td>\n",
       "      <td>0</td>\n",
       "      <td>0</td>\n",
       "      <td>PC 17755</td>\n",
       "      <td>512.3292</td>\n",
       "      <td>NaN</td>\n",
       "      <td>C</td>\n",
       "    </tr>\n",
       "    <tr>\n",
       "      <th>679</th>\n",
       "      <td>680</td>\n",
       "      <td>1</td>\n",
       "      <td>1</td>\n",
       "      <td>Cardeza, Mr. Thomas Drake Martinez</td>\n",
       "      <td>male</td>\n",
       "      <td>36.0</td>\n",
       "      <td>0</td>\n",
       "      <td>1</td>\n",
       "      <td>PC 17755</td>\n",
       "      <td>512.3292</td>\n",
       "      <td>B51 B53 B55</td>\n",
       "      <td>C</td>\n",
       "    </tr>\n",
       "    <tr>\n",
       "      <th>737</th>\n",
       "      <td>738</td>\n",
       "      <td>1</td>\n",
       "      <td>1</td>\n",
       "      <td>Lesurer, Mr. Gustave J</td>\n",
       "      <td>male</td>\n",
       "      <td>35.0</td>\n",
       "      <td>0</td>\n",
       "      <td>0</td>\n",
       "      <td>PC 17755</td>\n",
       "      <td>512.3292</td>\n",
       "      <td>B101</td>\n",
       "      <td>C</td>\n",
       "    </tr>\n",
       "  </tbody>\n",
       "</table>\n",
       "</div>"
      ],
      "text/plain": [
       "     PassengerId  Survived  Pclass                                Name  \\\n",
       "258          259         1       1                    Ward, Miss. Anna   \n",
       "679          680         1       1  Cardeza, Mr. Thomas Drake Martinez   \n",
       "737          738         1       1              Lesurer, Mr. Gustave J   \n",
       "\n",
       "        Sex   Age  SibSp  Parch    Ticket      Fare        Cabin Embarked  \n",
       "258  female  35.0      0      0  PC 17755  512.3292          NaN        C  \n",
       "679    male  36.0      0      1  PC 17755  512.3292  B51 B53 B55        C  \n",
       "737    male  35.0      0      0  PC 17755  512.3292         B101        C  "
      ]
     },
     "execution_count": 6,
     "metadata": {},
     "output_type": "execute_result"
    }
   ],
   "source": [
    "train_data[train_data['Fare'] > 500]\n"
   ]
  },
  {
   "cell_type": "code",
   "execution_count": 7,
   "metadata": {
    "execution": {
     "iopub.execute_input": "2022-11-14T20:33:23.653891Z",
     "iopub.status.busy": "2022-11-14T20:33:23.652912Z",
     "iopub.status.idle": "2022-11-14T20:33:23.672240Z",
     "shell.execute_reply": "2022-11-14T20:33:23.672796Z",
     "shell.execute_reply.started": "2022-11-14T20:23:07.927458Z"
    },
    "papermill": {
     "duration": 0.073793,
     "end_time": "2022-11-14T20:33:23.672997",
     "exception": false,
     "start_time": "2022-11-14T20:33:23.599204",
     "status": "completed"
    },
    "tags": []
   },
   "outputs": [
    {
     "data": {
      "text/html": [
       "<div>\n",
       "<style scoped>\n",
       "    .dataframe tbody tr th:only-of-type {\n",
       "        vertical-align: middle;\n",
       "    }\n",
       "\n",
       "    .dataframe tbody tr th {\n",
       "        vertical-align: top;\n",
       "    }\n",
       "\n",
       "    .dataframe thead th {\n",
       "        text-align: right;\n",
       "    }\n",
       "</style>\n",
       "<table border=\"1\" class=\"dataframe\">\n",
       "  <thead>\n",
       "    <tr style=\"text-align: right;\">\n",
       "      <th></th>\n",
       "      <th>PassengerId</th>\n",
       "      <th>Survived</th>\n",
       "      <th>Pclass</th>\n",
       "      <th>Name</th>\n",
       "      <th>Sex</th>\n",
       "      <th>Age</th>\n",
       "      <th>SibSp</th>\n",
       "      <th>Parch</th>\n",
       "      <th>Ticket</th>\n",
       "      <th>Fare</th>\n",
       "      <th>Cabin</th>\n",
       "      <th>Embarked</th>\n",
       "    </tr>\n",
       "  </thead>\n",
       "  <tbody>\n",
       "    <tr>\n",
       "      <th>630</th>\n",
       "      <td>631</td>\n",
       "      <td>1</td>\n",
       "      <td>1</td>\n",
       "      <td>Barkworth, Mr. Algernon Henry Wilson</td>\n",
       "      <td>male</td>\n",
       "      <td>80.0</td>\n",
       "      <td>0</td>\n",
       "      <td>0</td>\n",
       "      <td>27042</td>\n",
       "      <td>30.0</td>\n",
       "      <td>A23</td>\n",
       "      <td>S</td>\n",
       "    </tr>\n",
       "  </tbody>\n",
       "</table>\n",
       "</div>"
      ],
      "text/plain": [
       "     PassengerId  Survived  Pclass                                  Name  \\\n",
       "630          631         1       1  Barkworth, Mr. Algernon Henry Wilson   \n",
       "\n",
       "      Sex   Age  SibSp  Parch Ticket  Fare Cabin Embarked  \n",
       "630  male  80.0      0      0  27042  30.0   A23        S  "
      ]
     },
     "execution_count": 7,
     "metadata": {},
     "output_type": "execute_result"
    }
   ],
   "source": [
    "train_data[train_data['Age']> 78]"
   ]
  },
  {
   "cell_type": "markdown",
   "metadata": {
    "papermill": {
     "duration": 0.050055,
     "end_time": "2022-11-14T20:33:23.775041",
     "exception": false,
     "start_time": "2022-11-14T20:33:23.724986",
     "status": "completed"
    },
    "tags": []
   },
   "source": [
    "A few fares over 500, check to see if there are any in the test data as well. I read a tiny bit about Mr. Algernon Barkworth and it seems he's just a lucky man, no additional insight there that I could tell. I have checked the test data as well, and we have another high value there as well."
   ]
  },
  {
   "cell_type": "code",
   "execution_count": 8,
   "metadata": {
    "execution": {
     "iopub.execute_input": "2022-11-14T20:33:23.880690Z",
     "iopub.status.busy": "2022-11-14T20:33:23.879978Z",
     "iopub.status.idle": "2022-11-14T20:33:23.895881Z",
     "shell.execute_reply": "2022-11-14T20:33:23.895163Z",
     "shell.execute_reply.started": "2022-11-14T20:23:07.945831Z"
    },
    "papermill": {
     "duration": 0.070564,
     "end_time": "2022-11-14T20:33:23.896036",
     "exception": false,
     "start_time": "2022-11-14T20:33:23.825472",
     "status": "completed"
    },
    "tags": []
   },
   "outputs": [
    {
     "data": {
      "text/html": [
       "<div>\n",
       "<style scoped>\n",
       "    .dataframe tbody tr th:only-of-type {\n",
       "        vertical-align: middle;\n",
       "    }\n",
       "\n",
       "    .dataframe tbody tr th {\n",
       "        vertical-align: top;\n",
       "    }\n",
       "\n",
       "    .dataframe thead th {\n",
       "        text-align: right;\n",
       "    }\n",
       "</style>\n",
       "<table border=\"1\" class=\"dataframe\">\n",
       "  <thead>\n",
       "    <tr style=\"text-align: right;\">\n",
       "      <th></th>\n",
       "      <th>PassengerId</th>\n",
       "      <th>Pclass</th>\n",
       "      <th>Name</th>\n",
       "      <th>Sex</th>\n",
       "      <th>Age</th>\n",
       "      <th>SibSp</th>\n",
       "      <th>Parch</th>\n",
       "      <th>Ticket</th>\n",
       "      <th>Fare</th>\n",
       "      <th>Cabin</th>\n",
       "      <th>Embarked</th>\n",
       "    </tr>\n",
       "  </thead>\n",
       "  <tbody>\n",
       "    <tr>\n",
       "      <th>343</th>\n",
       "      <td>1235</td>\n",
       "      <td>1</td>\n",
       "      <td>Cardeza, Mrs. James Warburton Martinez (Charlo...</td>\n",
       "      <td>female</td>\n",
       "      <td>58.0</td>\n",
       "      <td>0</td>\n",
       "      <td>1</td>\n",
       "      <td>PC 17755</td>\n",
       "      <td>512.3292</td>\n",
       "      <td>B51 B53 B55</td>\n",
       "      <td>C</td>\n",
       "    </tr>\n",
       "  </tbody>\n",
       "</table>\n",
       "</div>"
      ],
      "text/plain": [
       "     PassengerId  Pclass                                               Name  \\\n",
       "343         1235       1  Cardeza, Mrs. James Warburton Martinez (Charlo...   \n",
       "\n",
       "        Sex   Age  SibSp  Parch    Ticket      Fare        Cabin Embarked  \n",
       "343  female  58.0      0      1  PC 17755  512.3292  B51 B53 B55        C  "
      ]
     },
     "execution_count": 8,
     "metadata": {},
     "output_type": "execute_result"
    }
   ],
   "source": [
    "test_data[test_data['Fare']> 500]"
   ]
  },
  {
   "cell_type": "markdown",
   "metadata": {
    "papermill": {
     "duration": 0.049872,
     "end_time": "2022-11-14T20:33:23.997926",
     "exception": false,
     "start_time": "2022-11-14T20:33:23.948054",
     "status": "completed"
    },
    "tags": []
   },
   "source": [
    "I would like to deal with the missing values in age and fare. Lets take a quick look at a graph. Recall that all of the excessive fares are from first class."
   ]
  },
  {
   "cell_type": "code",
   "execution_count": 9,
   "metadata": {
    "execution": {
     "iopub.execute_input": "2022-11-14T20:33:24.123162Z",
     "iopub.status.busy": "2022-11-14T20:33:24.105206Z",
     "iopub.status.idle": "2022-11-14T20:33:24.287539Z",
     "shell.execute_reply": "2022-11-14T20:33:24.286942Z",
     "shell.execute_reply.started": "2022-11-14T20:23:07.970551Z"
    },
    "papermill": {
     "duration": 0.23959,
     "end_time": "2022-11-14T20:33:24.287703",
     "exception": false,
     "start_time": "2022-11-14T20:33:24.048113",
     "status": "completed"
    },
    "tags": []
   },
   "outputs": [
    {
     "data": {
      "text/plain": [
       "<AxesSubplot:title={'center':'Fare'}, xlabel='[Pclass]'>"
      ]
     },
     "execution_count": 9,
     "metadata": {},
     "output_type": "execute_result"
    },
    {
     "data": {
      "image/png": "[encoded data removed]",
      "text/plain": [
       "<Figure size 720x432 with 1 Axes>"
      ]
     },
     "metadata": {
      "needs_background": "light"
     },
     "output_type": "display_data"
    }
   ],
   "source": [
    "train_data[train_data['Fare'] < 500].boxplot(column = ['Fare'], by = ['Pclass'], figsize = (10,6))"
   ]
  },
  {
   "cell_type": "markdown",
   "metadata": {
    "papermill": {
     "duration": 0.051248,
     "end_time": "2022-11-14T20:33:24.391122",
     "exception": false,
     "start_time": "2022-11-14T20:33:24.339874",
     "status": "completed"
    },
    "tags": []
   },
   "source": [
    "The fare values seem to be very different for first class vs second or third class. Perhaps there's an argument for second and third class having different means as well. I am a little curious so lets take a look."
   ]
  },
  {
   "cell_type": "code",
   "execution_count": 10,
   "metadata": {
    "execution": {
     "iopub.execute_input": "2022-11-14T20:33:24.501847Z",
     "iopub.status.busy": "2022-11-14T20:33:24.500996Z",
     "iopub.status.idle": "2022-11-14T20:33:25.391378Z",
     "shell.execute_reply": "2022-11-14T20:33:25.392357Z",
     "shell.execute_reply.started": "2022-11-14T20:23:08.168468Z"
    },
    "papermill": {
     "duration": 0.948764,
     "end_time": "2022-11-14T20:33:25.392606",
     "exception": false,
     "start_time": "2022-11-14T20:33:24.443842",
     "status": "completed"
    },
    "tags": []
   },
   "outputs": [
    {
     "name": "stdout",
     "output_type": "stream",
     "text": [
      "20.66218315217391\n",
      "13.675550101832997\n"
     ]
    }
   ],
   "source": [
    "from scipy import stats\n",
    "\n",
    "test1 = train_data[\"Fare\"][train_data[\"Pclass\"] == 2]\n",
    "\n",
    "test2 = train_data[\"Fare\"][train_data[\"Pclass\"] == 3]\n",
    "\n",
    "stats.ttest_ind(test1,test2, equal_var = False)\n",
    "\n",
    "print(test1.mean())\n",
    "print(test2.mean())\n"
   ]
  },
  {
   "cell_type": "markdown",
   "metadata": {
    "papermill": {
     "duration": 0.051301,
     "end_time": "2022-11-14T20:33:25.498100",
     "exception": false,
     "start_time": "2022-11-14T20:33:25.446799",
     "status": "completed"
    },
    "tags": []
   },
   "source": [
    "So lets replace some of these values. I will replace any missing fares with the mean from the respective class for that individual. For example, if the fare is missing but I know the passenger was in second class, I would replace it with 20.66."
   ]
  },
  {
   "cell_type": "code",
   "execution_count": 11,
   "metadata": {
    "execution": {
     "iopub.execute_input": "2022-11-14T20:33:25.606016Z",
     "iopub.status.busy": "2022-11-14T20:33:25.605272Z",
     "iopub.status.idle": "2022-11-14T20:33:25.614373Z",
     "shell.execute_reply": "2022-11-14T20:33:25.613720Z",
     "shell.execute_reply.started": "2022-11-14T20:23:09.038907Z"
    },
    "papermill": {
     "duration": 0.064916,
     "end_time": "2022-11-14T20:33:25.614550",
     "exception": false,
     "start_time": "2022-11-14T20:33:25.549634",
     "status": "completed"
    },
    "tags": []
   },
   "outputs": [],
   "source": [
    "train_data[\"Fare\"].replace({ 512.3292 : train_data[\"Fare\"][train_data[\"Pclass\"]==1].mean()}, inplace=True)\n",
    "test_data[\"Fare\"].replace({ 512.3292 : train_data[\"Fare\"][train_data[\"Pclass\"]==1].mean()}, inplace=True)"
   ]
  },
  {
   "cell_type": "code",
   "execution_count": 12,
   "metadata": {
    "execution": {
     "iopub.execute_input": "2022-11-14T20:33:25.726471Z",
     "iopub.status.busy": "2022-11-14T20:33:25.725772Z",
     "iopub.status.idle": "2022-11-14T20:33:25.728594Z",
     "shell.execute_reply": "2022-11-14T20:33:25.728032Z",
     "shell.execute_reply.started": "2022-11-14T20:23:09.049134Z"
    },
    "papermill": {
     "duration": 0.061426,
     "end_time": "2022-11-14T20:33:25.728763",
     "exception": false,
     "start_time": "2022-11-14T20:33:25.667337",
     "status": "completed"
    },
    "tags": []
   },
   "outputs": [],
   "source": [
    "test_data[\"Fare\"].replace({ np.nan : train_data[\"Fare\"][train_data[\"Pclass\"]==3].mean()}, inplace=True)"
   ]
  },
  {
   "cell_type": "markdown",
   "metadata": {
    "papermill": {
     "duration": 0.0515,
     "end_time": "2022-11-14T20:33:25.832469",
     "exception": false,
     "start_time": "2022-11-14T20:33:25.780969",
     "status": "completed"
    },
    "tags": []
   },
   "source": [
    "And we can fill in the missing ages as the average. But again, maybe we can check if there is a difference between the ages based off of the Pclass feature.\n",
    "\n",
    "### Mapping the Title feature\n",
    "\n",
    "I will also use a strategy from [Peter Biggle](https://medium.com/i-like-big-data-and-i-cannot-lie/how-i-scored-in-the-top-9-of-kaggles-titanic-machine-learning-challenge-243b5f45c8e9) outlined on his blog post to deal with the name categories. \n",
    "\n",
    "A basic check to see differences by ticket class, then we will split the prefixes of the names into its own feature."
   ]
  },
  {
   "cell_type": "code",
   "execution_count": 13,
   "metadata": {
    "execution": {
     "iopub.execute_input": "2022-11-14T20:33:25.961811Z",
     "iopub.status.busy": "2022-11-14T20:33:25.958271Z",
     "iopub.status.idle": "2022-11-14T20:33:26.143804Z",
     "shell.execute_reply": "2022-11-14T20:33:26.144291Z",
     "shell.execute_reply.started": "2022-11-14T20:23:09.066781Z"
    },
    "papermill": {
     "duration": 0.260597,
     "end_time": "2022-11-14T20:33:26.144507",
     "exception": false,
     "start_time": "2022-11-14T20:33:25.883910",
     "status": "completed"
    },
    "tags": []
   },
   "outputs": [
    {
     "name": "stdout",
     "output_type": "stream",
     "text": [
      "38.233440860215055\n",
      "29.87763005780347\n",
      "25.14061971830986\n"
     ]
    },
    {
     "data": {
      "image/png": "[encoded data removed]",
      "text/plain": [
       "<Figure size 720x432 with 1 Axes>"
      ]
     },
     "metadata": {
      "needs_background": "light"
     },
     "output_type": "display_data"
    }
   ],
   "source": [
    "train_data.boxplot(column = ['Age'], by = ['Pclass'], figsize = (10,6))\n",
    "\n",
    "for i in range(3):\n",
    "    print(train_data[\"Age\"][train_data[\"Pclass\"] == (i+1)].mean())"
   ]
  },
  {
   "cell_type": "code",
   "execution_count": 14,
   "metadata": {
    "execution": {
     "iopub.execute_input": "2022-11-14T20:33:26.260263Z",
     "iopub.status.busy": "2022-11-14T20:33:26.259580Z",
     "iopub.status.idle": "2022-11-14T20:33:26.265725Z",
     "shell.execute_reply": "2022-11-14T20:33:26.266196Z",
     "shell.execute_reply.started": "2022-11-14T20:23:09.278968Z"
    },
    "papermill": {
     "duration": 0.067356,
     "end_time": "2022-11-14T20:33:26.266413",
     "exception": false,
     "start_time": "2022-11-14T20:33:26.199057",
     "status": "completed"
    },
    "tags": []
   },
   "outputs": [
    {
     "data": {
      "text/plain": [
       "Mr              517\n",
       "Miss            182\n",
       "Mrs             125\n",
       "Master           40\n",
       "Dr                7\n",
       "Rev               6\n",
       "Col               2\n",
       "Mlle              2\n",
       "Major             2\n",
       "Jonkheer          1\n",
       "Mme               1\n",
       "Sir               1\n",
       "Don               1\n",
       "Capt              1\n",
       "Ms                1\n",
       "Lady              1\n",
       "the Countess      1\n",
       "Name: Title, dtype: int64"
      ]
     },
     "execution_count": 14,
     "metadata": {},
     "output_type": "execute_result"
    }
   ],
   "source": [
    "train_data['Title'] = train_data.Name.apply(lambda name: name.split(',')[1].split('.')[0].strip())\n",
    "train_data.Title.value_counts()"
   ]
  },
  {
   "cell_type": "code",
   "execution_count": 15,
   "metadata": {
    "execution": {
     "iopub.execute_input": "2022-11-14T20:33:26.381128Z",
     "iopub.status.busy": "2022-11-14T20:33:26.380493Z",
     "iopub.status.idle": "2022-11-14T20:33:26.386739Z",
     "shell.execute_reply": "2022-11-14T20:33:26.386059Z",
     "shell.execute_reply.started": "2022-11-14T20:23:09.293960Z"
    },
    "papermill": {
     "duration": 0.066917,
     "end_time": "2022-11-14T20:33:26.386897",
     "exception": false,
     "start_time": "2022-11-14T20:33:26.319980",
     "status": "completed"
    },
    "tags": []
   },
   "outputs": [
    {
     "data": {
      "text/plain": [
       "Mr        240\n",
       "Miss       78\n",
       "Mrs        72\n",
       "Master     21\n",
       "Rev         2\n",
       "Col         2\n",
       "Ms          1\n",
       "Dona        1\n",
       "Dr          1\n",
       "Name: Title, dtype: int64"
      ]
     },
     "execution_count": 15,
     "metadata": {},
     "output_type": "execute_result"
    }
   ],
   "source": [
    "test_data['Title'] = test_data.Name.apply(lambda name: name.split(',')[1].split('.')[0].strip())\n",
    "test_data.Title.value_counts()"
   ]
  },
  {
   "cell_type": "code",
   "execution_count": 16,
   "metadata": {
    "execution": {
     "iopub.execute_input": "2022-11-14T20:33:26.504529Z",
     "iopub.status.busy": "2022-11-14T20:33:26.503761Z",
     "iopub.status.idle": "2022-11-14T20:33:26.506371Z",
     "shell.execute_reply": "2022-11-14T20:33:26.506968Z",
     "shell.execute_reply.started": "2022-11-14T20:23:09.308735Z"
    },
    "papermill": {
     "duration": 0.065762,
     "end_time": "2022-11-14T20:33:26.507144",
     "exception": false,
     "start_time": "2022-11-14T20:33:26.441382",
     "status": "completed"
    },
    "tags": []
   },
   "outputs": [],
   "source": [
    "#And now a map for normalized names.\n",
    "\n",
    "normalized_titles = {\n",
    "    \"Capt\":       \"Officer\",\n",
    "    \"Col\":        \"Officer\",\n",
    "    \"Major\":      \"Officer\",\n",
    "    \"Jonkheer\":   \"Royal\",\n",
    "    \"Don\":        \"Royal\",\n",
    "    \"Sir\" :       \"Royal\",\n",
    "    \"Dr\":         \"Officer\",\n",
    "    \"Rev\":        \"Officer\",\n",
    "    \"the Countess\":\"Royal\",\n",
    "    \"Dona\":       \"Royal\",\n",
    "    \"Mme\":        \"Mrs\",\n",
    "    \"Mlle\":       \"Miss\",\n",
    "    \"Ms\":         \"Mrs\",\n",
    "    \"Mr\" :        \"Mr\",\n",
    "    \"Mrs\" :       \"Mrs\",\n",
    "    \"Miss\" :      \"Miss\",\n",
    "    \"Master\" :    \"Master\",\n",
    "    \"Lady\" :      \"Royal\"\n",
    "}\n",
    "\n",
    "# map the normalized titles to the current titles for train and test data.\n",
    "train_data.Title = train_data.Title.map(normalized_titles)\n",
    "test_data.Title = test_data.Title.map(normalized_titles)"
   ]
  },
  {
   "cell_type": "markdown",
   "metadata": {
    "papermill": {
     "duration": 0.055002,
     "end_time": "2022-11-14T20:33:26.616743",
     "exception": false,
     "start_time": "2022-11-14T20:33:26.561741",
     "status": "completed"
    },
    "tags": []
   },
   "source": [
    "Okay we now have titles in order to pull some information from the name feature. We can use the titles and the Pclass feature to better input an age for each missing age."
   ]
  },
  {
   "cell_type": "code",
   "execution_count": 17,
   "metadata": {
    "execution": {
     "iopub.execute_input": "2022-11-14T20:33:26.726844Z",
     "iopub.status.busy": "2022-11-14T20:33:26.726150Z",
     "iopub.status.idle": "2022-11-14T20:33:26.739034Z",
     "shell.execute_reply": "2022-11-14T20:33:26.739593Z",
     "shell.execute_reply.started": "2022-11-14T20:23:09.322587Z"
    },
    "papermill": {
     "duration": 0.069392,
     "end_time": "2022-11-14T20:33:26.739774",
     "exception": false,
     "start_time": "2022-11-14T20:33:26.670382",
     "status": "completed"
    },
    "tags": []
   },
   "outputs": [
    {
     "data": {
      "text/plain": [
       "Sex     Pclass  Title  \n",
       "female  1       Miss       30.0\n",
       "                Mrs        40.0\n",
       "                Officer    49.0\n",
       "                Royal      40.5\n",
       "        2       Miss       24.0\n",
       "                Mrs        31.5\n",
       "        3       Miss       18.0\n",
       "                Mrs        31.0\n",
       "male    1       Master      4.0\n",
       "                Mr         40.0\n",
       "                Officer    51.0\n",
       "                Royal      40.0\n",
       "        2       Master      1.0\n",
       "                Mr         31.0\n",
       "                Officer    46.5\n",
       "        3       Master      4.0\n",
       "                Mr         26.0\n",
       "Name: Age, dtype: float64"
      ]
     },
     "execution_count": 17,
     "metadata": {},
     "output_type": "execute_result"
    }
   ],
   "source": [
    "# group by Sex, Pclass, and Title \n",
    "grouped = train_data.groupby(['Sex','Pclass', 'Title'])  # view the median Age by the grouped features \n",
    "grouped.Age.median()"
   ]
  },
  {
   "cell_type": "code",
   "execution_count": 18,
   "metadata": {
    "execution": {
     "iopub.execute_input": "2022-11-14T20:33:26.850577Z",
     "iopub.status.busy": "2022-11-14T20:33:26.849927Z",
     "iopub.status.idle": "2022-11-14T20:33:26.870307Z",
     "shell.execute_reply": "2022-11-14T20:33:26.869527Z",
     "shell.execute_reply.started": "2022-11-14T20:23:09.344623Z"
    },
    "papermill": {
     "duration": 0.076874,
     "end_time": "2022-11-14T20:33:26.870510",
     "exception": false,
     "start_time": "2022-11-14T20:33:26.793636",
     "status": "completed"
    },
    "tags": []
   },
   "outputs": [],
   "source": [
    "#fill the missing values with the information from the training data\n",
    "\n",
    "test_data.Age = grouped.Age.apply(lambda x: x.fillna(x.median()))\n",
    "train_data.Age = grouped.Age.apply(lambda x: x.fillna(x.median()))"
   ]
  },
  {
   "cell_type": "code",
   "execution_count": 19,
   "metadata": {
    "execution": {
     "iopub.execute_input": "2022-11-14T20:33:26.984119Z",
     "iopub.status.busy": "2022-11-14T20:33:26.983172Z",
     "iopub.status.idle": "2022-11-14T20:33:26.992180Z",
     "shell.execute_reply": "2022-11-14T20:33:26.992749Z",
     "shell.execute_reply.started": "2022-11-14T20:23:09.366653Z"
    },
    "papermill": {
     "duration": 0.066352,
     "end_time": "2022-11-14T20:33:26.992930",
     "exception": false,
     "start_time": "2022-11-14T20:33:26.926578",
     "status": "completed"
    },
    "tags": []
   },
   "outputs": [
    {
     "data": {
      "text/plain": [
       "PassengerId      0\n",
       "Survived         0\n",
       "Pclass           0\n",
       "Name             0\n",
       "Sex              0\n",
       "Age              0\n",
       "SibSp            0\n",
       "Parch            0\n",
       "Ticket           0\n",
       "Fare             0\n",
       "Cabin          687\n",
       "Embarked         2\n",
       "Title            0\n",
       "dtype: int64"
      ]
     },
     "execution_count": 19,
     "metadata": {},
     "output_type": "execute_result"
    }
   ],
   "source": [
    "#check the missing values again.\n",
    "train_data.isna().sum()"
   ]
  },
  {
   "cell_type": "code",
   "execution_count": 20,
   "metadata": {
    "execution": {
     "iopub.execute_input": "2022-11-14T20:33:27.104472Z",
     "iopub.status.busy": "2022-11-14T20:33:27.103515Z",
     "iopub.status.idle": "2022-11-14T20:33:27.112029Z",
     "shell.execute_reply": "2022-11-14T20:33:27.112603Z",
     "shell.execute_reply.started": "2022-11-14T20:23:09.377588Z"
    },
    "papermill": {
     "duration": 0.06619,
     "end_time": "2022-11-14T20:33:27.112783",
     "exception": false,
     "start_time": "2022-11-14T20:33:27.046593",
     "status": "completed"
    },
    "tags": []
   },
   "outputs": [
    {
     "data": {
      "text/plain": [
       "PassengerId      0\n",
       "Pclass           0\n",
       "Name             0\n",
       "Sex              0\n",
       "Age              0\n",
       "SibSp            0\n",
       "Parch            0\n",
       "Ticket           0\n",
       "Fare             0\n",
       "Cabin          327\n",
       "Embarked         0\n",
       "Title            0\n",
       "dtype: int64"
      ]
     },
     "execution_count": 20,
     "metadata": {},
     "output_type": "execute_result"
    }
   ],
   "source": [
    "test_data.isna().sum()"
   ]
  },
  {
   "cell_type": "markdown",
   "metadata": {
    "papermill": {
     "duration": 0.055186,
     "end_time": "2022-11-14T20:33:27.221919",
     "exception": false,
     "start_time": "2022-11-14T20:33:27.166733",
     "status": "completed"
    },
    "tags": []
   },
   "source": [
    "Continuous Features are accounted for so lets take a look at categorical features next.\n",
    "\n",
    "## Categorical Features\n",
    "\n",
    "We will need to map most of these to dummy variables, we also have lots of missing values for cabin which need to be addressed. Two values of the embarked feature are missing in the training set which will be mapped to the mode of the feature. I would like to keep the cabin feature as they may indicate relative position on the titanic (How close to life boats) and I would like to remove the ticket variable as I do not think there is anything of value there. \n"
   ]
  },
  {
   "cell_type": "code",
   "execution_count": 21,
   "metadata": {
    "execution": {
     "iopub.execute_input": "2022-11-14T20:33:27.334028Z",
     "iopub.status.busy": "2022-11-14T20:33:27.333346Z",
     "iopub.status.idle": "2022-11-14T20:33:27.498031Z",
     "shell.execute_reply": "2022-11-14T20:33:27.497279Z",
     "shell.execute_reply.started": "2022-11-14T20:23:09.394555Z"
    },
    "papermill": {
     "duration": 0.22189,
     "end_time": "2022-11-14T20:33:27.498186",
     "exception": false,
     "start_time": "2022-11-14T20:33:27.276296",
     "status": "completed"
    },
    "tags": []
   },
   "outputs": [],
   "source": [
    "from sklearn.preprocessing import LabelEncoder\n",
    "from sklearn.preprocessing import OneHotEncoder\n",
    "\n",
    "#initialize label endoce as first step.\n",
    "le = LabelEncoder()\n",
    "\n",
    "train_data[\"Sex\"] = le.fit_transform(train_data[\"Sex\"].values)\n",
    "test_data[\"Sex\"] = le.fit_transform(test_data[\"Sex\"].values)\n",
    "\n",
    "#This will give us 0, 1 for this category."
   ]
  },
  {
   "cell_type": "code",
   "execution_count": 22,
   "metadata": {
    "execution": {
     "iopub.execute_input": "2022-11-14T20:33:27.611590Z",
     "iopub.status.busy": "2022-11-14T20:33:27.610927Z",
     "iopub.status.idle": "2022-11-14T20:33:27.618171Z",
     "shell.execute_reply": "2022-11-14T20:33:27.618809Z",
     "shell.execute_reply.started": "2022-11-14T20:23:09.572919Z"
    },
    "papermill": {
     "duration": 0.066478,
     "end_time": "2022-11-14T20:33:27.619002",
     "exception": false,
     "start_time": "2022-11-14T20:33:27.552524",
     "status": "completed"
    },
    "tags": []
   },
   "outputs": [],
   "source": [
    "#Drop ticket\n",
    "train_data = train_data.drop(['Ticket'], axis=1)\n",
    "test_data = test_data.drop(['Ticket'], axis=1)"
   ]
  },
  {
   "cell_type": "code",
   "execution_count": 23,
   "metadata": {
    "execution": {
     "iopub.execute_input": "2022-11-14T20:33:27.733749Z",
     "iopub.status.busy": "2022-11-14T20:33:27.733029Z",
     "iopub.status.idle": "2022-11-14T20:33:27.738726Z",
     "shell.execute_reply": "2022-11-14T20:33:27.739289Z",
     "shell.execute_reply.started": "2022-11-14T20:23:09.584654Z"
    },
    "papermill": {
     "duration": 0.065054,
     "end_time": "2022-11-14T20:33:27.739494",
     "exception": false,
     "start_time": "2022-11-14T20:33:27.674440",
     "status": "completed"
    },
    "tags": []
   },
   "outputs": [],
   "source": [
    "#Fill cabin with U For unknown, then replace the variable with just the leading letter for rough location.\\.\n",
    "\n",
    "train_data.Cabin = train_data.Cabin.fillna('U')\n",
    "test_data.Cabin = test_data.Cabin.fillna('U')\n"
   ]
  },
  {
   "cell_type": "code",
   "execution_count": 24,
   "metadata": {
    "execution": {
     "iopub.execute_input": "2022-11-14T20:33:27.853955Z",
     "iopub.status.busy": "2022-11-14T20:33:27.853246Z",
     "iopub.status.idle": "2022-11-14T20:33:28.483594Z",
     "shell.execute_reply": "2022-11-14T20:33:28.484279Z",
     "shell.execute_reply.started": "2022-11-14T20:23:09.597798Z"
    },
    "papermill": {
     "duration": 0.688629,
     "end_time": "2022-11-14T20:33:28.484552",
     "exception": false,
     "start_time": "2022-11-14T20:33:27.795923",
     "status": "completed"
    },
    "tags": []
   },
   "outputs": [
    {
     "name": "stderr",
     "output_type": "stream",
     "text": [
      "/opt/conda/lib/python3.7/site-packages/ipykernel_launcher.py:3: SettingWithCopyWarning: \n",
      "A value is trying to be set on a copy of a slice from a DataFrame\n",
      "\n",
      "See the caveats in the documentation: https://pandas.pydata.org/pandas-docs/stable/user_guide/indexing.html#returning-a-view-versus-a-copy\n",
      "  This is separate from the ipykernel package so we can avoid doing imports until\n",
      "/opt/conda/lib/python3.7/site-packages/ipykernel_launcher.py:7: SettingWithCopyWarning: \n",
      "A value is trying to be set on a copy of a slice from a DataFrame\n",
      "\n",
      "See the caveats in the documentation: https://pandas.pydata.org/pandas-docs/stable/user_guide/indexing.html#returning-a-view-versus-a-copy\n",
      "  import sys\n"
     ]
    }
   ],
   "source": [
    "#We map all cabin values to just the leading letter to group them.\n",
    "for i in range(len(train_data.Cabin)):\n",
    "    train_data.Cabin[i] = train_data.Cabin[i][0]\n",
    "\n",
    "\n",
    "for j in range(len(test_data.Cabin)):\n",
    "    test_data.Cabin[j] = test_data.Cabin[j][0]"
   ]
  },
  {
   "cell_type": "code",
   "execution_count": 25,
   "metadata": {
    "execution": {
     "iopub.execute_input": "2022-11-14T20:33:28.606463Z",
     "iopub.status.busy": "2022-11-14T20:33:28.605728Z",
     "iopub.status.idle": "2022-11-14T20:33:28.608690Z",
     "shell.execute_reply": "2022-11-14T20:33:28.609141Z",
     "shell.execute_reply.started": "2022-11-14T20:23:10.342125Z"
    },
    "papermill": {
     "duration": 0.066572,
     "end_time": "2022-11-14T20:33:28.609373",
     "exception": false,
     "start_time": "2022-11-14T20:33:28.542801",
     "status": "completed"
    },
    "tags": []
   },
   "outputs": [],
   "source": [
    "#Take a look at the embarked feature.\n",
    "train_data[\"Embarked\"].value_counts()\n",
    "\n",
    "train_data[\"Cabin\"].replace({ \"T\" : 'U'}, inplace=True)"
   ]
  },
  {
   "cell_type": "code",
   "execution_count": 26,
   "metadata": {
    "execution": {
     "iopub.execute_input": "2022-11-14T20:33:28.724670Z",
     "iopub.status.busy": "2022-11-14T20:33:28.723896Z",
     "iopub.status.idle": "2022-11-14T20:33:28.732060Z",
     "shell.execute_reply": "2022-11-14T20:33:28.732596Z",
     "shell.execute_reply.started": "2022-11-14T20:23:10.350948Z"
    },
    "papermill": {
     "duration": 0.067423,
     "end_time": "2022-11-14T20:33:28.732784",
     "exception": false,
     "start_time": "2022-11-14T20:33:28.665361",
     "status": "completed"
    },
    "tags": []
   },
   "outputs": [
    {
     "data": {
      "text/plain": [
       "PassengerId    0\n",
       "Survived       0\n",
       "Pclass         0\n",
       "Name           0\n",
       "Sex            0\n",
       "Age            0\n",
       "SibSp          0\n",
       "Parch          0\n",
       "Fare           0\n",
       "Cabin          0\n",
       "Embarked       0\n",
       "Title          0\n",
       "dtype: int64"
      ]
     },
     "execution_count": 26,
     "metadata": {},
     "output_type": "execute_result"
    }
   ],
   "source": [
    "#S is the mode of the feature, so we will replace the two missing values with these.\n",
    "train_data[\"Embarked\"].replace({ np.nan : \"S\"}, inplace=True)\n",
    "\n",
    "#take a peek at the missing values left.\n",
    "train_data.isna().sum()"
   ]
  },
  {
   "cell_type": "code",
   "execution_count": 27,
   "metadata": {
    "execution": {
     "iopub.execute_input": "2022-11-14T20:33:28.849276Z",
     "iopub.status.busy": "2022-11-14T20:33:28.848606Z",
     "iopub.status.idle": "2022-11-14T20:33:28.856858Z",
     "shell.execute_reply": "2022-11-14T20:33:28.857407Z",
     "shell.execute_reply.started": "2022-11-14T20:23:10.368123Z"
    },
    "papermill": {
     "duration": 0.068095,
     "end_time": "2022-11-14T20:33:28.857634",
     "exception": false,
     "start_time": "2022-11-14T20:33:28.789539",
     "status": "completed"
    },
    "tags": []
   },
   "outputs": [
    {
     "data": {
      "text/plain": [
       "PassengerId    0\n",
       "Pclass         0\n",
       "Name           0\n",
       "Sex            0\n",
       "Age            0\n",
       "SibSp          0\n",
       "Parch          0\n",
       "Fare           0\n",
       "Cabin          0\n",
       "Embarked       0\n",
       "Title          0\n",
       "dtype: int64"
      ]
     },
     "execution_count": 27,
     "metadata": {},
     "output_type": "execute_result"
    }
   ],
   "source": [
    "test_data.isna().sum()"
   ]
  },
  {
   "cell_type": "markdown",
   "metadata": {
    "papermill": {
     "duration": 0.056282,
     "end_time": "2022-11-14T20:33:28.971940",
     "exception": false,
     "start_time": "2022-11-14T20:33:28.915658",
     "status": "completed"
    },
    "tags": []
   },
   "source": [
    "We have delt with all missing values. We will now use the label encoder to deal with cabin and embarked so we can use the onehotencoder. If we do not do this, our model may confused the variables with ordinal variables."
   ]
  },
  {
   "cell_type": "code",
   "execution_count": 28,
   "metadata": {
    "execution": {
     "iopub.execute_input": "2022-11-14T20:33:29.089204Z",
     "iopub.status.busy": "2022-11-14T20:33:29.088186Z",
     "iopub.status.idle": "2022-11-14T20:33:29.091687Z",
     "shell.execute_reply": "2022-11-14T20:33:29.090993Z",
     "shell.execute_reply.started": "2022-11-14T20:23:10.382672Z"
    },
    "papermill": {
     "duration": 0.064008,
     "end_time": "2022-11-14T20:33:29.091851",
     "exception": false,
     "start_time": "2022-11-14T20:33:29.027843",
     "status": "completed"
    },
    "tags": []
   },
   "outputs": [],
   "source": [
    "#I believe with pd get dummies this is not needed.\n",
    "#train_data[\"Cabin\"] = le.fit_transform(train_data[\"Cabin\"].values)\n",
    "#test_data[\"Cabin\"] = le.fit_transform(test_data[\"Cabin\"].values)\n",
    "\n",
    "#train_data[\"Embarked\"] = le.fit_transform(train_data[\"Embarked\"].values)\n",
    "#test_data[\"Embarked\"] = le.fit_transform(test_data[\"Embarked\"].values)"
   ]
  },
  {
   "cell_type": "code",
   "execution_count": 29,
   "metadata": {
    "execution": {
     "iopub.execute_input": "2022-11-14T20:33:29.225752Z",
     "iopub.status.busy": "2022-11-14T20:33:29.225008Z",
     "iopub.status.idle": "2022-11-14T20:33:29.227921Z",
     "shell.execute_reply": "2022-11-14T20:33:29.228452Z",
     "shell.execute_reply.started": "2022-11-14T20:30:57.195842Z"
    },
    "papermill": {
     "duration": 0.080889,
     "end_time": "2022-11-14T20:33:29.228635",
     "exception": false,
     "start_time": "2022-11-14T20:33:29.147746",
     "status": "completed"
    },
    "tags": []
   },
   "outputs": [
    {
     "data": {
      "text/html": [
       "<div>\n",
       "<style scoped>\n",
       "    .dataframe tbody tr th:only-of-type {\n",
       "        vertical-align: middle;\n",
       "    }\n",
       "\n",
       "    .dataframe tbody tr th {\n",
       "        vertical-align: top;\n",
       "    }\n",
       "\n",
       "    .dataframe thead th {\n",
       "        text-align: right;\n",
       "    }\n",
       "</style>\n",
       "<table border=\"1\" class=\"dataframe\">\n",
       "  <thead>\n",
       "    <tr style=\"text-align: right;\">\n",
       "      <th></th>\n",
       "      <th>PassengerId</th>\n",
       "      <th>Survived</th>\n",
       "      <th>Pclass</th>\n",
       "      <th>Name</th>\n",
       "      <th>Sex</th>\n",
       "      <th>Age</th>\n",
       "      <th>SibSp</th>\n",
       "      <th>Parch</th>\n",
       "      <th>Fare</th>\n",
       "      <th>Cabin</th>\n",
       "      <th>Embarked</th>\n",
       "      <th>Title</th>\n",
       "    </tr>\n",
       "  </thead>\n",
       "  <tbody>\n",
       "    <tr>\n",
       "      <th>0</th>\n",
       "      <td>1</td>\n",
       "      <td>0</td>\n",
       "      <td>3</td>\n",
       "      <td>Braund, Mr. Owen Harris</td>\n",
       "      <td>1</td>\n",
       "      <td>22.0</td>\n",
       "      <td>1</td>\n",
       "      <td>0</td>\n",
       "      <td>7.2500</td>\n",
       "      <td>U</td>\n",
       "      <td>S</td>\n",
       "      <td>Mr</td>\n",
       "    </tr>\n",
       "    <tr>\n",
       "      <th>1</th>\n",
       "      <td>2</td>\n",
       "      <td>1</td>\n",
       "      <td>1</td>\n",
       "      <td>Cumings, Mrs. John Bradley (Florence Briggs Th...</td>\n",
       "      <td>0</td>\n",
       "      <td>38.0</td>\n",
       "      <td>1</td>\n",
       "      <td>0</td>\n",
       "      <td>71.2833</td>\n",
       "      <td>C</td>\n",
       "      <td>C</td>\n",
       "      <td>Mrs</td>\n",
       "    </tr>\n",
       "    <tr>\n",
       "      <th>2</th>\n",
       "      <td>3</td>\n",
       "      <td>1</td>\n",
       "      <td>3</td>\n",
       "      <td>Heikkinen, Miss. Laina</td>\n",
       "      <td>0</td>\n",
       "      <td>26.0</td>\n",
       "      <td>0</td>\n",
       "      <td>0</td>\n",
       "      <td>7.9250</td>\n",
       "      <td>U</td>\n",
       "      <td>S</td>\n",
       "      <td>Miss</td>\n",
       "    </tr>\n",
       "    <tr>\n",
       "      <th>3</th>\n",
       "      <td>4</td>\n",
       "      <td>1</td>\n",
       "      <td>1</td>\n",
       "      <td>Futrelle, Mrs. Jacques Heath (Lily May Peel)</td>\n",
       "      <td>0</td>\n",
       "      <td>35.0</td>\n",
       "      <td>1</td>\n",
       "      <td>0</td>\n",
       "      <td>53.1000</td>\n",
       "      <td>C</td>\n",
       "      <td>S</td>\n",
       "      <td>Mrs</td>\n",
       "    </tr>\n",
       "    <tr>\n",
       "      <th>4</th>\n",
       "      <td>5</td>\n",
       "      <td>0</td>\n",
       "      <td>3</td>\n",
       "      <td>Allen, Mr. William Henry</td>\n",
       "      <td>1</td>\n",
       "      <td>35.0</td>\n",
       "      <td>0</td>\n",
       "      <td>0</td>\n",
       "      <td>8.0500</td>\n",
       "      <td>U</td>\n",
       "      <td>S</td>\n",
       "      <td>Mr</td>\n",
       "    </tr>\n",
       "  </tbody>\n",
       "</table>\n",
       "</div>"
      ],
      "text/plain": [
       "   PassengerId  Survived  Pclass  \\\n",
       "0            1         0       3   \n",
       "1            2         1       1   \n",
       "2            3         1       3   \n",
       "3            4         1       1   \n",
       "4            5         0       3   \n",
       "\n",
       "                                                Name  Sex   Age  SibSp  Parch  \\\n",
       "0                            Braund, Mr. Owen Harris    1  22.0      1      0   \n",
       "1  Cumings, Mrs. John Bradley (Florence Briggs Th...    0  38.0      1      0   \n",
       "2                             Heikkinen, Miss. Laina    0  26.0      0      0   \n",
       "3       Futrelle, Mrs. Jacques Heath (Lily May Peel)    0  35.0      1      0   \n",
       "4                           Allen, Mr. William Henry    1  35.0      0      0   \n",
       "\n",
       "      Fare Cabin Embarked Title  \n",
       "0   7.2500     U        S    Mr  \n",
       "1  71.2833     C        C   Mrs  \n",
       "2   7.9250     U        S  Miss  \n",
       "3  53.1000     C        S   Mrs  \n",
       "4   8.0500     U        S    Mr  "
      ]
     },
     "execution_count": 29,
     "metadata": {},
     "output_type": "execute_result"
    }
   ],
   "source": [
    "#here we can see we have encoded the labels to numeric values.\n",
    "train_data.head()"
   ]
  },
  {
   "cell_type": "markdown",
   "metadata": {
    "papermill": {
     "duration": 0.057227,
     "end_time": "2022-11-14T20:33:29.343275",
     "exception": false,
     "start_time": "2022-11-14T20:33:29.286048",
     "status": "completed"
    },
    "tags": []
   },
   "source": [
    "# Modeling\n",
    "Most problems seem to have been dealt with. Lets start feeding our dataset into some models."
   ]
  },
  {
   "cell_type": "code",
   "execution_count": 30,
   "metadata": {
    "execution": {
     "iopub.execute_input": "2022-11-14T20:33:29.466076Z",
     "iopub.status.busy": "2022-11-14T20:33:29.465361Z",
     "iopub.status.idle": "2022-11-14T20:33:29.765095Z",
     "shell.execute_reply": "2022-11-14T20:33:29.764294Z",
     "shell.execute_reply.started": "2022-11-14T20:23:10.421060Z"
    },
    "papermill": {
     "duration": 0.363417,
     "end_time": "2022-11-14T20:33:29.765248",
     "exception": false,
     "start_time": "2022-11-14T20:33:29.401831",
     "status": "completed"
    },
    "tags": []
   },
   "outputs": [],
   "source": [
    "#random forest\n",
    "from sklearn.ensemble import RandomForestClassifier\n",
    "\n",
    "y_train = train_data[\"Survived\"]\n",
    "\n",
    "\n",
    "features = [\"Pclass\", \"Sex\", \"Age\", \"Parch\",\"Fare\", \"SibSp\",\"Cabin\",\"Title\", \"Embarked\"]\n",
    "\n",
    "#Create dummy variables and drop one of them in order to reduce colinearity. (i.e. If we have a category with 3 possibilities, we only need two indicators, 1st and 2nd.\n",
    "# The absence of both will indicate the 3rd.)\n",
    "#This will \"Finalize\" our training set for the model.\n",
    "X_train = pd.get_dummies(train_data[features], drop_first = True)\n",
    "\n",
    "#We will do the same for the test set.\n",
    "X_test = pd.get_dummies(test_data[features], drop_first = True)\n",
    "\n",
    "#I would like to look at Feature importance for model selection\n",
    "\n",
    "feat_labels = X_train.columns[:]\n",
    "\n",
    "forest = RandomForestClassifier(n_estimators = 500, random_state = 1)\n"
   ]
  },
  {
   "cell_type": "code",
   "execution_count": 31,
   "metadata": {
    "execution": {
     "iopub.execute_input": "2022-11-14T20:33:29.887571Z",
     "iopub.status.busy": "2022-11-14T20:33:29.886862Z",
     "iopub.status.idle": "2022-11-14T20:33:31.253876Z",
     "shell.execute_reply": "2022-11-14T20:33:31.253171Z",
     "shell.execute_reply.started": "2022-11-14T20:23:10.725335Z"
    },
    "papermill": {
     "duration": 1.432571,
     "end_time": "2022-11-14T20:33:31.254027",
     "exception": false,
     "start_time": "2022-11-14T20:33:29.821456",
     "status": "completed"
    },
    "tags": []
   },
   "outputs": [
    {
     "name": "stdout",
     "output_type": "stream",
     "text": [
      " 1) Fare                           0.222739\n",
      " 2) Age                            0.213219\n",
      " 3) Title_Mr                       0.124203\n",
      " 4) Sex                            0.116385\n",
      " 5) Pclass                         0.065276\n",
      " 6) SibSp                          0.053681\n",
      " 7) Title_Mrs                      0.034173\n",
      " 8) Cabin_U                        0.032992\n",
      " 9) Parch                          0.032193\n",
      "10) Title_Miss                     0.032051\n",
      "11) Embarked_S                     0.019992\n",
      "12) Embarked_Q                     0.010988\n",
      "13) Cabin_E                        0.009200\n",
      "14) Title_Officer                  0.008207\n",
      "15) Cabin_C                        0.006835\n",
      "16) Cabin_B                        0.006663\n",
      "17) Cabin_D                        0.006495\n",
      "18) Cabin_F                        0.002118\n",
      "19) Cabin_G                        0.001486\n",
      "20) Title_Royal                    0.001102\n"
     ]
    },
    {
     "data": {
      "image/png": "[encoded data removed]",
      "text/plain": [
       "<Figure size 432x288 with 1 Axes>"
      ]
     },
     "metadata": {
      "needs_background": "light"
     },
     "output_type": "display_data"
    }
   ],
   "source": [
    "#This should be a good look at feature importance.\n",
    "forest.fit(X_train, y_train)\n",
    "\n",
    "importances = forest.feature_importances_\n",
    "\n",
    "indices = np.argsort(importances)[::-1]\n",
    "\n",
    "for f in range (X_train.shape[1]):\n",
    "    print(\"{:2}) {:30s} {:f}\".format(f+1, feat_labels[indices[f]],\n",
    "                            importances[indices[f]]))\n",
    "\n",
    "import matplotlib.pyplot as plt\n",
    "plt.title('feature importance')\n",
    "plt.bar(range(X_train.shape[1]), \n",
    "        importances[indices], \n",
    "        align='center')\n",
    "\n",
    "plt.xticks(range(X_train.shape[1]), \n",
    "           feat_labels[indices], rotation=90)\n",
    "plt.xlim([-1, X_train.shape[1]])\n",
    "plt.tight_layout()\n",
    "plt.show()"
   ]
  },
  {
   "cell_type": "markdown",
   "metadata": {
    "papermill": {
     "duration": 0.058586,
     "end_time": "2022-11-14T20:33:31.372714",
     "exception": false,
     "start_time": "2022-11-14T20:33:31.314128",
     "status": "completed"
    },
    "tags": []
   },
   "source": [
    "Feature importance is scaled to sum to one. For the random forest model I will simply include everything. Lets see how it fits.\n",
    "\n"
   ]
  },
  {
   "cell_type": "code",
   "execution_count": 32,
   "metadata": {
    "execution": {
     "iopub.execute_input": "2022-11-14T20:33:31.502308Z",
     "iopub.status.busy": "2022-11-14T20:33:31.497224Z",
     "iopub.status.idle": "2022-11-14T20:33:32.422592Z",
     "shell.execute_reply": "2022-11-14T20:33:32.421913Z",
     "shell.execute_reply.started": "2022-11-14T20:23:12.136363Z"
    },
    "papermill": {
     "duration": 0.991001,
     "end_time": "2022-11-14T20:33:32.422751",
     "exception": false,
     "start_time": "2022-11-14T20:33:31.431750",
     "status": "completed"
    },
    "tags": []
   },
   "outputs": [
    {
     "name": "stdout",
     "output_type": "stream",
     "text": [
      "Your submission was successfully saved!\n"
     ]
    }
   ],
   "source": [
    "#Finally we will fit and predict.\n",
    "model = RandomForestClassifier(n_estimators=500, max_depth=5)\n",
    "model.fit(X_train, y_train)\n",
    "predictions = model.predict(X_test)\n",
    "\n",
    "#and get the output\n",
    "output = pd.DataFrame({'PassengerId': test_data.PassengerId, 'Survived': predictions})\n",
    "output.to_csv('my_submission.csv', index=False)\n",
    "print(\"Your submission was successfully saved!\")"
   ]
  },
  {
   "cell_type": "markdown",
   "metadata": {
    "papermill": {
     "duration": 0.058878,
     "end_time": "2022-11-14T20:33:32.540524",
     "exception": false,
     "start_time": "2022-11-14T20:33:32.481646",
     "status": "completed"
    },
    "tags": []
   },
   "source": [
    "## Logistic Regression\n",
    "\n",
    "Lets work on a logistic regression model and use some new methods I have recently been studying. We will use the train-test-split function from sklearn so we can test our change in-house. This should allow us to rapidly assess changes we've made to our model.\n",
    "\n",
    "The idea here is that we will use these sets to get a closer look at the bias and variance of our model and see if we can't improve it before submitting. We have luckily done a large portion of the data manipulation earlier, so we should be able to make quick progress.\n",
    "\n",
    "Finally, after taking a look at the bias and variance, we will decide on whether to include polynomial or interaction terms."
   ]
  },
  {
   "cell_type": "code",
   "execution_count": 33,
   "metadata": {
    "execution": {
     "iopub.execute_input": "2022-11-14T20:33:32.664568Z",
     "iopub.status.busy": "2022-11-14T20:33:32.663883Z",
     "iopub.status.idle": "2022-11-14T20:33:32.688228Z",
     "shell.execute_reply": "2022-11-14T20:33:32.687577Z",
     "shell.execute_reply.started": "2022-11-14T20:23:13.084663Z"
    },
    "papermill": {
     "duration": 0.088845,
     "end_time": "2022-11-14T20:33:32.688418",
     "exception": false,
     "start_time": "2022-11-14T20:33:32.599573",
     "status": "completed"
    },
    "tags": []
   },
   "outputs": [
    {
     "name": "stdout",
     "output_type": "stream",
     "text": [
      "<class 'pandas.core.frame.DataFrame'>\n",
      "Int64Index: 623 entries, 231 to 80\n",
      "Data columns (total 20 columns):\n",
      " #   Column         Non-Null Count  Dtype  \n",
      "---  ------         --------------  -----  \n",
      " 0   Pclass         623 non-null    int64  \n",
      " 1   Sex            623 non-null    int64  \n",
      " 2   Age            623 non-null    float64\n",
      " 3   Parch          623 non-null    int64  \n",
      " 4   Fare           623 non-null    float64\n",
      " 5   SibSp          623 non-null    int64  \n",
      " 6   Cabin_B        623 non-null    uint8  \n",
      " 7   Cabin_C        623 non-null    uint8  \n",
      " 8   Cabin_D        623 non-null    uint8  \n",
      " 9   Cabin_E        623 non-null    uint8  \n",
      " 10  Cabin_F        623 non-null    uint8  \n",
      " 11  Cabin_G        623 non-null    uint8  \n",
      " 12  Cabin_U        623 non-null    uint8  \n",
      " 13  Title_Miss     623 non-null    uint8  \n",
      " 14  Title_Mr       623 non-null    uint8  \n",
      " 15  Title_Mrs      623 non-null    uint8  \n",
      " 16  Title_Officer  623 non-null    uint8  \n",
      " 17  Title_Royal    623 non-null    uint8  \n",
      " 18  Embarked_Q     623 non-null    uint8  \n",
      " 19  Embarked_S     623 non-null    uint8  \n",
      "dtypes: float64(2), int64(4), uint8(14)\n",
      "memory usage: 42.6 KB\n"
     ]
    }
   ],
   "source": [
    "from sklearn.model_selection import train_test_split\n",
    "\n",
    "X_train2, X_cv, y_train2, y_cv = train_test_split(X_train, y_train, test_size = 0.3, random_state = 0, stratify = y_train) \n",
    "\n",
    "X_train2.info()"
   ]
  },
  {
   "cell_type": "markdown",
   "metadata": {
    "papermill": {
     "duration": 0.057876,
     "end_time": "2022-11-14T20:33:32.804517",
     "exception": false,
     "start_time": "2022-11-14T20:33:32.746641",
     "status": "completed"
    },
    "tags": []
   },
   "source": [
    "So we've split the data, lets do some standardization on the features then throw it at the LR model."
   ]
  },
  {
   "cell_type": "code",
   "execution_count": 34,
   "metadata": {
    "execution": {
     "iopub.execute_input": "2022-11-14T20:33:32.926299Z",
     "iopub.status.busy": "2022-11-14T20:33:32.925583Z",
     "iopub.status.idle": "2022-11-14T20:33:32.939583Z",
     "shell.execute_reply": "2022-11-14T20:33:32.940143Z",
     "shell.execute_reply.started": "2022-11-14T20:23:13.109480Z"
    },
    "papermill": {
     "duration": 0.077646,
     "end_time": "2022-11-14T20:33:32.940354",
     "exception": false,
     "start_time": "2022-11-14T20:33:32.862708",
     "status": "completed"
    },
    "tags": []
   },
   "outputs": [],
   "source": [
    "#First standardization\n",
    "from sklearn.preprocessing import StandardScaler\n",
    "stdsc = StandardScaler()\n",
    "X_train_std = stdsc.fit_transform(X_train2)\n",
    "X_cv_std = stdsc.fit_transform(X_cv)\n"
   ]
  },
  {
   "cell_type": "code",
   "execution_count": 35,
   "metadata": {
    "execution": {
     "iopub.execute_input": "2022-11-14T20:33:33.059751Z",
     "iopub.status.busy": "2022-11-14T20:33:33.059053Z",
     "iopub.status.idle": "2022-11-14T20:33:33.085104Z",
     "shell.execute_reply": "2022-11-14T20:33:33.084358Z",
     "shell.execute_reply.started": "2022-11-14T20:23:13.126870Z"
    },
    "papermill": {
     "duration": 0.086799,
     "end_time": "2022-11-14T20:33:33.085270",
     "exception": false,
     "start_time": "2022-11-14T20:33:32.998471",
     "status": "completed"
    },
    "tags": []
   },
   "outputs": [
    {
     "data": {
      "text/plain": [
       "LogisticRegression(C=3, max_iter=500)"
      ]
     },
     "execution_count": 35,
     "metadata": {},
     "output_type": "execute_result"
    }
   ],
   "source": [
    "#Let logistic regression with L2 regularization have a go, Start with the regularzation parameter C = 1.\n",
    "from sklearn.linear_model import LogisticRegression\n",
    "lr = LogisticRegression(penalty = \"l2\", C = 3, max_iter = 500)\n",
    "\n",
    "lr.fit(X_train_std, y_train2)\n"
   ]
  },
  {
   "cell_type": "code",
   "execution_count": 36,
   "metadata": {
    "execution": {
     "iopub.execute_input": "2022-11-14T20:33:33.210682Z",
     "iopub.status.busy": "2022-11-14T20:33:33.209628Z",
     "iopub.status.idle": "2022-11-14T20:33:33.347224Z",
     "shell.execute_reply": "2022-11-14T20:33:33.346678Z",
     "shell.execute_reply.started": "2022-11-14T20:23:13.156891Z"
    },
    "papermill": {
     "duration": 0.203951,
     "end_time": "2022-11-14T20:33:33.347438",
     "exception": false,
     "start_time": "2022-11-14T20:33:33.143487",
     "status": "completed"
    },
    "tags": []
   },
   "outputs": [
    {
     "name": "stdout",
     "output_type": "stream",
     "text": [
      "LR Training accuracy: 0.841091492776886\n",
      "LR Cross Validation Accuracy 0.832089552238806\n",
      "RF Training accuracy: 0.8362760834670947\n",
      "RF Cross Validation Accuracy 0.8619402985074627\n"
     ]
    }
   ],
   "source": [
    "print(\"LR Training accuracy:\", lr.score(X_train_std, y_train2))\n",
    "print(\"LR Cross Validation Accuracy\", lr.score(X_cv_std, y_cv))\n",
    "\n",
    "#For fun, lets see how the RF did in-house.\n",
    "print(\"RF Training accuracy:\", model.score(X_train2, y_train2))\n",
    "print(\"RF Cross Validation Accuracy\", model.score(X_cv, y_cv))\n"
   ]
  },
  {
   "cell_type": "markdown",
   "metadata": {
    "papermill": {
     "duration": 0.058163,
     "end_time": "2022-11-14T20:33:33.464999",
     "exception": false,
     "start_time": "2022-11-14T20:33:33.406836",
     "status": "completed"
    },
    "tags": []
   },
   "source": [
    "It seems like we have decent performance from the LR model, but as of now it is still out-performed by the random forest. Lets adjust C and see if we can't get a better fit, then we can try adding interaction and/or polynomial features."
   ]
  },
  {
   "cell_type": "code",
   "execution_count": 37,
   "metadata": {
    "execution": {
     "iopub.execute_input": "2022-11-14T20:33:33.586544Z",
     "iopub.status.busy": "2022-11-14T20:33:33.585084Z",
     "iopub.status.idle": "2022-11-14T20:33:33.594233Z",
     "shell.execute_reply": "2022-11-14T20:33:33.594919Z",
     "shell.execute_reply.started": "2022-11-14T20:23:13.303374Z"
    },
    "papermill": {
     "duration": 0.071514,
     "end_time": "2022-11-14T20:33:33.595111",
     "exception": false,
     "start_time": "2022-11-14T20:33:33.523597",
     "status": "completed"
    },
    "tags": []
   },
   "outputs": [],
   "source": [
    "def validationCurve(X, y, Xcv, ycv):\n",
    "    \"\"\"\n",
    "    Generate the train and validation errors needed to plot a validation\n",
    "    curve that we can use to select C.\n",
    "    \n",
    "    Parameters\n",
    "    ----------\n",
    "    X : array_like\n",
    "        The training dataset. Matrix with shape (m x n) where m is the \n",
    "        total number of training examples, and n is the number of features \n",
    "        including any polynomial features.\n",
    "    \n",
    "    y : array_like\n",
    "        The functions values at each training datapoint. A vector of\n",
    "        shape (m, ).\n",
    "    \n",
    "    Xval : array_like\n",
    "        The validation dataset. Matrix with shape (m_val x n) where m is the \n",
    "        total number of validation examples, and n is the number of features \n",
    "        including any polynomial features.\n",
    "    \n",
    "    yval : array_like\n",
    "        The functions values at each validation datapoint. A vector of\n",
    "        shape (m_val, ).\n",
    "    \n",
    "    Returns\n",
    "    -------\n",
    "    lambda_vec : list\n",
    "        The values of the regularization parameters which were used in \n",
    "        cross validation.\n",
    "    \n",
    "    error_train : list\n",
    "        The training error computed at each value for the regularization\n",
    "        parameter.\n",
    "    \n",
    "    error_val : list\n",
    "        The validation error computed at each value for the regularization\n",
    "        parameter.\n",
    "\n",
    "    \"\"\"\n",
    "    # Selected values of C\n",
    "    C = [0.001, 0.003, 0.01, 0.03, 0.1, 0.3, 1, 3, 10]\n",
    "    #initialize the array for the errors.\n",
    "    error_train = np.zeros(len(C))\n",
    "    error_cv = np.zeros(len(C))\n",
    "\n",
    "    #=====================================\n",
    "    #This will take an LR model for each value of C in our array.\n",
    "    \n",
    "    for i in range(len(C)):\n",
    "        c = C[i]\n",
    "        lr = LogisticRegression(penalty = \"l2\", C = c, max_iter = 500)\n",
    "        lr.fit(X, y)\n",
    "        error_train[i] = 1 - lr.score(X, y)\n",
    "        error_cv[i] = 1 - lr.score(Xcv, ycv)\n",
    "    # ============================================================\n",
    "    return C, error_train, error_cv"
   ]
  },
  {
   "cell_type": "code",
   "execution_count": 38,
   "metadata": {
    "execution": {
     "iopub.execute_input": "2022-11-14T20:33:33.716424Z",
     "iopub.status.busy": "2022-11-14T20:33:33.715460Z",
     "iopub.status.idle": "2022-11-14T20:33:33.962446Z",
     "shell.execute_reply": "2022-11-14T20:33:33.961742Z",
     "shell.execute_reply.started": "2022-11-14T20:23:13.313817Z"
    },
    "papermill": {
     "duration": 0.308844,
     "end_time": "2022-11-14T20:33:33.962604",
     "exception": false,
     "start_time": "2022-11-14T20:33:33.653760",
     "status": "completed"
    },
    "tags": []
   },
   "outputs": [
    {
     "name": "stdout",
     "output_type": "stream",
     "text": [
      "lambda\t\tTrain Error\tValidation Error\n",
      " 0.001000\t0.279294\t0.276119\n",
      " 0.003000\t0.186196\t0.186567\n",
      " 0.010000\t0.184591\t0.182836\n",
      " 0.030000\t0.176565\t0.182836\n",
      " 0.100000\t0.162119\t0.175373\n",
      " 0.300000\t0.157303\t0.175373\n",
      " 1.000000\t0.158909\t0.171642\n",
      " 3.000000\t0.158909\t0.167910\n",
      " 10.000000\t0.160514\t0.167910\n"
     ]
    },
    {
     "data": {
      "image/png": "[encoded data removed]",
      "text/plain": [
       "<Figure size 432x288 with 1 Axes>"
      ]
     },
     "metadata": {
      "needs_background": "light"
     },
     "output_type": "display_data"
    }
   ],
   "source": [
    "#Now lets see if we can't plot it.\n",
    "C, error_train, error_cv = validationCurve(X_train_std, y_train2, X_cv_std, y_cv)\n",
    "\n",
    "plt.plot(C, error_train, '-o', C, error_cv, '-o', lw=2)\n",
    "plt.legend(['Train', 'Cross Validation'])\n",
    "plt.xlabel('C')\n",
    "plt.ylabel('Error')\n",
    "\n",
    "print('lambda\\t\\tTrain Error\\tValidation Error')\n",
    "for i in range(len(C)):\n",
    "    print(' %f\\t%f\\t%f' % (C[i], error_train[i], error_cv[i])) "
   ]
  },
  {
   "cell_type": "markdown",
   "metadata": {
    "papermill": {
     "duration": 0.059367,
     "end_time": "2022-11-14T20:33:34.081259",
     "exception": false,
     "start_time": "2022-11-14T20:33:34.021892",
     "status": "completed"
    },
    "tags": []
   },
   "source": [
    "Alright, we see that we can seemingly increase our accuracy by using C = 3.0 vs C = 1.0. By a whopping ~0.004. Lets throw a bunch of variables at this and try again.\n",
    "\n",
    "We will include all polynomial terms of two degrees. That is xi^2 and xi\\*xj for all i != j. This will include all interaction terms for the explanatory variables. "
   ]
  },
  {
   "cell_type": "code",
   "execution_count": 39,
   "metadata": {
    "execution": {
     "iopub.execute_input": "2022-11-14T20:33:34.210479Z",
     "iopub.status.busy": "2022-11-14T20:33:34.207570Z",
     "iopub.status.idle": "2022-11-14T20:33:34.226702Z",
     "shell.execute_reply": "2022-11-14T20:33:34.226005Z",
     "shell.execute_reply.started": "2022-11-14T20:23:13.589178Z"
    },
    "papermill": {
     "duration": 0.08649,
     "end_time": "2022-11-14T20:33:34.226854",
     "exception": false,
     "start_time": "2022-11-14T20:33:34.140364",
     "status": "completed"
    },
    "tags": []
   },
   "outputs": [
    {
     "data": {
      "text/plain": [
       "231"
      ]
     },
     "execution_count": 39,
     "metadata": {},
     "output_type": "execute_result"
    }
   ],
   "source": [
    "#Get the polynomial features from the data set. 2 degrees.\n",
    "from sklearn.preprocessing import PolynomialFeatures\n",
    "#poly = PolynomialFeatures(degree = 2, interaction_only = True)\n",
    "poly = PolynomialFeatures(degree = 2)\n",
    "\n",
    "#Fit the features on the training data before standardization, then we'll standardize after.\n",
    "X_train_poly = poly.fit_transform(X_train2)\n",
    "X_cv_poly = poly.fit_transform(X_cv)\n",
    "\n",
    "#And standardize.\n",
    "X_train_stdpoly = stdsc.fit_transform(X_train_poly)\n",
    "X_cv_stdpoly = stdsc.fit_transform(X_cv_poly)\n",
    "\n",
    "#take a peek. #We see 231 explanatory features now.\n",
    "X_train_poly.shape[1]"
   ]
  },
  {
   "cell_type": "markdown",
   "metadata": {
    "papermill": {
     "duration": 0.058961,
     "end_time": "2022-11-14T20:33:34.345018",
     "exception": false,
     "start_time": "2022-11-14T20:33:34.286057",
     "status": "completed"
    },
    "tags": []
   },
   "source": [
    "Lets feed this back into our ValidationCurve function and see if we can find a good value for C."
   ]
  },
  {
   "cell_type": "code",
   "execution_count": 40,
   "metadata": {
    "execution": {
     "iopub.execute_input": "2022-11-14T20:33:34.473007Z",
     "iopub.status.busy": "2022-11-14T20:33:34.471615Z",
     "iopub.status.idle": "2022-11-14T20:33:35.261719Z",
     "shell.execute_reply": "2022-11-14T20:33:35.261088Z",
     "shell.execute_reply.started": "2022-11-14T20:23:13.615282Z"
    },
    "papermill": {
     "duration": 0.857619,
     "end_time": "2022-11-14T20:33:35.261884",
     "exception": false,
     "start_time": "2022-11-14T20:33:34.404265",
     "status": "completed"
    },
    "tags": []
   },
   "outputs": [
    {
     "name": "stdout",
     "output_type": "stream",
     "text": [
      "lambda\t\tTrain Error\tValidation Error\n",
      " 0.001000\t0.181380\t0.190299\n",
      " 0.003000\t0.168539\t0.194030\n",
      " 0.010000\t0.152488\t0.182836\n",
      " 0.030000\t0.144462\t0.171642\n",
      " 0.100000\t0.134831\t0.164179\n",
      " 0.300000\t0.130016\t0.164179\n",
      " 1.000000\t0.131621\t0.164179\n",
      " 3.000000\t0.123596\t0.160448\n",
      " 10.000000\t0.115570\t0.175373\n"
     ]
    },
    {
     "data": {
      "image/png": "[encoded data removed]",
      "text/plain": [
       "<Figure size 432x288 with 1 Axes>"
      ]
     },
     "metadata": {
      "needs_background": "light"
     },
     "output_type": "display_data"
    }
   ],
   "source": [
    "C, error_train, error_cv = validationCurve(X_train_stdpoly, y_train2, X_cv_stdpoly, y_cv)\n",
    "\n",
    "plt.plot(C, error_train, '-o', C, error_cv, '-o', lw=2)\n",
    "plt.legend(['Train', 'Cross Validation'])\n",
    "plt.xlabel('C')\n",
    "plt.ylabel('Error')\n",
    "\n",
    "print('lambda\\t\\tTrain Error\\tValidation Error')\n",
    "for i in range(len(C)):\n",
    "    print(' %f\\t%f\\t%f' % (C[i], error_train[i], error_cv[i])) "
   ]
  },
  {
   "cell_type": "markdown",
   "metadata": {
    "papermill": {
     "duration": 0.060823,
     "end_time": "2022-11-14T20:33:35.384884",
     "exception": false,
     "start_time": "2022-11-14T20:33:35.324061",
     "status": "completed"
    },
    "tags": []
   },
   "source": [
    "We've scraped together a tiny bit more accuracy, but we can see our model is becoming overfit. C = 3 seems to work okay. So lets make this our final LR model and give it a submission.\n",
    "\n"
   ]
  },
  {
   "cell_type": "code",
   "execution_count": 41,
   "metadata": {
    "execution": {
     "iopub.execute_input": "2022-11-14T20:33:35.518508Z",
     "iopub.status.busy": "2022-11-14T20:33:35.515568Z",
     "iopub.status.idle": "2022-11-14T20:33:35.546011Z",
     "shell.execute_reply": "2022-11-14T20:33:35.545392Z",
     "shell.execute_reply.started": "2022-11-14T20:23:14.411418Z"
    },
    "papermill": {
     "duration": 0.100268,
     "end_time": "2022-11-14T20:33:35.546176",
     "exception": false,
     "start_time": "2022-11-14T20:33:35.445908",
     "status": "completed"
    },
    "tags": []
   },
   "outputs": [],
   "source": [
    "#Apply the standardization and polynomial features to the entire train data, instead of our split.\n",
    "X_train_poly = poly.fit_transform(X_train)\n",
    "X_test_poly = poly.fit_transform(X_test)\n",
    "\n",
    "#And standardize.\n",
    "X_train_stdpoly = stdsc.fit_transform(X_train_poly)\n",
    "X_test_stdpoly = stdsc.fit_transform(X_test_poly)\n",
    "\n",
    "#And a standardized, non-poly.\n",
    "X_test_std = stdsc.fit_transform(X_test)\n",
    "X_train1_std = stdsc.fit_transform(X_train)\n"
   ]
  },
  {
   "cell_type": "code",
   "execution_count": 42,
   "metadata": {
    "execution": {
     "iopub.execute_input": "2022-11-14T20:33:35.686975Z",
     "iopub.status.busy": "2022-11-14T20:33:35.685977Z",
     "iopub.status.idle": "2022-11-14T20:33:35.908961Z",
     "shell.execute_reply": "2022-11-14T20:33:35.909477Z",
     "shell.execute_reply.started": "2022-11-14T20:23:14.446810Z"
    },
    "papermill": {
     "duration": 0.301025,
     "end_time": "2022-11-14T20:33:35.909672",
     "exception": false,
     "start_time": "2022-11-14T20:33:35.608647",
     "status": "completed"
    },
    "tags": []
   },
   "outputs": [
    {
     "name": "stdout",
     "output_type": "stream",
     "text": [
      "Your submission was successfully saved!\n"
     ]
    }
   ],
   "source": [
    "#Feed it into our Logistic Regression model and record predictions.\n",
    "model_LR = LogisticRegression(penalty = \"l2\", C = 3, max_iter = 500)\n",
    "model_LR.fit(X_train_stdpoly, y_train)\n",
    "predictions = model_LR.predict(X_test_stdpoly)\n",
    "\n",
    "#and get the output\n",
    "output = pd.DataFrame({'PassengerId': test_data.PassengerId, 'Survived': predictions})\n",
    "output.to_csv('LRmodel overfit.csv', index=False)\n",
    "print(\"Your submission was successfully saved!\")"
   ]
  },
  {
   "cell_type": "code",
   "execution_count": 43,
   "metadata": {
    "execution": {
     "iopub.execute_input": "2022-11-14T20:33:36.047108Z",
     "iopub.status.busy": "2022-11-14T20:33:36.046207Z",
     "iopub.status.idle": "2022-11-14T20:33:36.065458Z",
     "shell.execute_reply": "2022-11-14T20:33:36.064862Z",
     "shell.execute_reply.started": "2022-11-14T20:23:14.647843Z"
    },
    "papermill": {
     "duration": 0.089832,
     "end_time": "2022-11-14T20:33:36.065611",
     "exception": false,
     "start_time": "2022-11-14T20:33:35.975779",
     "status": "completed"
    },
    "tags": []
   },
   "outputs": [
    {
     "name": "stdout",
     "output_type": "stream",
     "text": [
      "Your submission was successfully saved!\n"
     ]
    }
   ],
   "source": [
    "#Lets also do a non-overfit model.\n",
    "model_LR2 = LogisticRegression(penalty = \"l2\", C = 3, max_iter = 500)\n",
    "model_LR2.fit(X_train1_std, y_train)\n",
    "predictions = model_LR2.predict(X_test_std)\n",
    "\n",
    "#and get the output\n",
    "output = pd.DataFrame({'PassengerId': test_data.PassengerId, 'Survived': predictions})\n",
    "output.to_csv('LRmodel-standard.csv', index=False)\n",
    "print(\"Your submission was successfully saved!\")"
   ]
  },
  {
   "cell_type": "markdown",
   "metadata": {
    "papermill": {
     "duration": 0.064921,
     "end_time": "2022-11-14T20:33:36.195836",
     "exception": false,
     "start_time": "2022-11-14T20:33:36.130915",
     "status": "completed"
    },
    "tags": []
   },
   "source": [
    "## Other models\n",
    "\n",
    "Lets take a look at other categorical models. SVM, KNN, and a neural network will be the models of interest.\n",
    "\n",
    "I will also implement sequential backwards selection for feature selection on the KNN classifier."
   ]
  },
  {
   "cell_type": "markdown",
   "metadata": {
    "papermill": {
     "duration": 0.061504,
     "end_time": "2022-11-14T20:33:36.320116",
     "exception": false,
     "start_time": "2022-11-14T20:33:36.258612",
     "status": "completed"
    },
    "tags": []
   },
   "source": [
    "## KNN\n",
    "\n",
    "K-nearest Neighbors is a non-parametric, lazy learning algorithm. It is particularly suspect to overfitting. We will run it through feature selection to attempt to avoid that. First, lets get a baseline on our training set without feature selection."
   ]
  },
  {
   "cell_type": "code",
   "execution_count": 44,
   "metadata": {
    "execution": {
     "iopub.execute_input": "2022-11-14T20:33:36.446947Z",
     "iopub.status.busy": "2022-11-14T20:33:36.446177Z",
     "iopub.status.idle": "2022-11-14T20:33:36.503503Z",
     "shell.execute_reply": "2022-11-14T20:33:36.504122Z",
     "shell.execute_reply.started": "2022-11-14T20:23:14.671583Z"
    },
    "papermill": {
     "duration": 0.122709,
     "end_time": "2022-11-14T20:33:36.504389",
     "exception": false,
     "start_time": "2022-11-14T20:33:36.381680",
     "status": "completed"
    },
    "tags": []
   },
   "outputs": [
    {
     "name": "stdout",
     "output_type": "stream",
     "text": [
      "Training Accuracy KNN 0.8635634028892456\n",
      "Cross Validation accuracy: 0.8022388059701493\n"
     ]
    }
   ],
   "source": [
    "# Basic KNN\n",
    "\n",
    "#from sklearn.feature_selection import SequentialFeatureSelector\n",
    "#sfs = SequentialFeatureSelector(knn, n_features_to_select=3)\n",
    "\n",
    "from sklearn.neighbors import KNeighborsClassifier\n",
    "\n",
    "\n",
    "\n",
    "knn = KNeighborsClassifier(n_neighbors = 5)\n",
    "knn.fit(X_train_std, y_train2)\n",
    "print(\"Training Accuracy KNN\", knn.score(X_train_std, y_train2))\n",
    "print(\"Cross Validation accuracy:\", knn.score(X_cv_std, y_cv))\n"
   ]
  },
  {
   "cell_type": "markdown",
   "metadata": {
    "papermill": {
     "duration": 0.066021,
     "end_time": "2022-11-14T20:33:36.634919",
     "exception": false,
     "start_time": "2022-11-14T20:33:36.568898",
     "status": "completed"
    },
    "tags": []
   },
   "source": [
    "## KNN with SBS\n",
    "\n",
    "Sequential Backwards feature selection, courtesy of Python Machine Learning, 2nd edition. Backwards selection tends to overfit in comparison to forward selection, which seems to perform slightly better. \n",
    "\n",
    "SKlearn also has backwards selection, but this implementation is nice for visualization, as it stores the errors as it does the selection. We can then plot them and decide on a good number of features."
   ]
  },
  {
   "cell_type": "code",
   "execution_count": 45,
   "metadata": {
    "execution": {
     "iopub.execute_input": "2022-11-14T20:33:36.768415Z",
     "iopub.status.busy": "2022-11-14T20:33:36.767686Z",
     "iopub.status.idle": "2022-11-14T20:33:36.781806Z",
     "shell.execute_reply": "2022-11-14T20:33:36.782381Z",
     "shell.execute_reply.started": "2022-11-14T20:23:14.732622Z"
    },
    "papermill": {
     "duration": 0.082963,
     "end_time": "2022-11-14T20:33:36.782588",
     "exception": false,
     "start_time": "2022-11-14T20:33:36.699625",
     "status": "completed"
    },
    "tags": []
   },
   "outputs": [],
   "source": [
    "from sklearn.base import clone\n",
    "from itertools import combinations\n",
    "from sklearn.metrics import accuracy_score\n",
    "from sklearn.model_selection import train_test_split\n",
    "import numpy as np\n",
    "\n",
    "\n",
    "class SBS():\n",
    "    def __init__(self, estimator, k_features, scoring=accuracy_score,\n",
    "                 test_size=0.25, random_state=1):\n",
    "        self.scoring = scoring\n",
    "        self.estimator = clone(estimator)\n",
    "        self.k_features = k_features\n",
    "        self.test_size = test_size\n",
    "        self.random_state = random_state\n",
    "\n",
    "    def fit(self, X, y):\n",
    "        \n",
    "        X_train, X_test, y_train, y_test =             train_test_split(X, y, test_size=self.test_size,\n",
    "                             random_state=self.random_state)\n",
    "\n",
    "        dim = X_train.shape[1]\n",
    "        self.indices_ = tuple(range(dim))\n",
    "        self.subsets_ = [self.indices_]\n",
    "        score = self._calc_score(X_train, y_train, \n",
    "                                 X_test, y_test, self.indices_)\n",
    "        self.scores_ = [score]\n",
    "\n",
    "        while dim > self.k_features:\n",
    "            scores = []\n",
    "            subsets = []\n",
    "\n",
    "            for p in combinations(self.indices_, r=dim - 1):\n",
    "                score = self._calc_score(X_train, y_train, \n",
    "                                         X_test, y_test, p)\n",
    "                scores.append(score)\n",
    "                subsets.append(p)\n",
    "\n",
    "            best = np.argmax(scores)\n",
    "            self.indices_ = subsets[best]\n",
    "            self.subsets_.append(self.indices_)\n",
    "            dim -= 1\n",
    "\n",
    "            self.scores_.append(scores[best])\n",
    "        self.k_score_ = self.scores_[-1]\n",
    "\n",
    "        return self\n",
    "\n",
    "    def transform(self, X):\n",
    "        return X[:, self.indices_]\n",
    "\n",
    "    def _calc_score(self, X_train, y_train, X_test, y_test, indices):\n",
    "        self.estimator.fit(X_train[:, indices], y_train)\n",
    "        y_pred = self.estimator.predict(X_test[:, indices])\n",
    "        score = self.scoring(y_test, y_pred)\n",
    "        return score"
   ]
  },
  {
   "cell_type": "code",
   "execution_count": 46,
   "metadata": {
    "execution": {
     "iopub.execute_input": "2022-11-14T20:33:36.910414Z",
     "iopub.status.busy": "2022-11-14T20:33:36.909686Z",
     "iopub.status.idle": "2022-11-14T20:33:38.853915Z",
     "shell.execute_reply": "2022-11-14T20:33:38.854496Z",
     "shell.execute_reply.started": "2022-11-14T20:23:14.748549Z"
    },
    "papermill": {
     "duration": 2.009915,
     "end_time": "2022-11-14T20:33:38.854687",
     "exception": false,
     "start_time": "2022-11-14T20:33:36.844772",
     "status": "completed"
    },
    "tags": []
   },
   "outputs": [
    {
     "data": {
      "image/png": "[encoded data removed]",
      "text/plain": [
       "<Figure size 432x288 with 1 Axes>"
      ]
     },
     "metadata": {
      "needs_background": "light"
     },
     "output_type": "display_data"
    }
   ],
   "source": [
    "#Lets run the model through SBS\n",
    "sbs = SBS(knn, k_features= 1)\n",
    "sbs.fit(X_train_std, y_train2)\n",
    "\n",
    "k_feat = [len(k) for k in sbs.subsets_]\n",
    "\n",
    "\n",
    "\n",
    "plt.plot(k_feat, sbs.scores_, marker ='o')\n",
    "plt.ylim([0.7, 1.02])\n",
    "plt.ylabel(\"accuracy\")\n",
    "plt.xlabel('Number of features')\n",
    "plt.grid()\n",
    "plt.show()"
   ]
  },
  {
   "cell_type": "code",
   "execution_count": 47,
   "metadata": {
    "execution": {
     "iopub.execute_input": "2022-11-14T20:33:38.989963Z",
     "iopub.status.busy": "2022-11-14T20:33:38.989248Z",
     "iopub.status.idle": "2022-11-14T20:33:38.996168Z",
     "shell.execute_reply": "2022-11-14T20:33:38.995565Z",
     "shell.execute_reply.started": "2022-11-14T20:23:16.659152Z"
    },
    "papermill": {
     "duration": 0.076746,
     "end_time": "2022-11-14T20:33:38.996349",
     "exception": false,
     "start_time": "2022-11-14T20:33:38.919603",
     "status": "completed"
    },
    "tags": []
   },
   "outputs": [
    {
     "name": "stdout",
     "output_type": "stream",
     "text": [
      "Index(['Pclass', 'Sex', 'Age', 'Fare', 'SibSp', 'Cabin_E', 'Cabin_U',\n",
      "       'Title_Mr', 'Embarked_S'],\n",
      "      dtype='object')\n"
     ]
    }
   ],
   "source": [
    "#We see that using 9 features seems to yield the best results with the fewest number of features. Lets see how we do.\n",
    "#9 features is the 12th iteration of our SBS so lets pull the features.\n",
    "k9 = list(sbs.subsets_[11])\n",
    "\n",
    "print(X_train.columns[k9])"
   ]
  },
  {
   "cell_type": "code",
   "execution_count": 48,
   "metadata": {
    "execution": {
     "iopub.execute_input": "2022-11-14T20:33:39.137283Z",
     "iopub.status.busy": "2022-11-14T20:33:39.135280Z",
     "iopub.status.idle": "2022-11-14T20:33:39.243491Z",
     "shell.execute_reply": "2022-11-14T20:33:39.242828Z",
     "shell.execute_reply.started": "2022-11-14T20:23:16.667381Z"
    },
    "papermill": {
     "duration": 0.179135,
     "end_time": "2022-11-14T20:33:39.243679",
     "exception": false,
     "start_time": "2022-11-14T20:33:39.064544",
     "status": "completed"
    },
    "tags": []
   },
   "outputs": [
    {
     "name": "stdout",
     "output_type": "stream",
     "text": [
      "Training accuracy KNN w/ Feature Selection: 0.869983948635634\n",
      "Cross Validation accuracy w/ Feature Selection: 0.832089552238806\n",
      "Training Accuracy KNN 0.8635634028892456\n",
      "Cross Validation accuracy: 0.8022388059701493\n"
     ]
    }
   ],
   "source": [
    "#Lets fit the model to these 9 features and see how we compare.\n",
    "\n",
    "knn2 =  KNeighborsClassifier(n_neighbors = 5)\n",
    "knn2.fit(X_train_std[:,k9], y_train2)\n",
    "print(\"Training accuracy KNN w/ Feature Selection:\", knn2.score(X_train_std[:,k9], y_train2))\n",
    "print(\"Cross Validation accuracy w/ Feature Selection:\", knn2.score(X_cv_std[:,k9], y_cv))\n",
    "\n",
    "print(\"Training Accuracy KNN\", knn.score(X_train_std, y_train2))\n",
    "print(\"Cross Validation accuracy:\", knn.score(X_cv_std, y_cv))"
   ]
  },
  {
   "cell_type": "markdown",
   "metadata": {
    "papermill": {
     "duration": 0.064087,
     "end_time": "2022-11-14T20:33:39.373112",
     "exception": false,
     "start_time": "2022-11-14T20:33:39.309025",
     "status": "completed"
    },
    "tags": []
   },
   "source": [
    "## KNN results\n",
    "\n",
    "By restricting the number of features we see a marked improvement on the accuracy of our model, from 80% to 83% On the cross validation data. This seems to be a very nice result."
   ]
  },
  {
   "cell_type": "markdown",
   "metadata": {
    "papermill": {
     "duration": 0.067455,
     "end_time": "2022-11-14T20:33:39.509489",
     "exception": false,
     "start_time": "2022-11-14T20:33:39.442034",
     "status": "completed"
    },
    "tags": []
   },
   "source": [
    "## SVM\n",
    "\n",
    "This is perhaps the model I am least familiar with. I am going to calculate two SVM models, one with a linear kernel and one with a gaussian kernel (RBF). "
   ]
  },
  {
   "cell_type": "code",
   "execution_count": 49,
   "metadata": {
    "execution": {
     "iopub.execute_input": "2022-11-14T20:33:39.652192Z",
     "iopub.status.busy": "2022-11-14T20:33:39.651433Z",
     "iopub.status.idle": "2022-11-14T20:33:39.721532Z",
     "shell.execute_reply": "2022-11-14T20:33:39.720830Z",
     "shell.execute_reply.started": "2022-11-14T20:23:16.772474Z"
    },
    "papermill": {
     "duration": 0.144058,
     "end_time": "2022-11-14T20:33:39.721687",
     "exception": false,
     "start_time": "2022-11-14T20:33:39.577629",
     "status": "completed"
    },
    "tags": []
   },
   "outputs": [
    {
     "name": "stdout",
     "output_type": "stream",
     "text": [
      "Training accuracy SVM w/ linear kernel: 0.8314606741573034\n",
      "Cross Validation accuracy w/ linear kernel: 0.8171641791044776\n",
      "Training Accuracy SVM w/ gaussian kernel 0.8796147672552167\n",
      "Cross Validation accuracy w/ gaussian kernel: 0.8283582089552238\n"
     ]
    }
   ],
   "source": [
    "#Both models.\n",
    "from sklearn.svm import SVC\n",
    "svm = SVC(kernel = \"linear\", C = 1.0, random_state = 1)\n",
    "svm.fit(X_train_std, y_train2)\n",
    "\n",
    "svm2 = SVC(kernel = \"rbf\", gamma = 0.2, C = 1.0, random_state = 1)\n",
    "svm2.fit(X_train_std, y_train2)\n",
    "\n",
    "print(\"Training accuracy SVM w/ linear kernel:\", svm.score(X_train_std, y_train2))\n",
    "print(\"Cross Validation accuracy w/ linear kernel:\", svm.score(X_cv_std, y_cv))\n",
    "\n",
    "print(\"Training Accuracy SVM w/ gaussian kernel\", svm2.score(X_train_std, y_train2))\n",
    "print(\"Cross Validation accuracy w/ gaussian kernel:\", svm2.score(X_cv_std, y_cv))\n"
   ]
  },
  {
   "cell_type": "markdown",
   "metadata": {
    "papermill": {
     "duration": 0.067518,
     "end_time": "2022-11-14T20:33:39.854779",
     "exception": false,
     "start_time": "2022-11-14T20:33:39.787261",
     "status": "completed"
    },
    "tags": []
   },
   "source": [
    "## SVM results\n",
    "We see the gaussian kernel performed marginally better on the cross validation set. There may be more room for improvment by modifying c and/or gamma to affect the fit.\n",
    "\n",
    "Both of these models seem to work well but are being slightly out-performed by previous models."
   ]
  },
  {
   "cell_type": "markdown",
   "metadata": {
    "papermill": {
     "duration": 0.065734,
     "end_time": "2022-11-14T20:33:39.987245",
     "exception": false,
     "start_time": "2022-11-14T20:33:39.921511",
     "status": "completed"
    },
    "tags": []
   },
   "source": [
    "## Neural Network\n",
    "\n",
    "Here's a neural network implimented via sklearn using backprop. Lets see how it does."
   ]
  },
  {
   "cell_type": "code",
   "execution_count": 50,
   "metadata": {
    "execution": {
     "iopub.execute_input": "2022-11-14T20:33:40.126525Z",
     "iopub.status.busy": "2022-11-14T20:33:40.125800Z",
     "iopub.status.idle": "2022-11-14T20:33:40.382687Z",
     "shell.execute_reply": "2022-11-14T20:33:40.382038Z",
     "shell.execute_reply.started": "2022-11-14T20:23:16.848156Z"
    },
    "papermill": {
     "duration": 0.329009,
     "end_time": "2022-11-14T20:33:40.382848",
     "exception": false,
     "start_time": "2022-11-14T20:33:40.053839",
     "status": "completed"
    },
    "tags": []
   },
   "outputs": [
    {
     "name": "stdout",
     "output_type": "stream",
     "text": [
      "Training accuracy NN: 0.8426966292134831\n",
      "Cross Validation accuracy NN: 0.8134328358208955\n"
     ]
    }
   ],
   "source": [
    "from sklearn.neural_network import MLPClassifier\n",
    "NN = MLPClassifier(solver='lbfgs', alpha=1e-5, hidden_layer_sizes=(2, 5), random_state=1, max_iter = 2000)\n",
    "NN.fit(X_train_std, y_train2)\n",
    "\n",
    "print(\"Training accuracy NN:\", NN.score(X_train_std, y_train2))\n",
    "print(\"Cross Validation accuracy NN:\", NN.score(X_cv_std, y_cv))\n"
   ]
  },
  {
   "cell_type": "markdown",
   "metadata": {
    "papermill": {
     "duration": 0.067189,
     "end_time": "2022-11-14T20:33:40.516914",
     "exception": false,
     "start_time": "2022-11-14T20:33:40.449725",
     "status": "completed"
    },
    "tags": []
   },
   "source": [
    "## Neural Network Results\n",
    "\n",
    "Very good fit on the training data, Cross validation not as good as the previous models as well. I am curious if there is some changes I can make to perhaps get a better fit. I will try increasing the number of hidden layers and sizes.\n",
    "\n",
    "We can now look at a summary of our models."
   ]
  },
  {
   "cell_type": "code",
   "execution_count": 51,
   "metadata": {
    "execution": {
     "iopub.execute_input": "2022-11-14T20:33:40.660966Z",
     "iopub.status.busy": "2022-11-14T20:33:40.660130Z",
     "iopub.status.idle": "2022-11-14T20:33:40.760550Z",
     "shell.execute_reply": "2022-11-14T20:33:40.759871Z",
     "shell.execute_reply.started": "2022-11-14T20:23:17.094576Z"
    },
    "papermill": {
     "duration": 0.175228,
     "end_time": "2022-11-14T20:33:40.760709",
     "exception": false,
     "start_time": "2022-11-14T20:33:40.585481",
     "status": "completed"
    },
    "tags": []
   },
   "outputs": [
    {
     "name": "stdout",
     "output_type": "stream",
     "text": [
      "                                        Accuracy\n",
      "Random Forest                           0.861940\n",
      "logistic regression standard            0.832090\n",
      "logistic regression poly variables      0.880597\n",
      "KNeighborsClassifier standard           0.832090\n",
      "KNeighborsClassifier Feature selection  0.832090\n",
      "SVC linear                              0.817164\n",
      "SVC Gaussian                            0.828358\n",
      "Neural Network                          0.813433\n"
     ]
    }
   ],
   "source": [
    "finalleaderboard = {\n",
    "  \"Random Forest\": model.score(X_cv, y_cv),\n",
    "  \"logistic regression standard\": lr.score(X_cv_std, y_cv),\n",
    "  \"logistic regression poly variables\": model_LR.score(X_cv_stdpoly, y_cv),\n",
    "  \"KNeighborsClassifier standard\": knn2.score(X_cv_std[:,k9], y_cv),\n",
    "  \"KNeighborsClassifier Feature selection\" : knn2.score(X_cv_std[:,k9], y_cv),\n",
    "  \"SVC linear\": svm.score(X_cv_std, y_cv),\n",
    "  \"SVC Gaussian\": svm2.score(X_cv_std, y_cv),\n",
    "  \"Neural Network\": NN.score(X_cv_std, y_cv) \n",
    "}\n",
    "\n",
    "finalleaderboard = pd.DataFrame.from_dict(finalleaderboard, orient='index', columns=['Accuracy'])\n",
    "print(finalleaderboard)"
   ]
  },
  {
   "cell_type": "markdown",
   "metadata": {
    "papermill": {
     "duration": 0.067388,
     "end_time": "2022-11-14T20:33:40.898947",
     "exception": false,
     "start_time": "2022-11-14T20:33:40.831559",
     "status": "completed"
    },
    "tags": []
   },
   "source": [
    "## Submission\n",
    "\n",
    "Well we have the models and their results on our cross validation test set. Lets submit them all and see which one is actually the best."
   ]
  },
  {
   "cell_type": "code",
   "execution_count": 52,
   "metadata": {
    "execution": {
     "iopub.execute_input": "2022-11-14T20:33:41.036176Z",
     "iopub.status.busy": "2022-11-14T20:33:41.035325Z",
     "iopub.status.idle": "2022-11-14T20:33:43.643435Z",
     "shell.execute_reply": "2022-11-14T20:33:43.644008Z",
     "shell.execute_reply.started": "2022-11-14T20:23:17.201769Z"
    },
    "papermill": {
     "duration": 2.677349,
     "end_time": "2022-11-14T20:33:43.644195",
     "exception": false,
     "start_time": "2022-11-14T20:33:40.966846",
     "status": "completed"
    },
    "tags": []
   },
   "outputs": [
    {
     "name": "stdout",
     "output_type": "stream",
     "text": [
      "Your RF submission was successfully saved!\n",
      "Your LR overfit submission was successfully saved!\n",
      "Your LR standard submission was successfully saved!\n",
      "Your KNN overfit submission was successfully saved!\n",
      "Your KNN feature selection submission was successfully saved!\n",
      "Your LSVM submission was successfully saved!\n",
      "Your GSVM submission was successfully saved!\n",
      "Your NN submission was successfully saved!\n"
     ]
    }
   ],
   "source": [
    "\n",
    "\n",
    "#################  Random Forest\n",
    "\n",
    "#Finally we will fit and predict.\n",
    "model = RandomForestClassifier(n_estimators=500, max_depth=5)\n",
    "model.fit(X_train, y_train)\n",
    "predictions = model.predict(X_test)\n",
    "\n",
    "#and get the output\n",
    "output = pd.DataFrame({'PassengerId': test_data.PassengerId, 'Survived': predictions})\n",
    "output.to_csv('RandomForest.csv', index=False)\n",
    "print(\"Your RF submission was successfully saved!\")\n",
    "\n",
    "################  Logistic Regression\n",
    "#Feed it into our Logistic Regression model and record predictions.\n",
    "model_LR = LogisticRegression(penalty = \"l2\", C = 3, max_iter = 500)\n",
    "model_LR.fit(X_train_stdpoly, y_train)\n",
    "predictions = model_LR.predict(X_test_stdpoly)\n",
    "\n",
    "#and get the output\n",
    "output = pd.DataFrame({'PassengerId': test_data.PassengerId, 'Survived': predictions})\n",
    "output.to_csv('LRmodel overfit.csv', index=False)\n",
    "print(\"Your LR overfit submission was successfully saved!\")\n",
    "\n",
    "#Lets also do a non-overfit model.\n",
    "model_LR2 = LogisticRegression(penalty = \"l2\", C = 3, max_iter = 500)\n",
    "model_LR2.fit(X_train1_std, y_train)\n",
    "predictions = model_LR2.predict(X_test_std)\n",
    "\n",
    "#and get the output\n",
    "output = pd.DataFrame({'PassengerId': test_data.PassengerId, 'Survived': predictions})\n",
    "output.to_csv('LRmodel-standard.csv', index=False)\n",
    "print(\"Your LR standard submission was successfully saved!\")\n",
    "\n",
    "################ KNN\n",
    "knn = KNeighborsClassifier(n_neighbors = 5)\n",
    "knn.fit(X_train1_std, y_train)\n",
    "pred = knn.predict(X_test_std)\n",
    "\n",
    "output = pd.DataFrame({'PassengerId': test_data.PassengerId, 'Survived': pred})\n",
    "output.to_csv('KNN overfit.csv', index=False)\n",
    "print(\"Your KNN overfit submission was successfully saved!\")\n",
    "\n",
    "knn2 =  KNeighborsClassifier(n_neighbors = 5)\n",
    "knn2.fit(X_train1_std[:,k9], y_train)\n",
    "pred = knn2.predict(X_test_std[:,k9])\n",
    "\n",
    "output = pd.DataFrame({'PassengerId': test_data.PassengerId, 'Survived': pred})\n",
    "output.to_csv('KNN feature selection.csv', index=False)\n",
    "print(\"Your KNN feature selection submission was successfully saved!\")\n",
    "\n",
    "\n",
    "\n",
    "################ SVM\n",
    "svm = SVC(kernel = \"linear\", C = 1.0, random_state = 1)\n",
    "svm.fit(X_train1_std, y_train)\n",
    "pred = svm.predict(X_test_std)\n",
    "\n",
    "output = pd.DataFrame({'PassengerId': test_data.PassengerId, 'Survived': pred})\n",
    "output.to_csv('SVM linear.csv', index=False)\n",
    "print(\"Your LSVM submission was successfully saved!\")\n",
    "\n",
    "svm2 = SVC(kernel = \"rbf\", gamma = 0.2, C = 1.0, random_state = 1)\n",
    "svm2.fit(X_train1_std, y_train)\n",
    "pred = svm2.predict(X_test_std)\n",
    "\n",
    "output = pd.DataFrame({'PassengerId': test_data.PassengerId, 'Survived': pred})\n",
    "output.to_csv('SVM gaussian.csv', index=False)\n",
    "print(\"Your GSVM submission was successfully saved!\")\n",
    "\n",
    "################ NN\n",
    "NN = MLPClassifier(solver='lbfgs', alpha=1e-5, hidden_layer_sizes=(6, 6), random_state=1, max_iter = 2000)\n",
    "NN.fit(X_train1_std, y_train)\n",
    "pred = NN.predict(X_test_std)\n",
    "\n",
    "output = pd.DataFrame({'PassengerId': test_data.PassengerId, 'Survived': pred})\n",
    "output.to_csv('NN.csv', index=False)\n",
    "print(\"Your NN submission was successfully saved!\")\n",
    "\n"
   ]
  },
  {
   "cell_type": "markdown",
   "metadata": {
    "papermill": {
     "duration": 0.065336,
     "end_time": "2022-11-14T20:33:43.775571",
     "exception": false,
     "start_time": "2022-11-14T20:33:43.710235",
     "status": "completed"
    },
    "tags": []
   },
   "source": [
    "## Final Scores on Competition data\n",
    "SVM gaussian = 0.763 \n",
    "\n",
    "SVM linear = 0.763\n",
    "\n",
    "RF = 0.789\n",
    "\n",
    "KNN overfit = 0.744\n",
    "\n",
    "KNN feature selection = 0.766\n",
    "\n",
    "NN = 0.722\n",
    "\n",
    "LR overfit = 0.755\n",
    "\n",
    "LR = 0.765\n",
    "\n",
    "## Final Thoughts\n",
    "\n",
    "It seems that I do have a bit of an overfitting issue and some level of accuracy could be increased by pruning some excessive variables. Both the KNN and logistic regression models did better to some degree without excessive variables, even thought I am including regularization to some degree. Perhaps taking more time to do feature analysis/engineering could lead to better results. \n",
    "\n",
    "Overall, I am fairly happy with these results as a first competition on Kaggle, and kind of a first experience working on a ML problem from start to finish. Obviously, a better write up could be involved and I will work on it for my next competition which will be the dataset involving housing prices. "
   ]
  }
 ],
 "metadata": {
  "kernelspec": {
   "display_name": "Python 3",
   "language": "python",
   "name": "python3"
  },
  "language_info": {
   "codemirror_mode": {
    "name": "ipython",
    "version": 3
   },
   "file_extension": ".py",
   "mimetype": "text/x-python",
   "name": "python",
   "nbconvert_exporter": "python",
   "pygments_lexer": "ipython3",
   "version": "3.7.9"
  },
  "papermill": {
   "default_parameters": {},
   "duration": 28.32629,
   "end_time": "2022-11-14T20:33:44.552505",
   "environment_variables": {},
   "exception": null,
   "input_path": "__notebook__.ipynb",
   "output_path": "__notebook__.ipynb",
   "parameters": {},
   "start_time": "2022-11-14T20:33:16.226215",
   "version": "2.2.2"
  }
 },
 "nbformat": 4,
 "nbformat_minor": 4
}
