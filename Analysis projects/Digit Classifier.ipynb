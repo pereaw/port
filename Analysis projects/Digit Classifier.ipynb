{
 "cells": [
  {
   "cell_type": "markdown",
   "id": "ffd9efb8-286a-45d4-85d2-23972a0c5616",
   "metadata": {},
   "source": [
    "# Digits Classifier\n",
    "\n",
    "We'll be working with a built in dataset in sklearn which is the hand-written digits dataset from UCI. The dataset is tabular so each row is an image. The columns indicate to the location of the pixels while the row values are pixel values. To visualize an image we can reshape the dataset. \n",
    "\n",
    "Lets load in the data and take a look."
   ]
  },
  {
   "cell_type": "code",
   "execution_count": 1,
   "id": "f805d8b1-a518-422e-9e02-764a0c5c23bf",
   "metadata": {},
   "outputs": [],
   "source": [
    "import pandas as pd\n",
    "pd.options.display.max_columns = 999\n",
    "import numpy as np\n",
    "import matplotlib.pyplot as plt\n",
    "import seaborn as sns\n",
    "import math                                     \n",
    "from scipy import stats\n",
    "import sklearn\n",
    "from sklearn import datasets\n"
   ]
  },
  {
   "cell_type": "code",
   "execution_count": 2,
   "id": "408d8271-eee6-440d-8dec-4dd012b36a01",
   "metadata": {},
   "outputs": [
    {
     "data": {
      "text/plain": [
       "{'data': array([[ 0.,  0.,  5., ...,  0.,  0.,  0.],\n",
       "        [ 0.,  0.,  0., ..., 10.,  0.,  0.],\n",
       "        [ 0.,  0.,  0., ..., 16.,  9.,  0.],\n",
       "        ...,\n",
       "        [ 0.,  0.,  1., ...,  6.,  0.,  0.],\n",
       "        [ 0.,  0.,  2., ..., 12.,  0.,  0.],\n",
       "        [ 0.,  0., 10., ..., 12.,  1.,  0.]]),\n",
       " 'target': array([0, 1, 2, ..., 8, 9, 8]),\n",
       " 'frame': None,\n",
       " 'feature_names': ['pixel_0_0',\n",
       "  'pixel_0_1',\n",
       "  'pixel_0_2',\n",
       "  'pixel_0_3',\n",
       "  'pixel_0_4',\n",
       "  'pixel_0_5',\n",
       "  'pixel_0_6',\n",
       "  'pixel_0_7',\n",
       "  'pixel_1_0',\n",
       "  'pixel_1_1',\n",
       "  'pixel_1_2',\n",
       "  'pixel_1_3',\n",
       "  'pixel_1_4',\n",
       "  'pixel_1_5',\n",
       "  'pixel_1_6',\n",
       "  'pixel_1_7',\n",
       "  'pixel_2_0',\n",
       "  'pixel_2_1',\n",
       "  'pixel_2_2',\n",
       "  'pixel_2_3',\n",
       "  'pixel_2_4',\n",
       "  'pixel_2_5',\n",
       "  'pixel_2_6',\n",
       "  'pixel_2_7',\n",
       "  'pixel_3_0',\n",
       "  'pixel_3_1',\n",
       "  'pixel_3_2',\n",
       "  'pixel_3_3',\n",
       "  'pixel_3_4',\n",
       "  'pixel_3_5',\n",
       "  'pixel_3_6',\n",
       "  'pixel_3_7',\n",
       "  'pixel_4_0',\n",
       "  'pixel_4_1',\n",
       "  'pixel_4_2',\n",
       "  'pixel_4_3',\n",
       "  'pixel_4_4',\n",
       "  'pixel_4_5',\n",
       "  'pixel_4_6',\n",
       "  'pixel_4_7',\n",
       "  'pixel_5_0',\n",
       "  'pixel_5_1',\n",
       "  'pixel_5_2',\n",
       "  'pixel_5_3',\n",
       "  'pixel_5_4',\n",
       "  'pixel_5_5',\n",
       "  'pixel_5_6',\n",
       "  'pixel_5_7',\n",
       "  'pixel_6_0',\n",
       "  'pixel_6_1',\n",
       "  'pixel_6_2',\n",
       "  'pixel_6_3',\n",
       "  'pixel_6_4',\n",
       "  'pixel_6_5',\n",
       "  'pixel_6_6',\n",
       "  'pixel_6_7',\n",
       "  'pixel_7_0',\n",
       "  'pixel_7_1',\n",
       "  'pixel_7_2',\n",
       "  'pixel_7_3',\n",
       "  'pixel_7_4',\n",
       "  'pixel_7_5',\n",
       "  'pixel_7_6',\n",
       "  'pixel_7_7'],\n",
       " 'target_names': array([0, 1, 2, 3, 4, 5, 6, 7, 8, 9]),\n",
       " 'images': array([[[ 0.,  0.,  5., ...,  1.,  0.,  0.],\n",
       "         [ 0.,  0., 13., ..., 15.,  5.,  0.],\n",
       "         [ 0.,  3., 15., ..., 11.,  8.,  0.],\n",
       "         ...,\n",
       "         [ 0.,  4., 11., ..., 12.,  7.,  0.],\n",
       "         [ 0.,  2., 14., ..., 12.,  0.,  0.],\n",
       "         [ 0.,  0.,  6., ...,  0.,  0.,  0.]],\n",
       " \n",
       "        [[ 0.,  0.,  0., ...,  5.,  0.,  0.],\n",
       "         [ 0.,  0.,  0., ...,  9.,  0.,  0.],\n",
       "         [ 0.,  0.,  3., ...,  6.,  0.,  0.],\n",
       "         ...,\n",
       "         [ 0.,  0.,  1., ...,  6.,  0.,  0.],\n",
       "         [ 0.,  0.,  1., ...,  6.,  0.,  0.],\n",
       "         [ 0.,  0.,  0., ..., 10.,  0.,  0.]],\n",
       " \n",
       "        [[ 0.,  0.,  0., ..., 12.,  0.,  0.],\n",
       "         [ 0.,  0.,  3., ..., 14.,  0.,  0.],\n",
       "         [ 0.,  0.,  8., ..., 16.,  0.,  0.],\n",
       "         ...,\n",
       "         [ 0.,  9., 16., ...,  0.,  0.,  0.],\n",
       "         [ 0.,  3., 13., ..., 11.,  5.,  0.],\n",
       "         [ 0.,  0.,  0., ..., 16.,  9.,  0.]],\n",
       " \n",
       "        ...,\n",
       " \n",
       "        [[ 0.,  0.,  1., ...,  1.,  0.,  0.],\n",
       "         [ 0.,  0., 13., ...,  2.,  1.,  0.],\n",
       "         [ 0.,  0., 16., ..., 16.,  5.,  0.],\n",
       "         ...,\n",
       "         [ 0.,  0., 16., ..., 15.,  0.,  0.],\n",
       "         [ 0.,  0., 15., ..., 16.,  0.,  0.],\n",
       "         [ 0.,  0.,  2., ...,  6.,  0.,  0.]],\n",
       " \n",
       "        [[ 0.,  0.,  2., ...,  0.,  0.,  0.],\n",
       "         [ 0.,  0., 14., ..., 15.,  1.,  0.],\n",
       "         [ 0.,  4., 16., ..., 16.,  7.,  0.],\n",
       "         ...,\n",
       "         [ 0.,  0.,  0., ..., 16.,  2.,  0.],\n",
       "         [ 0.,  0.,  4., ..., 16.,  2.,  0.],\n",
       "         [ 0.,  0.,  5., ..., 12.,  0.,  0.]],\n",
       " \n",
       "        [[ 0.,  0., 10., ...,  1.,  0.,  0.],\n",
       "         [ 0.,  2., 16., ...,  1.,  0.,  0.],\n",
       "         [ 0.,  0., 15., ..., 15.,  0.,  0.],\n",
       "         ...,\n",
       "         [ 0.,  4., 16., ..., 16.,  6.,  0.],\n",
       "         [ 0.,  8., 16., ..., 16.,  8.,  0.],\n",
       "         [ 0.,  1.,  8., ..., 12.,  1.,  0.]]]),\n",
       " 'DESCR': \".. _digits_dataset:\\n\\nOptical recognition of handwritten digits dataset\\n--------------------------------------------------\\n\\n**Data Set Characteristics:**\\n\\n    :Number of Instances: 1797\\n    :Number of Attributes: 64\\n    :Attribute Information: 8x8 image of integer pixels in the range 0..16.\\n    :Missing Attribute Values: None\\n    :Creator: E. Alpaydin (alpaydin '@' boun.edu.tr)\\n    :Date: July; 1998\\n\\nThis is a copy of the test set of the UCI ML hand-written digits datasets\\nhttps://archive.ics.uci.edu/ml/datasets/Optical+Recognition+of+Handwritten+Digits\\n\\nThe data set contains images of hand-written digits: 10 classes where\\neach class refers to a digit.\\n\\nPreprocessing programs made available by NIST were used to extract\\nnormalized bitmaps of handwritten digits from a preprinted form. From a\\ntotal of 43 people, 30 contributed to the training set and different 13\\nto the test set. 32x32 bitmaps are divided into nonoverlapping blocks of\\n4x4 and the number of on pixels are counted in each block. This generates\\nan input matrix of 8x8 where each element is an integer in the range\\n0..16. This reduces dimensionality and gives invariance to small\\ndistortions.\\n\\nFor info on NIST preprocessing routines, see M. D. Garris, J. L. Blue, G.\\nT. Candela, D. L. Dimmick, J. Geist, P. J. Grother, S. A. Janet, and C.\\nL. Wilson, NIST Form-Based Handprint Recognition System, NISTIR 5469,\\n1994.\\n\\n.. topic:: References\\n\\n  - C. Kaynak (1995) Methods of Combining Multiple Classifiers and Their\\n    Applications to Handwritten Digit Recognition, MSc Thesis, Institute of\\n    Graduate Studies in Science and Engineering, Bogazici University.\\n  - E. Alpaydin, C. Kaynak (1998) Cascading Classifiers, Kybernetika.\\n  - Ken Tang and Ponnuthurai N. Suganthan and Xi Yao and A. Kai Qin.\\n    Linear dimensionalityreduction using relevance weighted LDA. School of\\n    Electrical and Electronic Engineering Nanyang Technological University.\\n    2005.\\n  - Claudio Gentile. A New Approximate Maximal Margin Classification\\n    Algorithm. NIPS. 2000.\\n\"}"
      ]
     },
     "execution_count": 2,
     "metadata": {},
     "output_type": "execute_result"
    }
   ],
   "source": [
    "data = sklearn.datasets.load_digits()\n",
    "data"
   ]
  },
  {
   "cell_type": "code",
   "execution_count": 3,
   "id": "f86d463e-2253-4ef5-803e-5a492479a056",
   "metadata": {},
   "outputs": [
    {
     "data": {
      "text/plain": [
       "{'data': array([[ 0.,  0.,  5., ...,  0.,  0.,  0.],\n",
       "        [ 0.,  0.,  0., ..., 10.,  0.,  0.],\n",
       "        [ 0.,  0.,  0., ..., 16.,  9.,  0.],\n",
       "        ...,\n",
       "        [ 0.,  0.,  1., ...,  6.,  0.,  0.],\n",
       "        [ 0.,  0.,  2., ..., 12.,  0.,  0.],\n",
       "        [ 0.,  0., 10., ..., 12.,  1.,  0.]]),\n",
       " 'target': array([0, 1, 2, ..., 8, 9, 8]),\n",
       " 'frame': None,\n",
       " 'feature_names': ['pixel_0_0',\n",
       "  'pixel_0_1',\n",
       "  'pixel_0_2',\n",
       "  'pixel_0_3',\n",
       "  'pixel_0_4',\n",
       "  'pixel_0_5',\n",
       "  'pixel_0_6',\n",
       "  'pixel_0_7',\n",
       "  'pixel_1_0',\n",
       "  'pixel_1_1',\n",
       "  'pixel_1_2',\n",
       "  'pixel_1_3',\n",
       "  'pixel_1_4',\n",
       "  'pixel_1_5',\n",
       "  'pixel_1_6',\n",
       "  'pixel_1_7',\n",
       "  'pixel_2_0',\n",
       "  'pixel_2_1',\n",
       "  'pixel_2_2',\n",
       "  'pixel_2_3',\n",
       "  'pixel_2_4',\n",
       "  'pixel_2_5',\n",
       "  'pixel_2_6',\n",
       "  'pixel_2_7',\n",
       "  'pixel_3_0',\n",
       "  'pixel_3_1',\n",
       "  'pixel_3_2',\n",
       "  'pixel_3_3',\n",
       "  'pixel_3_4',\n",
       "  'pixel_3_5',\n",
       "  'pixel_3_6',\n",
       "  'pixel_3_7',\n",
       "  'pixel_4_0',\n",
       "  'pixel_4_1',\n",
       "  'pixel_4_2',\n",
       "  'pixel_4_3',\n",
       "  'pixel_4_4',\n",
       "  'pixel_4_5',\n",
       "  'pixel_4_6',\n",
       "  'pixel_4_7',\n",
       "  'pixel_5_0',\n",
       "  'pixel_5_1',\n",
       "  'pixel_5_2',\n",
       "  'pixel_5_3',\n",
       "  'pixel_5_4',\n",
       "  'pixel_5_5',\n",
       "  'pixel_5_6',\n",
       "  'pixel_5_7',\n",
       "  'pixel_6_0',\n",
       "  'pixel_6_1',\n",
       "  'pixel_6_2',\n",
       "  'pixel_6_3',\n",
       "  'pixel_6_4',\n",
       "  'pixel_6_5',\n",
       "  'pixel_6_6',\n",
       "  'pixel_6_7',\n",
       "  'pixel_7_0',\n",
       "  'pixel_7_1',\n",
       "  'pixel_7_2',\n",
       "  'pixel_7_3',\n",
       "  'pixel_7_4',\n",
       "  'pixel_7_5',\n",
       "  'pixel_7_6',\n",
       "  'pixel_7_7'],\n",
       " 'target_names': array([0, 1, 2, 3, 4, 5, 6, 7, 8, 9]),\n",
       " 'images': array([[[ 0.,  0.,  5., ...,  1.,  0.,  0.],\n",
       "         [ 0.,  0., 13., ..., 15.,  5.,  0.],\n",
       "         [ 0.,  3., 15., ..., 11.,  8.,  0.],\n",
       "         ...,\n",
       "         [ 0.,  4., 11., ..., 12.,  7.,  0.],\n",
       "         [ 0.,  2., 14., ..., 12.,  0.,  0.],\n",
       "         [ 0.,  0.,  6., ...,  0.,  0.,  0.]],\n",
       " \n",
       "        [[ 0.,  0.,  0., ...,  5.,  0.,  0.],\n",
       "         [ 0.,  0.,  0., ...,  9.,  0.,  0.],\n",
       "         [ 0.,  0.,  3., ...,  6.,  0.,  0.],\n",
       "         ...,\n",
       "         [ 0.,  0.,  1., ...,  6.,  0.,  0.],\n",
       "         [ 0.,  0.,  1., ...,  6.,  0.,  0.],\n",
       "         [ 0.,  0.,  0., ..., 10.,  0.,  0.]],\n",
       " \n",
       "        [[ 0.,  0.,  0., ..., 12.,  0.,  0.],\n",
       "         [ 0.,  0.,  3., ..., 14.,  0.,  0.],\n",
       "         [ 0.,  0.,  8., ..., 16.,  0.,  0.],\n",
       "         ...,\n",
       "         [ 0.,  9., 16., ...,  0.,  0.,  0.],\n",
       "         [ 0.,  3., 13., ..., 11.,  5.,  0.],\n",
       "         [ 0.,  0.,  0., ..., 16.,  9.,  0.]],\n",
       " \n",
       "        ...,\n",
       " \n",
       "        [[ 0.,  0.,  1., ...,  1.,  0.,  0.],\n",
       "         [ 0.,  0., 13., ...,  2.,  1.,  0.],\n",
       "         [ 0.,  0., 16., ..., 16.,  5.,  0.],\n",
       "         ...,\n",
       "         [ 0.,  0., 16., ..., 15.,  0.,  0.],\n",
       "         [ 0.,  0., 15., ..., 16.,  0.,  0.],\n",
       "         [ 0.,  0.,  2., ...,  6.,  0.,  0.]],\n",
       " \n",
       "        [[ 0.,  0.,  2., ...,  0.,  0.,  0.],\n",
       "         [ 0.,  0., 14., ..., 15.,  1.,  0.],\n",
       "         [ 0.,  4., 16., ..., 16.,  7.,  0.],\n",
       "         ...,\n",
       "         [ 0.,  0.,  0., ..., 16.,  2.,  0.],\n",
       "         [ 0.,  0.,  4., ..., 16.,  2.,  0.],\n",
       "         [ 0.,  0.,  5., ..., 12.,  0.,  0.]],\n",
       " \n",
       "        [[ 0.,  0., 10., ...,  1.,  0.,  0.],\n",
       "         [ 0.,  2., 16., ...,  1.,  0.,  0.],\n",
       "         [ 0.,  0., 15., ..., 15.,  0.,  0.],\n",
       "         ...,\n",
       "         [ 0.,  4., 16., ..., 16.,  6.,  0.],\n",
       "         [ 0.,  8., 16., ..., 16.,  8.,  0.],\n",
       "         [ 0.,  1.,  8., ..., 12.,  1.,  0.]]]),\n",
       " 'DESCR': \".. _digits_dataset:\\n\\nOptical recognition of handwritten digits dataset\\n--------------------------------------------------\\n\\n**Data Set Characteristics:**\\n\\n    :Number of Instances: 1797\\n    :Number of Attributes: 64\\n    :Attribute Information: 8x8 image of integer pixels in the range 0..16.\\n    :Missing Attribute Values: None\\n    :Creator: E. Alpaydin (alpaydin '@' boun.edu.tr)\\n    :Date: July; 1998\\n\\nThis is a copy of the test set of the UCI ML hand-written digits datasets\\nhttps://archive.ics.uci.edu/ml/datasets/Optical+Recognition+of+Handwritten+Digits\\n\\nThe data set contains images of hand-written digits: 10 classes where\\neach class refers to a digit.\\n\\nPreprocessing programs made available by NIST were used to extract\\nnormalized bitmaps of handwritten digits from a preprinted form. From a\\ntotal of 43 people, 30 contributed to the training set and different 13\\nto the test set. 32x32 bitmaps are divided into nonoverlapping blocks of\\n4x4 and the number of on pixels are counted in each block. This generates\\nan input matrix of 8x8 where each element is an integer in the range\\n0..16. This reduces dimensionality and gives invariance to small\\ndistortions.\\n\\nFor info on NIST preprocessing routines, see M. D. Garris, J. L. Blue, G.\\nT. Candela, D. L. Dimmick, J. Geist, P. J. Grother, S. A. Janet, and C.\\nL. Wilson, NIST Form-Based Handprint Recognition System, NISTIR 5469,\\n1994.\\n\\n.. topic:: References\\n\\n  - C. Kaynak (1995) Methods of Combining Multiple Classifiers and Their\\n    Applications to Handwritten Digit Recognition, MSc Thesis, Institute of\\n    Graduate Studies in Science and Engineering, Bogazici University.\\n  - E. Alpaydin, C. Kaynak (1998) Cascading Classifiers, Kybernetika.\\n  - Ken Tang and Ponnuthurai N. Suganthan and Xi Yao and A. Kai Qin.\\n    Linear dimensionalityreduction using relevance weighted LDA. School of\\n    Electrical and Electronic Engineering Nanyang Technological University.\\n    2005.\\n  - Claudio Gentile. A New Approximate Maximal Margin Classification\\n    Algorithm. NIPS. 2000.\\n\"}"
      ]
     },
     "execution_count": 3,
     "metadata": {},
     "output_type": "execute_result"
    }
   ],
   "source": [
    "#we have a dictionary it seems so lets look\n",
    "df = pd.DataFrame(data['data'], columns= data['feature_names'])\n",
    "df = pd.concat([df, pd.DataFrame(data['target'], columns = ['target'])], axis = 1)\n",
    "\n",
    "data"
   ]
  },
  {
   "cell_type": "code",
   "execution_count": 1,
   "id": "1e2913e9-9e96-435b-9442-003e35ad1b50",
   "metadata": {},
   "outputs": [
    {
     "ename": "NameError",
     "evalue": "name 'df' is not defined",
     "output_type": "error",
     "traceback": [
      "\u001b[1;31m---------------------------------------------------------------------------\u001b[0m",
      "\u001b[1;31mNameError\u001b[0m                                 Traceback (most recent call last)",
      "Input \u001b[1;32mIn [1]\u001b[0m, in \u001b[0;36m<cell line: 2>\u001b[1;34m()\u001b[0m\n\u001b[0;32m      1\u001b[0m \u001b[38;5;66;03m# reshape the data\u001b[39;00m\n\u001b[1;32m----> 2\u001b[0m first_image \u001b[38;5;241m=\u001b[39m \u001b[43mdf\u001b[49m\u001b[38;5;241m.\u001b[39miloc[\u001b[38;5;241m0\u001b[39m]\n\u001b[0;32m      3\u001b[0m first_image \u001b[38;5;241m=\u001b[39m first_image\u001b[38;5;241m.\u001b[39mdrop(\u001b[38;5;124m'\u001b[39m\u001b[38;5;124mtarget\u001b[39m\u001b[38;5;124m'\u001b[39m, axis\u001b[38;5;241m=\u001b[39m\u001b[38;5;241m0\u001b[39m)\n\u001b[0;32m      4\u001b[0m np_image \u001b[38;5;241m=\u001b[39m first_image\u001b[38;5;241m.\u001b[39mvalues\n",
      "\u001b[1;31mNameError\u001b[0m: name 'df' is not defined"
     ]
    }
   ],
   "source": [
    "# reshape the data\n",
    "first_image = df.iloc[0]\n",
    "first_image = first_image.drop('target', axis=0)\n",
    "np_image = first_image.values\n",
    "np_image = np_image.reshape(8,8)\n",
    "plt.imshow(np_image, cmap='gray_r')"
   ]
  },
  {
   "cell_type": "code",
   "execution_count": 5,
   "id": "fac932a4-d34f-46a9-9bd3-0563639fccdb",
   "metadata": {},
   "outputs": [
    {
     "data": {
      "image/png": "[encoded data removed]",
      "text/plain": [
       "<Figure size 576x288 with 8 Axes>"
      ]
     },
     "metadata": {
      "needs_background": "light"
     },
     "output_type": "display_data"
    }
   ],
   "source": [
    "def plot_images(indicies):\n",
    "    plt.figure(figsize = (8,4))\n",
    "    for i,num in zip(range(1,len(indicies) +1),indicies):\n",
    "        first_image = df.iloc[num]\n",
    "        first_image = first_image.drop('target', axis=0)\n",
    "        np_image = first_image.values\n",
    "        np_image = np_image.reshape(8,8)\n",
    "        plt.subplot(2,4,i)\n",
    "        plt.imshow(np_image,cmap = 'gray_r')\n",
    "        \n",
    "indicies = [0, 100, 200,300, 1000, 1100, 1200, 1300]\n",
    "plot_images(indicies)"
   ]
  },
  {
   "cell_type": "markdown",
   "id": "0d4562ab-7f45-4fbe-8147-db1a19db57fd",
   "metadata": {},
   "source": [
    "# Train Test Pipeline\n",
    "Now we can split the dataset and create a train and test set then run some models."
   ]
  },
  {
   "cell_type": "code",
   "execution_count": 41,
   "id": "59caeca9-e2cd-46d5-8e94-183903253a6a",
   "metadata": {},
   "outputs": [
    {
     "name": "stdout",
     "output_type": "stream",
     "text": [
      "CV accuracy 0.984 +/- 0.007\n"
     ]
    },
    {
     "data": {
      "text/plain": [
       "0.9840083527583529"
      ]
     },
     "execution_count": 41,
     "metadata": {},
     "output_type": "execute_result"
    }
   ],
   "source": [
    "from sklearn.model_selection import train_test_split\n",
    "from sklearn.model_selection import cross_val_score\n",
    "from sklearn.neighbors import KNeighborsClassifier\n",
    "\n",
    "X_train, X_test, y_train, y_test = \\\n",
    "train_test_split(df.drop('target', axis = 1),\n",
    "                 df['target'],\n",
    "                 test_size =0.2,\n",
    "                 stratify = df['target'],\n",
    "                 random_state = 1)\n",
    "    \n",
    "def cross_val(model, xtrain, ytrain, kfolds = 10):\n",
    "    scores = cross_val_score(model,\n",
    "                             X = X_train,\n",
    "                             y = y_train,\n",
    "                             cv = kfolds,\n",
    "                             n_jobs = 1)\n",
    "    print('CV accuracy {:.3f} +/- {:.3f}'.format(np.mean(scores),\n",
    "                                               np.std(scores)))\n",
    "    return(np.mean(scores))\n",
    "\n",
    "cross_val(model = KNeighborsClassifier(), xtrain = X_train,\n",
    "          ytrain = y_train, kfolds = 10)\n",
    "    "
   ]
  },
  {
   "cell_type": "markdown",
   "id": "f8470c7c-02ca-4838-80da-2c0ca2e2c704",
   "metadata": {},
   "source": [
    "# KNN simple accuracy KFold\n",
    "\n",
    "We can look at the simple accuracy of the model using a KNN classifier. We will plot the average accuracy in the cross validation set versus the number of folds."
   ]
  },
  {
   "cell_type": "code",
   "execution_count": 40,
   "id": "822c3d6e-c17b-4f43-82c7-9bb6b0448320",
   "metadata": {},
   "outputs": [
    {
     "name": "stdout",
     "output_type": "stream",
     "text": [
      "CV accuracy 0.974 +/- 0.004\n",
      "CV accuracy 0.981 +/- 0.004\n",
      "CV accuracy 0.982 +/- 0.006\n",
      "CV accuracy 0.984 +/- 0.004\n",
      "CV accuracy 0.985 +/- 0.006\n",
      "CV accuracy 0.985 +/- 0.005\n",
      "CV accuracy 0.984 +/- 0.007\n",
      "CV accuracy 0.984 +/- 0.005\n",
      "CV accuracy 0.984 +/- 0.007\n"
     ]
    },
    {
     "data": {
      "text/plain": [
       "[<matplotlib.lines.Line2D at 0x270efbcd460>]"
      ]
     },
     "execution_count": 40,
     "metadata": {},
     "output_type": "execute_result"
    },
    {
     "data": {
      "image/png": "[encoded data removed]",
      "text/plain": [
       "<Figure size 1152x864 with 1 Axes>"
      ]
     },
     "metadata": {
      "needs_background": "light"
     },
     "output_type": "display_data"
    }
   ],
   "source": [
    "kvals = list(range(2,11))\n",
    "avg_scores = []\n",
    "for k in kvals:\n",
    "    avg_scores.append(cross_val(model = KNeighborsClassifier(), xtrain = X_train,\n",
    "          ytrain = y_train, kfolds = k))\n",
    "\n",
    "plt.figure(figsize= (16,12))\n",
    "plt.title(\"Mean CV Accuracy vs Number of Folds (k)\")\n",
    "plt.plot(kvals, avg_scores)"
   ]
  },
  {
   "cell_type": "markdown",
   "id": "09abc818-cdce-4eee-b052-d7ffc32543bf",
   "metadata": {},
   "source": [
    "# Test set performance\n",
    "Lets find the accuracy score on the reserved test set."
   ]
  },
  {
   "cell_type": "code",
   "execution_count": 42,
   "id": "411131b1-7faa-4d08-ad8f-c89f68e511ff",
   "metadata": {},
   "outputs": [
    {
     "name": "stdout",
     "output_type": "stream",
     "text": [
      "Score on Test set: 0.988889\n"
     ]
    }
   ],
   "source": [
    "from sklearn.metrics import accuracy_score\n",
    "\n",
    "def test_acc(model, xtrain,ytrain, xtest,ytest):\n",
    "    model.fit(xtrain,ytrain)\n",
    "    preds = model.predict(xtest)\n",
    "    score = accuracy_score(preds, ytest)\n",
    "    print(\"Score on Test set: {:3f}\".format(score))\n",
    "    return(score)\n",
    "    \n",
    "test_acc(model = KNeighborsClassifier(), xtrain = X_train,\n",
    "          ytrain = y_train, xtest = X_test, ytest = y_test)"
   ]
  },
  {
   "cell_type": "markdown",
   "id": "57717fde-a4b0-4056-9616-c9f271084483",
   "metadata": {},
   "source": [
    "# NN Development\n",
    "\n",
    "Lets explore a few neural network models using the MLPClassifer from sklearn.\n",
    "\n",
    "We will look at several different values of the number of neurons and hidden layers."
   ]
  },
  {
   "cell_type": "code",
   "execution_count": 49,
   "id": "0d1acbef-e4ef-4b7e-8708-2e93816aca5b",
   "metadata": {},
   "outputs": [
    {
     "name": "stdout",
     "output_type": "stream",
     "text": [
      "CV accuracy 0.903 +/- 0.047\n",
      "Score on Test set: 0.911111\n",
      "CV accuracy 0.958 +/- 0.019\n",
      "Score on Test set: 0.977778\n",
      "CV accuracy 0.965 +/- 0.012\n",
      "Score on Test set: 0.975000\n",
      "CV accuracy 0.967 +/- 0.016\n",
      "Score on Test set: 0.975000\n",
      "CV accuracy 0.981 +/- 0.012\n",
      "Score on Test set: 0.975000\n",
      "CV accuracy 0.981 +/- 0.010\n",
      "Score on Test set: 0.977778\n"
     ]
    }
   ],
   "source": [
    "from sklearn.neural_network import MLPClassifier\n",
    "from warnings import simplefilter\n",
    "from sklearn.exceptions import ConvergenceWarning\n",
    "simplefilter(\"ignore\", category=ConvergenceWarning)\n",
    "\n",
    "\n",
    "nn_1L = [\n",
    "    (8,),\n",
    "    (16,),\n",
    "    (32,),\n",
    "    (64,),\n",
    "    (128,),\n",
    "    (256,)\n",
    "]\n",
    "\n",
    "for neuron in nn_1L:\n",
    "    model = MLPClassifier(neuron)\n",
    "    cross_val(model, xtrain = X_train, ytrain = y_train, kfolds = 10)\n",
    "    test_acc(model = model, xtrain = X_train,\n",
    "          ytrain = y_train, xtest = X_test, ytest = y_test)\n",
    "    \n"
   ]
  },
  {
   "cell_type": "markdown",
   "id": "f0271730-f35a-4178-8aca-647a569b1146",
   "metadata": {},
   "source": [
    "When working with a single layer everything above 8 nodes seems to do roughly the same."
   ]
  },
  {
   "cell_type": "code",
   "execution_count": 51,
   "id": "30814c2b-60d2-4564-aa6e-f2792f1d3ef3",
   "metadata": {},
   "outputs": [
    {
     "name": "stdout",
     "output_type": "stream",
     "text": [
      "CV accuracy 0.913 +/- 0.021\n",
      "Score on Test set: 0.916667\n",
      "CV accuracy 0.955 +/- 0.018\n",
      "Score on Test set: 0.947222\n",
      "CV accuracy 0.968 +/- 0.015\n",
      "Score on Test set: 0.963889\n",
      "CV accuracy 0.974 +/- 0.013\n",
      "Score on Test set: 0.975000\n",
      "CV accuracy 0.976 +/- 0.013\n",
      "Score on Test set: 0.977778\n"
     ]
    }
   ],
   "source": [
    "nn_2L = [\n",
    "    (8,8),\n",
    "    (16,16),\n",
    "    (32,32),\n",
    "    (64,64),\n",
    "    (128,128)\n",
    "]\n",
    "\n",
    "for neuron in nn_2L:\n",
    "    model = MLPClassifier(neuron)\n",
    "    cross_val(model, xtrain = X_train, ytrain = y_train, kfolds = 10)\n",
    "    test_acc(model = model, xtrain = X_train,\n",
    "          ytrain = y_train, xtest = X_test, ytest = y_test)"
   ]
  },
  {
   "cell_type": "code",
   "execution_count": 68,
   "id": "c7fbbce1-4339-4b1c-8c2d-99c4d59e6dea",
   "metadata": {},
   "outputs": [
    {
     "name": "stdout",
     "output_type": "stream",
     "text": [
      "CV accuracy 0.909 +/- 0.032\n",
      "Score on Test set: 0.922222\n",
      "CV accuracy 0.978 +/- 0.012\n",
      "Score on Test set: 0.966667\n",
      "CV accuracy 0.978 +/- 0.012\n",
      "Score on Test set: 0.975000\n"
     ]
    }
   ],
   "source": [
    "nn_3L = [\n",
    "    (8,8,8),\n",
    "    (64,64,64),\n",
    "    (128,128,128)\n",
    "]\n",
    "\n",
    "for neuron in nn_3L:\n",
    "    model = MLPClassifier(neuron)\n",
    "    cross_val(model, xtrain = X_train, ytrain = y_train, kfolds = 10)\n",
    "    test_acc(model = model, xtrain = X_train,\n",
    "          ytrain = y_train, xtest = X_test, ytest = y_test)"
   ]
  },
  {
   "cell_type": "code",
   "execution_count": 65,
   "id": "f3110497-534c-4535-9585-4afa0d98d499",
   "metadata": {},
   "outputs": [],
   "source": [
    "# A better cross val function. This will also return the training and test scores allowing interpretation of bias/variance.\n",
    "# from sklearn.model_selection import cross_validate\n",
    "\n",
    "# def cross_val2(model, xtrain, ytrain, kfolds = 10):\n",
    "#     scores = cross_validate(model,\n",
    "#                              X = X_train,\n",
    "#                              y = y_train,\n",
    "#                              cv = kfolds,\n",
    "#                              n_jobs = 1,\n",
    "#                             return_train_score = True,\n",
    "#                            scoring = 'accuracy')\n",
    "#     print('Train accuracy {:.3f} +/- {:.3f}'.format(np.mean(scores['train_score']),\n",
    "#                                                np.std(scores['train_score'])))\n",
    "#     print('CV accuracy {:.3f} +/- {:.3f}'.format(np.mean(scores['test_score']),\n",
    "#                                                np.std(scores['test_score'])))\n",
    "#     return(scores)\n",
    "\n",
    "\n",
    "\n"
   ]
  },
  {
   "cell_type": "code",
   "execution_count": 66,
   "id": "3ba7a3ac-d620-4cce-bb6b-32db86c84fed",
   "metadata": {},
   "outputs": [
    {
     "name": "stdout",
     "output_type": "stream",
     "text": [
      "Train accuracy 0.991 +/- 0.001\n",
      "CV accuracy 0.984 +/- 0.007\n"
     ]
    }
   ],
   "source": [
    "test = cross_val2(model = KNeighborsClassifier(), xtrain = X_train,\n",
    "          ytrain = y_train, kfolds = 10)"
   ]
  },
  {
   "cell_type": "markdown",
   "id": "fe4d2b3e-207d-455c-8e5e-c83db6d1c40c",
   "metadata": {},
   "source": [
    "# Results\n",
    "\n",
    "Neural networks did okay, however they were outperformed in this particular task by KNN classifiers in both speed and accuracy."
   ]
  }
 ],
 "metadata": {
  "kernelspec": {
   "display_name": "base",
   "language": "python",
   "name": "base"
  },
  "language_info": {
   "codemirror_mode": {
    "name": "ipython",
    "version": 3
   },
   "file_extension": ".py",
   "mimetype": "text/x-python",
   "name": "python",
   "nbconvert_exporter": "python",
   "pygments_lexer": "ipython3",
   "version": "3.9.12"
  }
 },
 "nbformat": 4,
 "nbformat_minor": 5
}
