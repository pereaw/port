{
 "cells": [
  {
   "cell_type": "markdown",
   "metadata": {
    "id": "UNmkdWoXvkBE"
   },
   "source": [
    "# Image Classification on CIFAR-10\n",
    "In this notebook we will explore different deep learning architectures for image classification on the CIFAR-10 dataset. We will accomplish a couple of things:\n",
    "\n",
    "1. For a fully-connected output with 1 fully-connected hidden layer, we have one hidden layer denoted as $x_{hidden} \\in \\mathbb{R}^M$, where $M$ will be a hyperparameter that can be chosen to be in the hundreds. The nonlinearity applied to the hidden layer will be the rectified linear unit (ReLU) defined as ReLU(x) = max{0, x}.This network can be written as $$x_{out} = W_2ReLU(W_1(x_{in}) + b_1) + b_2$$, where $W_1 \\in \\mathbb{R}^{M \\times 3072}$, $b_1 \\in \\mathbb{R}^M$, $W_2 \\in \\mathbb{R}^{10 \\times M}$, and $b_2 \\in \\mathbb{R}^{10}$. To achieve a validation accuracy of roughly 50%, we need to tune the different hyperparameters and train the network for a sufficient number of epochs. The hyperparameter configuration used to achieve this performance will be provided.\n",
    "\n",
    "2. A convolutional layer with max-pool and fully-connected output can be represented as follows: Let W1 be a convolutional layer with filters of size k x k x 3 and M filters, where reasonable choices for M and k are 100 and 5, respectively. Then, we have that Conv2d$(xin, W1) \\in \\mathbb{R}^{(33-k)\\times(33-k)\\times M}$. Each convolution will have its own offset applied to each of the output pixels of the convolution, denoted as Conv2d$(x^{in}, W) + b1$, where $b_1$ is parameterized in $\\mathbb{R}^M$. Finally, we apply a ReLU activation function to the result of the convolutional layer. The network can be written as: $$x_{output} = W_2 \\left( \\text{MaxPool} \\left( \\text{relu} \\left( \\text{Conv2d} \\left( x_{input}, W_1 \\right) + b_1 \\right) \\right) \\right) + b $$ We will be looking for a validation accuracy of roughly 65%.\n",
    "\n"
   ]
  },
  {
   "cell_type": "code",
   "execution_count": 1,
   "metadata": {
    "id": "bb7WymOmv_cx"
   },
   "outputs": [],
   "source": [
    "import torch\n",
    "from torch import nn\n",
    "import numpy as np\n",
    "\n",
    "from typing import Tuple, Union, List, Callable\n",
    "from torch.optim import SGD\n",
    "import torchvision\n",
    "from torch.utils.data import DataLoader, TensorDataset, random_split\n",
    "import matplotlib.pyplot as plt\n",
    "from tqdm.notebook import tqdm\n",
    "\n",
    "%matplotlib inline "
   ]
  },
  {
   "cell_type": "markdown",
   "metadata": {
    "id": "-SusLoH91CEz"
   },
   "source": [
    "Let's verify that we are using a gpu:"
   ]
  },
  {
   "cell_type": "code",
   "execution_count": 2,
   "metadata": {
    "colab": {
     "base_uri": "https://localhost:8080/"
    },
    "id": "vmxNdxwvxNs1",
    "outputId": "b15a87a2-1199-4be3-bbcb-591d1686d99a"
   },
   "outputs": [
    {
     "name": "stdout",
     "output_type": "stream",
     "text": [
      "cuda\n"
     ]
    }
   ],
   "source": [
    "assert torch.cuda.is_available(), \"GPU is not available\"\n",
    "\n",
    "DEVICE = \"cuda\" if torch.cuda.is_available() else \"cpu\"\n",
    "print(DEVICE)  # this should print out CUDA"
   ]
  },
  {
   "cell_type": "markdown",
   "metadata": {
    "id": "xODE5P5D1Wwy"
   },
   "source": [
    "# Load the dataset\n",
    "Let's load CIFAR-10 data."
   ]
  },
  {
   "cell_type": "code",
   "execution_count": 350,
   "metadata": {
    "colab": {
     "base_uri": "https://localhost:8080/"
    },
    "id": "wOvLuZry1cKc",
    "outputId": "080f62ec-5519-46b8-d465-fa75816613cb"
   },
   "outputs": [
    {
     "name": "stdout",
     "output_type": "stream",
     "text": [
      "Files already downloaded and verified\n",
      "Files already downloaded and verified\n"
     ]
    }
   ],
   "source": [
    "train_dataset = torchvision.datasets.CIFAR10(\"./data\", train=True, download=True, transform=torchvision.transforms.ToTensor())\n",
    "test_dataset = torchvision.datasets.CIFAR10(\"./data\", train=False, download=True, transform=torchvision.transforms.ToTensor())"
   ]
  },
  {
   "cell_type": "markdown",
   "metadata": {
    "id": "oG78KMOj61HJ"
   },
   "source": [
    "Here, we'll use the torch `DataLoader` to wrap our datasets. `DataLoader`s handle batching, shuffling, and iterating over data; they can also be useful for building more complex input pipelines that perform transfoermations such as data augmentation.\n",
    "\n",
    "Due to the demand of training time I will make two train and validate sets. Our standard train/validate split is going to be 90/10. Instead I will just use 10/10 and then throw away the remaining 80% of the data for the hyperparameter tuning. Once I have found hyperparameters I will run the model on the full train set. Note that this may give 'suboptimal' hyperparameters compared to searching on the full train set."
   ]
  },
  {
   "cell_type": "code",
   "execution_count": 351,
   "metadata": {
    "id": "mHIZY4BoRxvC"
   },
   "outputs": [],
   "source": [
    "batch_size = 128\n",
    "\n",
    "train_dataset, val_dataset = random_split(train_dataset, [int(0.9 * len(train_dataset)), int( 0.1 * len(train_dataset))])\n",
    "\n",
    "# Create separate dataloaders for the train, test, and validation set\n",
    "train_loader = DataLoader(\n",
    "    train_dataset,\n",
    "    batch_size=batch_size,\n",
    "    shuffle=True\n",
    ")\n",
    "\n",
    "val_loader = DataLoader(\n",
    "    val_dataset,\n",
    "    batch_size=batch_size,\n",
    "    shuffle=True\n",
    ")\n",
    "\n",
    "test_loader = DataLoader(\n",
    "    test_dataset,\n",
    "    batch_size=batch_size,\n",
    "    shuffle=True\n",
    ")"
   ]
  },
  {
   "cell_type": "code",
   "execution_count": 352,
   "metadata": {},
   "outputs": [],
   "source": [
    "batch_size = 128\n",
    "\n",
    "small_train_dataset, small_val_dataset, throw_away = random_split(train_dataset, [int(0.1 * len(train_dataset)), int( 0.1 * len(train_dataset)), int(0.8*len(train_dataset))])\n",
    "\n",
    "# Create separate dataloaders for the train, test, and validation set\n",
    "train_loader_small = DataLoader(\n",
    "    small_train_dataset,\n",
    "    batch_size=batch_size,\n",
    "    shuffle=True\n",
    ")\n",
    "\n",
    "val_loader_small = DataLoader(\n",
    "    small_val_dataset,\n",
    "    batch_size=batch_size,\n",
    "    shuffle=True\n",
    ")\n",
    "\n",
    "test_loader_small = DataLoader(\n",
    "    test_dataset,\n",
    "    batch_size=batch_size,\n",
    "    shuffle=True\n",
    ")"
   ]
  },
  {
   "cell_type": "markdown",
   "metadata": {
    "id": "ELjydYRt5Frf"
   },
   "source": [
    "Before we get started, let's take a look at our data to get an understanding of what we are doing. CIFAR-10 is a dataset containing images split into 10 classes."
   ]
  },
  {
   "cell_type": "code",
   "execution_count": 333,
   "metadata": {
    "colab": {
     "base_uri": "https://localhost:8080/",
     "height": 370
    },
    "id": "_UU8aIle5m8Q",
    "outputId": "f55d6286-7701-473e-fbbb-b0e960abe6f4"
   },
   "outputs": [
    {
     "name": "stdout",
     "output_type": "stream",
     "text": [
      "A single batch of images has shape: torch.Size([128, 3, 32, 32])\n",
      "A single RGB image has 3 channels, width 32, and height 32.\n",
      "Size of a batch of images flattened with view: torch.Size([128, 3072])\n",
      "Size of a batch of images flattened with flatten: torch.Size([128, 3072])\n",
      "True\n",
      "This image is labeled as class airplane\n"
     ]
    },
    {
     "data": {
      "image/png": "[encoded data removed]",
      "text/plain": [
       "<Figure size 640x480 with 1 Axes>"
      ]
     },
     "metadata": {},
     "output_type": "display_data"
    }
   ],
   "source": [
    "imgs, labels = next(iter(train_loader))\n",
    "print(f\"A single batch of images has shape: {imgs.size()}\")\n",
    "example_image, example_label = imgs[0], labels[0]\n",
    "c, w, h = example_image.size()\n",
    "print(f\"A single RGB image has {c} channels, width {w}, and height {h}.\")\n",
    "\n",
    "# This is one way to flatten our images\n",
    "batch_flat_view = imgs.view(-1, c * w * h)\n",
    "print(f\"Size of a batch of images flattened with view: {batch_flat_view.size()}\")\n",
    "\n",
    "# This is another equivalent way\n",
    "batch_flat_flatten = imgs.flatten(1)\n",
    "print(f\"Size of a batch of images flattened with flatten: {batch_flat_flatten.size()}\")\n",
    "\n",
    "# The new dimension is just the product of the ones we flattened\n",
    "d = example_image.flatten().size()[0]\n",
    "print(c * w * h == d)\n",
    "\n",
    "# View the image\n",
    "t =  torchvision.transforms.ToPILImage()\n",
    "plt.imshow(t(example_image))\n",
    "\n",
    "# These are what the class labels in CIFAR-10 represent. For more information,\n",
    "# visit https://www.cs.toronto.edu/~kriz/cifar.html\n",
    "classes = [\"airplane\", \"automobile\", \"bird\", \"cat\", \"deer\", \"dog\", \"frog\",\n",
    "           \"horse\", \"ship\", \"truck\"]\n",
    "print(f\"This image is labeled as class {classes[example_label]}\")\n"
   ]
  },
  {
   "cell_type": "markdown",
   "metadata": {
    "id": "JdBbLQdC_mA_"
   },
   "source": [
    "In this problem, we will attempt to predict what class an image is labeled as."
   ]
  },
  {
   "cell_type": "markdown",
   "metadata": {
    "id": "J3HQyGMn_42D"
   },
   "source": [
    "# Fully Connected NN w/ 1 layer (wide neural net)\n",
    "First, let's create the fully connected NN with 1 hidden layer. We will have the size of the hidden layer be the hyperparamter M."
   ]
  },
  {
   "cell_type": "code",
   "execution_count": 48,
   "metadata": {
    "id": "5qLVC9PbACDt"
   },
   "outputs": [],
   "source": [
    "def fully_connected(M: int) -> nn.Module:\n",
    "    model = nn.Sequential(\n",
    "        nn.Flatten(),\n",
    "        nn.Linear(3072, M),\n",
    "        nn.ReLU(),\n",
    "        nn.Linear(M, 10)\n",
    "    )\n",
    "    return model.to(DEVICE)"
   ]
  },
  {
   "cell_type": "markdown",
   "metadata": {
    "id": "kd49udL8AZ_E"
   },
   "source": [
    "Let's define a method to train this model using SGD as our optimizer."
   ]
  },
  {
   "cell_type": "code",
   "execution_count": 46,
   "metadata": {
    "id": "YgcFP1-UBj1Z"
   },
   "outputs": [],
   "source": [
    "def train(\n",
    "    model: nn.Module, optimizer: SGD,\n",
    "    train_loader: DataLoader, val_loader: DataLoader,\n",
    "    epochs: int = 20\n",
    "    )-> Tuple[List[float], List[float], List[float], List[float]]:\n",
    "    \"\"\"\n",
    "    Trains a model for the specified number of epochs using the loaders.\n",
    "\n",
    "    Returns: \n",
    "    Lists of training loss, training accuracy, validation loss, validation accuracy for each epoch.\n",
    "    \"\"\"\n",
    "\n",
    "    loss = nn.CrossEntropyLoss()\n",
    "    train_losses = []\n",
    "    train_accuracies = []\n",
    "    val_losses = []\n",
    "    val_accuracies = []\n",
    "    for e in tqdm(range(epochs)):\n",
    "        model.train()\n",
    "        train_loss = 0.0\n",
    "        train_acc = 0.0\n",
    "\n",
    "        # Main training loop; iterate over train_loader. The loop\n",
    "        # terminates when the train loader finishes iterating, which is one epoch.\n",
    "        for (x_batch, labels) in train_loader:\n",
    "            x_batch, labels = x_batch.to(DEVICE), labels.to(DEVICE)\n",
    "            optimizer.zero_grad()\n",
    "            labels_pred = model(x_batch)\n",
    "            batch_loss = loss(labels_pred, labels)\n",
    "            train_loss = train_loss + batch_loss.item()\n",
    "\n",
    "            labels_pred_max = torch.argmax(labels_pred, 1)\n",
    "            batch_acc = torch.sum(labels_pred_max == labels)\n",
    "            train_acc = train_acc + batch_acc.item()\n",
    "\n",
    "            batch_loss.backward()\n",
    "            optimizer.step()\n",
    "        train_losses.append(train_loss / len(train_loader))\n",
    "        train_accuracies.append(train_acc / (batch_size * len(train_loader)))\n",
    "\n",
    "        # Validation loop; use .no_grad() context manager to save memory.\n",
    "        model.eval()\n",
    "        val_loss = 0.0\n",
    "        val_acc = 0.0\n",
    "\n",
    "        with torch.no_grad():\n",
    "            for (v_batch, labels) in val_loader:\n",
    "                v_batch, labels = v_batch.to(DEVICE), labels.to(DEVICE)\n",
    "                labels_pred = model(v_batch)\n",
    "                v_batch_loss = loss(labels_pred, labels)\n",
    "                val_loss = val_loss + v_batch_loss.item()\n",
    "\n",
    "                v_pred_max = torch.argmax(labels_pred, 1)\n",
    "                batch_acc = torch.sum(v_pred_max == labels)\n",
    "                val_acc = val_acc + batch_acc.item()\n",
    "            val_losses.append(val_loss / len(val_loader))\n",
    "            val_accuracies.append(val_acc / (batch_size * len(val_loader)))\n",
    "\n",
    "    return train_losses, train_accuracies, val_losses, val_accuracies\n"
   ]
  },
  {
   "cell_type": "code",
   "execution_count": 298,
   "metadata": {},
   "outputs": [
    {
     "data": {
      "application/vnd.jupyter.widget-view+json": {
       "model_id": "c69f85a65245452583540f999ec6766d",
       "version_major": 2,
       "version_minor": 0
      },
      "text/plain": [
       "  0%|          | 0/10 [00:00<?, ?it/s]"
      ]
     },
     "metadata": {},
     "output_type": "display_data"
    },
    {
     "data": {
      "text/plain": [
       "([2.226575933653733,\n",
       "  2.106208184669758,\n",
       "  2.0517236405405503,\n",
       "  1.9936506378239598,\n",
       "  1.9599233372458096,\n",
       "  1.9191480505055394,\n",
       "  1.9190702849421009,\n",
       "  1.9097147316768253,\n",
       "  1.8672046414737045,\n",
       "  1.8514251133491253],\n",
       " [0.16648706896551724,\n",
       "  0.22225215517241378,\n",
       "  0.2543103448275862,\n",
       "  0.2634698275862069,\n",
       "  0.2974137931034483,\n",
       "  0.3041487068965517,\n",
       "  0.3036099137931034,\n",
       "  0.3068426724137931,\n",
       "  0.3192349137931034,\n",
       "  0.3302801724137931],\n",
       " [2.233633986834822,\n",
       "  2.0704296786209633,\n",
       "  2.068704868185109,\n",
       "  2.0030593296577193,\n",
       "  1.9814749709491073,\n",
       "  2.090043487219975,\n",
       "  1.9385942138474563,\n",
       "  1.940429868369267,\n",
       "  2.0775221791760674,\n",
       "  1.8742775177133495],\n",
       " [0.1584051724137931,\n",
       "  0.25700431034482757,\n",
       "  0.22332974137931033,\n",
       "  0.27424568965517243,\n",
       "  0.2685883620689655,\n",
       "  0.23329741379310345,\n",
       "  0.2874461206896552,\n",
       "  0.29364224137931033,\n",
       "  0.2626616379310345,\n",
       "  0.3308189655172414])"
      ]
     },
     "execution_count": 298,
     "metadata": {},
     "output_type": "execute_result"
    }
   ],
   "source": [
    "#Check if the train function works\n",
    "\n",
    "model = fully_connected(50)\n",
    "optimizer = SGD(model.parameters(), 0.05)\n",
    "\n",
    "train(model, optimizer = optimizer, train_loader = train_loader_small, val_loader = val_loader_small, epochs = 10)"
   ]
  },
  {
   "cell_type": "markdown",
   "metadata": {},
   "source": [
    "# WNN hyperparameter tuning\n",
    "\n",
    "Optuna is extremely nice for hyperparameter searches.  Lets create a basic study using the smaller dataset so it trains relatively quickly. Optuna uses baeysian search so it should technically find more optimal hyperparameters quicker than grid or random search. "
   ]
  },
  {
   "cell_type": "code",
   "execution_count": 87,
   "metadata": {},
   "outputs": [
    {
     "name": "stderr",
     "output_type": "stream",
     "text": [
      "\u001b[32m[I 2023-03-14 15:26:52,027]\u001b[0m A new study created in memory with name: no-name-7c6f005e-b63f-4e24-8885-2e6f6c369412\u001b[0m\n"
     ]
    },
    {
     "data": {
      "application/vnd.jupyter.widget-view+json": {
       "model_id": "780d95427b8e48b0bff0e7b1b93b4609",
       "version_major": 2,
       "version_minor": 0
      },
      "text/plain": [
       "  0%|          | 0/15 [00:00<?, ?it/s]"
      ]
     },
     "metadata": {},
     "output_type": "display_data"
    },
    {
     "name": "stderr",
     "output_type": "stream",
     "text": [
      "\u001b[32m[I 2023-03-14 15:27:21,347]\u001b[0m Trial 0 finished with value: 0.33001077586206895 and parameters: {'learning_rate': 0.02060455955681592, 'M': 757}. Best is trial 0 with value: 0.33001077586206895.\u001b[0m\n"
     ]
    },
    {
     "data": {
      "application/vnd.jupyter.widget-view+json": {
       "model_id": "040e58ac199448428c345bd9129e79e0",
       "version_major": 2,
       "version_minor": 0
      },
      "text/plain": [
       "  0%|          | 0/15 [00:00<?, ?it/s]"
      ]
     },
     "metadata": {},
     "output_type": "display_data"
    },
    {
     "name": "stderr",
     "output_type": "stream",
     "text": [
      "\u001b[32m[I 2023-03-14 15:27:50,616]\u001b[0m Trial 1 finished with value: 0.34375 and parameters: {'learning_rate': 0.024301058780475754, 'M': 1012}. Best is trial 1 with value: 0.34375.\u001b[0m\n"
     ]
    },
    {
     "data": {
      "application/vnd.jupyter.widget-view+json": {
       "model_id": "3cb61a58ebb24b3d91504a644c624f35",
       "version_major": 2,
       "version_minor": 0
      },
      "text/plain": [
       "  0%|          | 0/15 [00:00<?, ?it/s]"
      ]
     },
     "metadata": {},
     "output_type": "display_data"
    },
    {
     "name": "stderr",
     "output_type": "stream",
     "text": [
      "\u001b[32m[I 2023-03-14 15:28:17,585]\u001b[0m Trial 2 finished with value: 0.2505387931034483 and parameters: {'learning_rate': 0.003532003450566337, 'M': 143}. Best is trial 1 with value: 0.34375.\u001b[0m\n"
     ]
    },
    {
     "data": {
      "application/vnd.jupyter.widget-view+json": {
       "model_id": "138d76acbc344455aa673f91a731e2a7",
       "version_major": 2,
       "version_minor": 0
      },
      "text/plain": [
       "  0%|          | 0/15 [00:00<?, ?it/s]"
      ]
     },
     "metadata": {},
     "output_type": "display_data"
    },
    {
     "name": "stderr",
     "output_type": "stream",
     "text": [
      "\u001b[32m[I 2023-03-14 15:28:47,103]\u001b[0m Trial 3 finished with value: 0.34913793103448276 and parameters: {'learning_rate': 0.0419173079624403, 'M': 823}. Best is trial 3 with value: 0.34913793103448276.\u001b[0m\n"
     ]
    },
    {
     "data": {
      "application/vnd.jupyter.widget-view+json": {
       "model_id": "52bf3654929e435c935a7345455f4377",
       "version_major": 2,
       "version_minor": 0
      },
      "text/plain": [
       "  0%|          | 0/15 [00:00<?, ?it/s]"
      ]
     },
     "metadata": {},
     "output_type": "display_data"
    },
    {
     "name": "stderr",
     "output_type": "stream",
     "text": [
      "\u001b[32m[I 2023-03-14 15:29:17,315]\u001b[0m Trial 4 finished with value: 0.3588362068965517 and parameters: {'learning_rate': 0.051956525536124405, 'M': 979}. Best is trial 4 with value: 0.3588362068965517.\u001b[0m\n"
     ]
    },
    {
     "data": {
      "application/vnd.jupyter.widget-view+json": {
       "model_id": "69851e49ed944cd3931a4bbe34db304e",
       "version_major": 2,
       "version_minor": 0
      },
      "text/plain": [
       "  0%|          | 0/15 [00:00<?, ?it/s]"
      ]
     },
     "metadata": {},
     "output_type": "display_data"
    },
    {
     "name": "stderr",
     "output_type": "stream",
     "text": [
      "\u001b[32m[I 2023-03-14 15:29:46,712]\u001b[0m Trial 5 finished with value: 0.3125 and parameters: {'learning_rate': 0.08283097383688497, 'M': 769}. Best is trial 4 with value: 0.3588362068965517.\u001b[0m\n"
     ]
    },
    {
     "data": {
      "application/vnd.jupyter.widget-view+json": {
       "model_id": "59c334df32a9442f972122418dad666c",
       "version_major": 2,
       "version_minor": 0
      },
      "text/plain": [
       "  0%|          | 0/15 [00:00<?, ?it/s]"
      ]
     },
     "metadata": {},
     "output_type": "display_data"
    },
    {
     "name": "stderr",
     "output_type": "stream",
     "text": [
      "\u001b[32m[I 2023-03-14 15:30:15,690]\u001b[0m Trial 6 finished with value: 0.2801724137931034 and parameters: {'learning_rate': 0.0037663821790539843, 'M': 612}. Best is trial 4 with value: 0.3588362068965517.\u001b[0m\n"
     ]
    },
    {
     "data": {
      "application/vnd.jupyter.widget-view+json": {
       "model_id": "041864eea3164c1c8bb00643eacc5a31",
       "version_major": 2,
       "version_minor": 0
      },
      "text/plain": [
       "  0%|          | 0/15 [00:00<?, ?it/s]"
      ]
     },
     "metadata": {},
     "output_type": "display_data"
    },
    {
     "name": "stderr",
     "output_type": "stream",
     "text": [
      "\u001b[32m[I 2023-03-14 15:30:44,017]\u001b[0m Trial 7 finished with value: 0.2890625 and parameters: {'learning_rate': 0.09728195096108615, 'M': 409}. Best is trial 4 with value: 0.3588362068965517.\u001b[0m\n"
     ]
    },
    {
     "data": {
      "application/vnd.jupyter.widget-view+json": {
       "model_id": "4cc67348563e4223a8ab0cc18158f333",
       "version_major": 2,
       "version_minor": 0
      },
      "text/plain": [
       "  0%|          | 0/15 [00:00<?, ?it/s]"
      ]
     },
     "metadata": {},
     "output_type": "display_data"
    },
    {
     "name": "stderr",
     "output_type": "stream",
     "text": [
      "\u001b[32m[I 2023-03-14 15:31:11,727]\u001b[0m Trial 8 finished with value: 0.3025323275862069 and parameters: {'learning_rate': 0.018564416652869755, 'M': 300}. Best is trial 4 with value: 0.3588362068965517.\u001b[0m\n"
     ]
    },
    {
     "data": {
      "application/vnd.jupyter.widget-view+json": {
       "model_id": "6a4a7b63a2fc48b2ac8af175d7c56d28",
       "version_major": 2,
       "version_minor": 0
      },
      "text/plain": [
       "  0%|          | 0/15 [00:00<?, ?it/s]"
      ]
     },
     "metadata": {},
     "output_type": "display_data"
    },
    {
     "name": "stderr",
     "output_type": "stream",
     "text": [
      "\u001b[32m[I 2023-03-14 15:31:40,654]\u001b[0m Trial 9 finished with value: 0.33216594827586204 and parameters: {'learning_rate': 0.021898233284751573, 'M': 536}. Best is trial 4 with value: 0.3588362068965517.\u001b[0m\n"
     ]
    },
    {
     "data": {
      "application/vnd.jupyter.widget-view+json": {
       "model_id": "13a0afb15e6c492496ceabac0549ff08",
       "version_major": 2,
       "version_minor": 0
      },
      "text/plain": [
       "  0%|          | 0/15 [00:00<?, ?it/s]"
      ]
     },
     "metadata": {},
     "output_type": "display_data"
    },
    {
     "name": "stderr",
     "output_type": "stream",
     "text": [
      "\u001b[32m[I 2023-03-14 15:32:12,526]\u001b[0m Trial 10 finished with value: 0.2588900862068966 and parameters: {'learning_rate': 0.001775855028831536, 'M': 1483}. Best is trial 4 with value: 0.3588362068965517.\u001b[0m\n"
     ]
    },
    {
     "data": {
      "application/vnd.jupyter.widget-view+json": {
       "model_id": "473c84392cff4d3d917d3b31f355a8bf",
       "version_major": 2,
       "version_minor": 0
      },
      "text/plain": [
       "  0%|          | 0/15 [00:00<?, ?it/s]"
      ]
     },
     "metadata": {},
     "output_type": "display_data"
    },
    {
     "name": "stderr",
     "output_type": "stream",
     "text": [
      "\u001b[32m[I 2023-03-14 15:32:42,796]\u001b[0m Trial 11 finished with value: 0.3494073275862069 and parameters: {'learning_rate': 0.04937233238867073, 'M': 1084}. Best is trial 4 with value: 0.3588362068965517.\u001b[0m\n"
     ]
    },
    {
     "data": {
      "application/vnd.jupyter.widget-view+json": {
       "model_id": "ce1619a6731346ac8f3103559f282ed5",
       "version_major": 2,
       "version_minor": 0
      },
      "text/plain": [
       "  0%|          | 0/15 [00:00<?, ?it/s]"
      ]
     },
     "metadata": {},
     "output_type": "display_data"
    },
    {
     "name": "stderr",
     "output_type": "stream",
     "text": [
      "\u001b[32m[I 2023-03-14 15:33:13,138]\u001b[0m Trial 12 finished with value: 0.2842133620689655 and parameters: {'learning_rate': 0.04957718822964586, 'M': 1142}. Best is trial 4 with value: 0.3588362068965517.\u001b[0m\n"
     ]
    },
    {
     "data": {
      "application/vnd.jupyter.widget-view+json": {
       "model_id": "9d85d2fb688542debce0e5aa143f9966",
       "version_major": 2,
       "version_minor": 0
      },
      "text/plain": [
       "  0%|          | 0/15 [00:00<?, ?it/s]"
      ]
     },
     "metadata": {},
     "output_type": "display_data"
    },
    {
     "name": "stderr",
     "output_type": "stream",
     "text": [
      "\u001b[32m[I 2023-03-14 15:33:43,665]\u001b[0m Trial 13 finished with value: 0.31438577586206895 and parameters: {'learning_rate': 0.011398993448359155, 'M': 1259}. Best is trial 4 with value: 0.3588362068965517.\u001b[0m\n"
     ]
    },
    {
     "data": {
      "application/vnd.jupyter.widget-view+json": {
       "model_id": "10275efd365d48158929530c56468ff8",
       "version_major": 2,
       "version_minor": 0
      },
      "text/plain": [
       "  0%|          | 0/15 [00:00<?, ?it/s]"
      ]
     },
     "metadata": {},
     "output_type": "display_data"
    },
    {
     "name": "stderr",
     "output_type": "stream",
     "text": [
      "\u001b[32m[I 2023-03-14 15:34:13,064]\u001b[0m Trial 14 finished with value: 0.3308189655172414 and parameters: {'learning_rate': 0.049463464281658355, 'M': 997}. Best is trial 4 with value: 0.3588362068965517.\u001b[0m\n"
     ]
    },
    {
     "data": {
      "application/vnd.jupyter.widget-view+json": {
       "model_id": "2069d08a751b47de91a9b79bdbdabcf2",
       "version_major": 2,
       "version_minor": 0
      },
      "text/plain": [
       "  0%|          | 0/15 [00:00<?, ?it/s]"
      ]
     },
     "metadata": {},
     "output_type": "display_data"
    },
    {
     "name": "stderr",
     "output_type": "stream",
     "text": [
      "\u001b[32m[I 2023-03-14 15:34:42,797]\u001b[0m Trial 15 finished with value: 0.3407866379310345 and parameters: {'learning_rate': 0.044564890538806544, 'M': 1246}. Best is trial 4 with value: 0.3588362068965517.\u001b[0m\n"
     ]
    },
    {
     "data": {
      "application/vnd.jupyter.widget-view+json": {
       "model_id": "e095deee094841b7a9e7f154fd352586",
       "version_major": 2,
       "version_minor": 0
      },
      "text/plain": [
       "  0%|          | 0/15 [00:00<?, ?it/s]"
      ]
     },
     "metadata": {},
     "output_type": "display_data"
    },
    {
     "name": "stderr",
     "output_type": "stream",
     "text": [
      "\u001b[32m[I 2023-03-14 15:35:12,809]\u001b[0m Trial 16 finished with value: 0.3230064655172414 and parameters: {'learning_rate': 0.010564611263775083, 'M': 1497}. Best is trial 4 with value: 0.3588362068965517.\u001b[0m\n"
     ]
    },
    {
     "data": {
      "application/vnd.jupyter.widget-view+json": {
       "model_id": "e66ecf0299e2455995a593e59c3aa3df",
       "version_major": 2,
       "version_minor": 0
      },
      "text/plain": [
       "  0%|          | 0/15 [00:00<?, ?it/s]"
      ]
     },
     "metadata": {},
     "output_type": "display_data"
    },
    {
     "name": "stderr",
     "output_type": "stream",
     "text": [
      "\u001b[32m[I 2023-03-14 15:35:42,169]\u001b[0m Trial 17 finished with value: 0.3108836206896552 and parameters: {'learning_rate': 0.08995649601360375, 'M': 965}. Best is trial 4 with value: 0.3588362068965517.\u001b[0m\n"
     ]
    },
    {
     "data": {
      "application/vnd.jupyter.widget-view+json": {
       "model_id": "be3efa07caed47d2855e3b1b2293a388",
       "version_major": 2,
       "version_minor": 0
      },
      "text/plain": [
       "  0%|          | 0/15 [00:00<?, ?it/s]"
      ]
     },
     "metadata": {},
     "output_type": "display_data"
    },
    {
     "name": "stderr",
     "output_type": "stream",
     "text": [
      "\u001b[32m[I 2023-03-14 15:36:12,063]\u001b[0m Trial 18 finished with value: 0.31950431034482757 and parameters: {'learning_rate': 0.034435099152041994, 'M': 1157}. Best is trial 4 with value: 0.3588362068965517.\u001b[0m\n"
     ]
    },
    {
     "data": {
      "application/vnd.jupyter.widget-view+json": {
       "model_id": "d69944b1619b4dd5bac9754e292e8a59",
       "version_major": 2,
       "version_minor": 0
      },
      "text/plain": [
       "  0%|          | 0/15 [00:00<?, ?it/s]"
      ]
     },
     "metadata": {},
     "output_type": "display_data"
    },
    {
     "name": "stderr",
     "output_type": "stream",
     "text": [
      "\u001b[32m[I 2023-03-14 15:36:41,513]\u001b[0m Trial 19 finished with value: 0.3407866379310345 and parameters: {'learning_rate': 0.06409856181811871, 'M': 1358}. Best is trial 4 with value: 0.3588362068965517.\u001b[0m\n"
     ]
    },
    {
     "data": {
      "application/vnd.jupyter.widget-view+json": {
       "model_id": "02e4f1091bc24924948749f11a8ff5a8",
       "version_major": 2,
       "version_minor": 0
      },
      "text/plain": [
       "  0%|          | 0/15 [00:00<?, ?it/s]"
      ]
     },
     "metadata": {},
     "output_type": "display_data"
    },
    {
     "name": "stderr",
     "output_type": "stream",
     "text": [
      "\u001b[32m[I 2023-03-14 15:37:10,847]\u001b[0m Trial 20 finished with value: 0.3375538793103448 and parameters: {'learning_rate': 0.03507023003325991, 'M': 901}. Best is trial 4 with value: 0.3588362068965517.\u001b[0m\n"
     ]
    },
    {
     "data": {
      "application/vnd.jupyter.widget-view+json": {
       "model_id": "a8357b3d95cc4e92b84a69870224d1cb",
       "version_major": 2,
       "version_minor": 0
      },
      "text/plain": [
       "  0%|          | 0/15 [00:00<?, ?it/s]"
      ]
     },
     "metadata": {},
     "output_type": "display_data"
    },
    {
     "name": "stderr",
     "output_type": "stream",
     "text": [
      "\u001b[32m[I 2023-03-14 15:37:40,145]\u001b[0m Trial 21 finished with value: 0.38200431034482757 and parameters: {'learning_rate': 0.06779561769476368, 'M': 844}. Best is trial 21 with value: 0.38200431034482757.\u001b[0m\n"
     ]
    },
    {
     "data": {
      "application/vnd.jupyter.widget-view+json": {
       "model_id": "37dcb36d17d24857863eb820284ed8de",
       "version_major": 2,
       "version_minor": 0
      },
      "text/plain": [
       "  0%|          | 0/15 [00:00<?, ?it/s]"
      ]
     },
     "metadata": {},
     "output_type": "display_data"
    },
    {
     "name": "stderr",
     "output_type": "stream",
     "text": [
      "\u001b[32m[I 2023-03-14 15:38:08,937]\u001b[0m Trial 22 finished with value: 0.32947198275862066 and parameters: {'learning_rate': 0.0632262027120467, 'M': 654}. Best is trial 21 with value: 0.38200431034482757.\u001b[0m\n"
     ]
    },
    {
     "data": {
      "application/vnd.jupyter.widget-view+json": {
       "model_id": "ee0e0b4dbc734f089bb8d3b94e2bf37d",
       "version_major": 2,
       "version_minor": 0
      },
      "text/plain": [
       "  0%|          | 0/15 [00:00<?, ?it/s]"
      ]
     },
     "metadata": {},
     "output_type": "display_data"
    },
    {
     "name": "stderr",
     "output_type": "stream",
     "text": [
      "\u001b[32m[I 2023-03-14 15:38:39,151]\u001b[0m Trial 23 finished with value: 0.3415948275862069 and parameters: {'learning_rate': 0.0665048932007465, 'M': 1074}. Best is trial 21 with value: 0.38200431034482757.\u001b[0m\n"
     ]
    },
    {
     "data": {
      "application/vnd.jupyter.widget-view+json": {
       "model_id": "c79dc4d4a4a34eb68b8f632c2b8ee037",
       "version_major": 2,
       "version_minor": 0
      },
      "text/plain": [
       "  0%|          | 0/15 [00:00<?, ?it/s]"
      ]
     },
     "metadata": {},
     "output_type": "display_data"
    },
    {
     "name": "stderr",
     "output_type": "stream",
     "text": [
      "\u001b[32m[I 2023-03-14 15:39:08,778]\u001b[0m Trial 24 finished with value: 0.3130387931034483 and parameters: {'learning_rate': 0.03166171989070559, 'M': 897}. Best is trial 21 with value: 0.38200431034482757.\u001b[0m\n"
     ]
    },
    {
     "data": {
      "application/vnd.jupyter.widget-view+json": {
       "model_id": "f39a3d2b6690411a9483040209d55065",
       "version_major": 2,
       "version_minor": 0
      },
      "text/plain": [
       "  0%|          | 0/15 [00:00<?, ?it/s]"
      ]
     },
     "metadata": {},
     "output_type": "display_data"
    },
    {
     "name": "stderr",
     "output_type": "stream",
     "text": [
      "\u001b[32m[I 2023-03-14 15:39:39,141]\u001b[0m Trial 25 finished with value: 0.32623922413793105 and parameters: {'learning_rate': 0.09776245196807334, 'M': 1104}. Best is trial 21 with value: 0.38200431034482757.\u001b[0m\n"
     ]
    },
    {
     "data": {
      "application/vnd.jupyter.widget-view+json": {
       "model_id": "7066611ad5e44f83af580d9fe6384cd1",
       "version_major": 2,
       "version_minor": 0
      },
      "text/plain": [
       "  0%|          | 0/15 [00:00<?, ?it/s]"
      ]
     },
     "metadata": {},
     "output_type": "display_data"
    },
    {
     "name": "stderr",
     "output_type": "stream",
     "text": [
      "\u001b[32m[I 2023-03-14 15:40:07,926]\u001b[0m Trial 26 finished with value: 0.3275862068965517 and parameters: {'learning_rate': 0.05970551425119402, 'M': 670}. Best is trial 21 with value: 0.38200431034482757.\u001b[0m\n"
     ]
    },
    {
     "data": {
      "application/vnd.jupyter.widget-view+json": {
       "model_id": "bde17fa6744a44a6ba1d65ef5c3e8155",
       "version_major": 2,
       "version_minor": 0
      },
      "text/plain": [
       "  0%|          | 0/15 [00:00<?, ?it/s]"
      ]
     },
     "metadata": {},
     "output_type": "display_data"
    },
    {
     "name": "stderr",
     "output_type": "stream",
     "text": [
      "\u001b[32m[I 2023-03-14 15:40:36,966]\u001b[0m Trial 27 finished with value: 0.3246228448275862 and parameters: {'learning_rate': 0.029674779783974824, 'M': 834}. Best is trial 21 with value: 0.38200431034482757.\u001b[0m\n"
     ]
    },
    {
     "data": {
      "application/vnd.jupyter.widget-view+json": {
       "model_id": "bc3975fc330d477b87603c0a754fd211",
       "version_major": 2,
       "version_minor": 0
      },
      "text/plain": [
       "  0%|          | 0/15 [00:00<?, ?it/s]"
      ]
     },
     "metadata": {},
     "output_type": "display_data"
    },
    {
     "name": "stderr",
     "output_type": "stream",
     "text": [
      "\u001b[32m[I 2023-03-14 15:41:07,486]\u001b[0m Trial 28 finished with value: 0.33001077586206895 and parameters: {'learning_rate': 0.016516833532262028, 'M': 1207}. Best is trial 21 with value: 0.38200431034482757.\u001b[0m\n"
     ]
    },
    {
     "data": {
      "application/vnd.jupyter.widget-view+json": {
       "model_id": "b5da1d33b8144c3a9ffc836737bdb706",
       "version_major": 2,
       "version_minor": 0
      },
      "text/plain": [
       "  0%|          | 0/15 [00:00<?, ?it/s]"
      ]
     },
     "metadata": {},
     "output_type": "display_data"
    },
    {
     "name": "stderr",
     "output_type": "stream",
     "text": [
      "\u001b[32m[I 2023-03-14 15:41:39,034]\u001b[0m Trial 29 finished with value: 0.3521012931034483 and parameters: {'learning_rate': 0.04371137916714027, 'M': 1374}. Best is trial 21 with value: 0.38200431034482757.\u001b[0m\n"
     ]
    }
   ],
   "source": [
    "import optuna\n",
    "def fully_connected_objective(trial):\n",
    "    learning_rate = trial.suggest_float('learning_rate', 0.001, 0.1, log = True)\n",
    "    Ms = trial.suggest_int('M', 100,1500)\n",
    "    \n",
    "    model = fully_connected(M = Ms)\n",
    "    optimizer = SGD(model.parameters(), learning_rate)\n",
    "        \n",
    "    train_losses, train_accuracies, val_losses, val_accuracies = train(model, optimizer, train_loader_small, val_loader_small, epochs = 15)\n",
    "    \n",
    "    return(val_accuracies[-1])\n",
    "\n",
    "study_nn = optuna.create_study(direction = 'maximize')\n",
    "study_nn.optimize(fully_connected_objective, n_trials = 30)"
   ]
  },
  {
   "cell_type": "markdown",
   "metadata": {},
   "source": [
    "# Train and plot\n",
    "Now that we have our hyperparameters from optuna we can train and test our model. Lets see how it does."
   ]
  },
  {
   "cell_type": "code",
   "execution_count": 89,
   "metadata": {},
   "outputs": [
    {
     "data": {
      "application/vnd.jupyter.widget-view+json": {
       "model_id": "b30a082395ed499cb71014a97557f793",
       "version_major": 2,
       "version_minor": 0
      },
      "text/plain": [
       "  0%|          | 0/50 [00:00<?, ?it/s]"
      ]
     },
     "metadata": {},
     "output_type": "display_data"
    }
   ],
   "source": [
    "best_lr = study_nn.best_params['learning_rate']\n",
    "best_M = study_nn.best_params['M']\n",
    "nn_model_best = fully_connected(best_M)\n",
    "nn_optimizer_best = SGD(nn_model_best.parameters(), best_lr)\n",
    "\n",
    "train_losses, train_accuracies, val_losses, val_accuracies = train(model = nn_model_best, optimizer = nn_optimizer_best, train_loader = train_loader, val_loader = val_loader, epochs = 50)"
   ]
  },
  {
   "cell_type": "code",
   "execution_count": 94,
   "metadata": {
    "id": "ZULxD9sGHm1D"
   },
   "outputs": [
    {
     "data": {
      "text/plain": [
       "[0.4716796875, 0.51123046875, 0.4873046875, 0.4931640625]"
      ]
     },
     "execution_count": 94,
     "metadata": {},
     "output_type": "execute_result"
    }
   ],
   "source": [
    "val_accuracies[-5:-1]"
   ]
  },
  {
   "cell_type": "markdown",
   "metadata": {
    "id": "MSi0cEADDJcf"
   },
   "source": [
    "Plot the training and validation accuracy for each epoch."
   ]
  },
  {
   "cell_type": "code",
   "execution_count": 91,
   "metadata": {
    "colab": {
     "base_uri": "https://localhost:8080/",
     "height": 295
    },
    "id": "-i_KVlY3WthL",
    "outputId": "091bfafc-4961-40a9-94ee-896cca4b97c5"
   },
   "outputs": [
    {
     "data": {
      "image/png": "[encoded data removed]",
      "text/plain": [
       "<Figure size 640x480 with 1 Axes>"
      ]
     },
     "metadata": {},
     "output_type": "display_data"
    }
   ],
   "source": [
    "epochs = range(1, len(train_accuracies)+1)\n",
    "plt.plot(epochs, train_accuracies, label=\"Train Accuracy\")\n",
    "plt.plot(epochs, val_accuracies, label=\"Validation Accuracy\")\n",
    "plt.xlabel(\"Epoch\")\n",
    "plt.ylabel(\"Accuracy\")\n",
    "plt.legend()\n",
    "plt.title(\"Wide NN for CIFAR-10 vs Epoch\")\n",
    "plt.show()"
   ]
  },
  {
   "cell_type": "markdown",
   "metadata": {
    "id": "zu8AaNRl4FDi",
    "tags": []
   },
   "source": [
    "# Evaluate on Test set (WNN)\n",
    "The last thing we have to do is batch_eval our model on the testing data."
   ]
  },
  {
   "cell_type": "code",
   "execution_count": 41,
   "metadata": {
    "id": "KzxYGlYH4MwC"
   },
   "outputs": [],
   "source": [
    "def evaluate(\n",
    "    model: nn.Module, loader: DataLoader\n",
    ") -> Tuple[float, float]:\n",
    "    \"\"\"Computes test loss and accuracy of model on loader.\"\"\"\n",
    "    loss = nn.CrossEntropyLoss()\n",
    "    model.eval()\n",
    "    test_loss = 0.0\n",
    "    test_acc = 0.0\n",
    "    with torch.no_grad():\n",
    "        for (batch, labels) in loader:\n",
    "            batch, labels = batch.to(DEVICE), labels.to(DEVICE)\n",
    "            y_batch_pred = model(batch)\n",
    "            batch_loss = loss(y_batch_pred, labels)\n",
    "            test_loss = test_loss + batch_loss.item()\n",
    "\n",
    "            pred_max = torch.argmax(y_batch_pred, 1)\n",
    "            batch_acc = torch.sum(pred_max == labels)\n",
    "            test_acc = test_acc + batch_acc.item()\n",
    "        test_loss = test_loss / len(loader)\n",
    "        test_acc = test_acc / (batch_size * len(loader))\n",
    "        return test_loss, test_acc"
   ]
  },
  {
   "cell_type": "code",
   "execution_count": 98,
   "metadata": {
    "colab": {
     "base_uri": "https://localhost:8080/"
    },
    "id": "ekfbYD_34XFB",
    "outputId": "97ef26db-193f-40ba-e9d4-3d005e1ed61a"
   },
   "outputs": [
    {
     "name": "stdout",
     "output_type": "stream",
     "text": [
      "Test Accuracy: 0.5024723101265823\n"
     ]
    }
   ],
   "source": [
    "test_loss, test_acc = batch_eval(nn_model_best, test_loader)\n",
    "print(f\"Test Accuracy: {test_acc}\")"
   ]
  },
  {
   "cell_type": "markdown",
   "metadata": {},
   "source": [
    "# Results\n",
    "Overall we did get to roughly 50% CV accuracy as well as 50% accuracy on the test set. We see from the training curve above that the learning rate was maybe a bit too big. I think that is something to keep in mind for the convolution neural network. Having a learning rate training schedule based off of the number of epochs is a fairly common method (which adds even more hyperparameters) so I will implement it for training the CNN.\n",
    "\n",
    "\n",
    "# Convolution Neural Network (CNN)\n",
    "We now take a look at a convolutional neural network. Out input is an image of 3x32x32. So we need to define a few things. The output size will be floor($M(\\frac{(33-k)}{N})^2$). We have the size of the filter to be 3 x k x k and the number of filters as M. Finally, we apply a maxpool function to reduce the size by a factor of N."
   ]
  },
  {
   "cell_type": "code",
   "execution_count": 212,
   "metadata": {},
   "outputs": [],
   "source": [
    "# Convolution NN input is 3x32x32\n",
    "#k = kernel size, M is number of filters, NxN is the size of the maxpool.\n",
    "def Convolution_NN(M: int, k: int, N: int) -> nn.Module:\n",
    "    output_size = M * ((32 - k + 1) // N) ** 2\n",
    "    model = nn.Sequential(\n",
    "        nn.Conv2d(in_channels=3, out_channels=M, kernel_size=k, bias=True),\n",
    "        nn.ReLU(),\n",
    "        nn.MaxPool2d(kernel_size=N),\n",
    "        nn.Flatten(),\n",
    "        nn.Linear(output_size, 10)\n",
    "    )\n",
    "    return model.to(DEVICE)"
   ]
  },
  {
   "cell_type": "markdown",
   "metadata": {
    "id": "OK-KuYt41uFA"
   },
   "source": [
    "### Check if it works"
   ]
  },
  {
   "cell_type": "code",
   "execution_count": 299,
   "metadata": {
    "tags": []
   },
   "outputs": [
    {
     "data": {
      "application/vnd.jupyter.widget-view+json": {
       "model_id": "a8a7efbf6a814d338a56221f98be4baf",
       "version_major": 2,
       "version_minor": 0
      },
      "text/plain": [
       "  0%|          | 0/10 [00:00<?, ?it/s]"
      ]
     },
     "metadata": {},
     "output_type": "display_data"
    },
    {
     "data": {
      "text/plain": [
       "([2.3101783045407,\n",
       "  2.305279887955764,\n",
       "  2.301445508825368,\n",
       "  2.298263903321891,\n",
       "  2.2964005634702485,\n",
       "  2.295025134908742,\n",
       "  2.2938216883560707,\n",
       "  2.2927730083465576,\n",
       "  2.2916691632106385,\n",
       "  2.2910832207778404],\n",
       " [0.08782327586206896,\n",
       "  0.08890086206896551,\n",
       "  0.09240301724137931,\n",
       "  0.09832974137931035,\n",
       "  0.10183189655172414,\n",
       "  0.10668103448275862,\n",
       "  0.11988146551724138,\n",
       "  0.12257543103448276,\n",
       "  0.12473060344827586,\n",
       "  0.13011853448275862],\n",
       " [2.302510195765002,\n",
       "  2.2995360884173164,\n",
       "  2.29704003498472,\n",
       "  2.2955596364777664,\n",
       "  2.29428218150961,\n",
       "  2.293526320621885,\n",
       "  2.2928624317563813,\n",
       "  2.2920561905564933,\n",
       "  2.2918456340658255,\n",
       "  2.29095720422679],\n",
       " [0.09132543103448276,\n",
       "  0.09267241379310345,\n",
       "  0.09617456896551724,\n",
       "  0.10129310344827586,\n",
       "  0.10695043103448276,\n",
       "  0.12122844827586207,\n",
       "  0.1258081896551724,\n",
       "  0.125,\n",
       "  0.12688577586206898,\n",
       "  0.12607758620689655])"
      ]
     },
     "execution_count": 299,
     "metadata": {},
     "output_type": "execute_result"
    }
   ],
   "source": [
    "model = Convolution_NN(M = 100, k = 5, N = 14)\n",
    "optimizer = SGD(model.parameters(), 0.001)\n",
    "\n",
    "train(model, optimizer = optimizer, train_loader = train_loader_small, val_loader = val_loader_small, epochs = 10)"
   ]
  },
  {
   "cell_type": "markdown",
   "metadata": {},
   "source": [
    "# Hyper parameter tuning CNN\n",
    "\n",
    "We have a series of hyperparamters for this model:\n",
    "- M: The number of filters\n",
    "- k: The size of the filters (3 x k x k)\n",
    "- N: Size of the NxN maxpool func\n",
    "- learning rate: learning rate for optimizer\n",
    "- optimizer: actual optimizer itself (sgd, adam, rmsprop)\n",
    "\n",
    "We will define possible values for each of these. We do note that it seems for the filter size values of 3, 5, or 7 seem to be the best. Anything higher than 7 seems to take too long and the values should be odd otherwise they may not be centered on a pixel. Additionally, N + k needs to be no greater than 33 for math purposes. However we should avoid that quite easily. \n",
    "\n",
    "Lets run a small study in optuna then take a look."
   ]
  },
  {
   "cell_type": "code",
   "execution_count": 300,
   "metadata": {
    "tags": []
   },
   "outputs": [
    {
     "name": "stderr",
     "output_type": "stream",
     "text": [
      "\u001b[32m[I 2023-03-15 09:34:15,993]\u001b[0m A new study created in memory with name: no-name-0256698b-b87f-4653-80d5-c2a07633459e\u001b[0m\n"
     ]
    },
    {
     "data": {
      "application/vnd.jupyter.widget-view+json": {
       "model_id": "3fb63012487c4a718efdc472da56ed51",
       "version_major": 2,
       "version_minor": 0
      },
      "text/plain": [
       "  0%|          | 0/10 [00:00<?, ?it/s]"
      ]
     },
     "metadata": {},
     "output_type": "display_data"
    },
    {
     "name": "stderr",
     "output_type": "stream",
     "text": [
      "\u001b[32m[I 2023-03-15 09:34:36,091]\u001b[0m Trial 0 finished with value: 0.12042025862068965 and parameters: {'learning_rate': 0.0036294528253405702, 'M': 131, 'k': 3, 'N': 15, 'optimizer': 'SGD'}. Best is trial 0 with value: 0.12042025862068965.\u001b[0m\n"
     ]
    },
    {
     "data": {
      "application/vnd.jupyter.widget-view+json": {
       "model_id": "afb09f8cebd047a78a2a357b0eeac199",
       "version_major": 2,
       "version_minor": 0
      },
      "text/plain": [
       "  0%|          | 0/10 [00:00<?, ?it/s]"
      ]
     },
     "metadata": {},
     "output_type": "display_data"
    },
    {
     "name": "stderr",
     "output_type": "stream",
     "text": [
      "\u001b[32m[I 2023-03-15 09:34:54,413]\u001b[0m Trial 1 finished with value: 0.19369612068965517 and parameters: {'learning_rate': 0.03779181267540158, 'M': 32, 'k': 5, 'N': 15, 'optimizer': 'Adam'}. Best is trial 1 with value: 0.19369612068965517.\u001b[0m\n"
     ]
    },
    {
     "data": {
      "application/vnd.jupyter.widget-view+json": {
       "model_id": "f5599b1e6f5644e2a13017f5d1fbd7b7",
       "version_major": 2,
       "version_minor": 0
      },
      "text/plain": [
       "  0%|          | 0/10 [00:00<?, ?it/s]"
      ]
     },
     "metadata": {},
     "output_type": "display_data"
    },
    {
     "name": "stderr",
     "output_type": "stream",
     "text": [
      "\u001b[32m[I 2023-03-15 09:35:17,819]\u001b[0m Trial 2 finished with value: 0.09671336206896551 and parameters: {'learning_rate': 0.11742100107425359, 'M': 172, 'k': 3, 'N': 15, 'optimizer': 'RMSprop'}. Best is trial 1 with value: 0.19369612068965517.\u001b[0m\n"
     ]
    },
    {
     "data": {
      "application/vnd.jupyter.widget-view+json": {
       "model_id": "af2344dc5ea7413aa4a1111762573957",
       "version_major": 2,
       "version_minor": 0
      },
      "text/plain": [
       "  0%|          | 0/10 [00:00<?, ?it/s]"
      ]
     },
     "metadata": {},
     "output_type": "display_data"
    },
    {
     "name": "stderr",
     "output_type": "stream",
     "text": [
      "\u001b[32m[I 2023-03-15 09:35:40,205]\u001b[0m Trial 3 finished with value: 0.27478448275862066 and parameters: {'learning_rate': 0.02858502152708572, 'M': 254, 'k': 7, 'N': 16, 'optimizer': 'SGD'}. Best is trial 3 with value: 0.27478448275862066.\u001b[0m\n"
     ]
    },
    {
     "data": {
      "application/vnd.jupyter.widget-view+json": {
       "model_id": "d4078e62d3b5426294979674d4d76d22",
       "version_major": 2,
       "version_minor": 0
      },
      "text/plain": [
       "  0%|          | 0/10 [00:00<?, ?it/s]"
      ]
     },
     "metadata": {},
     "output_type": "display_data"
    },
    {
     "name": "stderr",
     "output_type": "stream",
     "text": [
      "\u001b[32m[I 2023-03-15 09:36:02,159]\u001b[0m Trial 4 finished with value: 0.16298491379310345 and parameters: {'learning_rate': 0.0023250253737611016, 'M': 152, 'k': 7, 'N': 11, 'optimizer': 'SGD'}. Best is trial 3 with value: 0.27478448275862066.\u001b[0m\n"
     ]
    },
    {
     "data": {
      "application/vnd.jupyter.widget-view+json": {
       "model_id": "c0db0f14236341b39d6e9499f15659a7",
       "version_major": 2,
       "version_minor": 0
      },
      "text/plain": [
       "  0%|          | 0/10 [00:00<?, ?it/s]"
      ]
     },
     "metadata": {},
     "output_type": "display_data"
    },
    {
     "name": "stderr",
     "output_type": "stream",
     "text": [
      "\u001b[32m[I 2023-03-15 09:36:20,017]\u001b[0m Trial 5 finished with value: 0.18911637931034483 and parameters: {'learning_rate': 0.03668885991487249, 'M': 52, 'k': 3, 'N': 22, 'optimizer': 'SGD'}. Best is trial 3 with value: 0.27478448275862066.\u001b[0m\n"
     ]
    },
    {
     "data": {
      "application/vnd.jupyter.widget-view+json": {
       "model_id": "0a6d63866eba4457bdb4f4844a6dbe08",
       "version_major": 2,
       "version_minor": 0
      },
      "text/plain": [
       "  0%|          | 0/10 [00:00<?, ?it/s]"
      ]
     },
     "metadata": {},
     "output_type": "display_data"
    },
    {
     "name": "stderr",
     "output_type": "stream",
     "text": [
      "\u001b[32m[I 2023-03-15 09:36:39,747]\u001b[0m Trial 6 finished with value: 0.10344827586206896 and parameters: {'learning_rate': 0.20699481030381947, 'M': 87, 'k': 5, 'N': 22, 'optimizer': 'RMSprop'}. Best is trial 3 with value: 0.27478448275862066.\u001b[0m\n"
     ]
    },
    {
     "data": {
      "application/vnd.jupyter.widget-view+json": {
       "model_id": "999293c5b982464ebb2b9f39d55d8e04",
       "version_major": 2,
       "version_minor": 0
      },
      "text/plain": [
       "  0%|          | 0/10 [00:00<?, ?it/s]"
      ]
     },
     "metadata": {},
     "output_type": "display_data"
    },
    {
     "name": "stderr",
     "output_type": "stream",
     "text": [
      "\u001b[32m[I 2023-03-15 09:37:03,001]\u001b[0m Trial 7 finished with value: 0.09859913793103449 and parameters: {'learning_rate': 0.041884212130449454, 'M': 240, 'k': 5, 'N': 11, 'optimizer': 'RMSprop'}. Best is trial 3 with value: 0.27478448275862066.\u001b[0m\n"
     ]
    },
    {
     "data": {
      "application/vnd.jupyter.widget-view+json": {
       "model_id": "0e0c1b43f9b74475820d76fec2277623",
       "version_major": 2,
       "version_minor": 0
      },
      "text/plain": [
       "  0%|          | 0/10 [00:00<?, ?it/s]"
      ]
     },
     "metadata": {},
     "output_type": "display_data"
    },
    {
     "name": "stderr",
     "output_type": "stream",
     "text": [
      "\u001b[32m[I 2023-03-15 09:37:25,993]\u001b[0m Trial 8 finished with value: 0.09940732758620689 and parameters: {'learning_rate': 0.0012557087109677477, 'M': 173, 'k': 7, 'N': 19, 'optimizer': 'SGD'}. Best is trial 3 with value: 0.27478448275862066.\u001b[0m\n"
     ]
    },
    {
     "data": {
      "application/vnd.jupyter.widget-view+json": {
       "model_id": "794439c76ed74171aac730e32081fc72",
       "version_major": 2,
       "version_minor": 0
      },
      "text/plain": [
       "  0%|          | 0/10 [00:00<?, ?it/s]"
      ]
     },
     "metadata": {},
     "output_type": "display_data"
    },
    {
     "name": "stderr",
     "output_type": "stream",
     "text": [
      "\u001b[32m[I 2023-03-15 09:37:47,266]\u001b[0m Trial 9 finished with value: 0.09590517241379311 and parameters: {'learning_rate': 0.107987356506784, 'M': 177, 'k': 7, 'N': 17, 'optimizer': 'Adam'}. Best is trial 3 with value: 0.27478448275862066.\u001b[0m\n"
     ]
    },
    {
     "data": {
      "application/vnd.jupyter.widget-view+json": {
       "model_id": "18583d0889ed461daf23581dc680f4c7",
       "version_major": 2,
       "version_minor": 0
      },
      "text/plain": [
       "  0%|          | 0/10 [00:00<?, ?it/s]"
      ]
     },
     "metadata": {},
     "output_type": "display_data"
    },
    {
     "name": "stderr",
     "output_type": "stream",
     "text": [
      "\u001b[32m[I 2023-03-15 09:38:08,901]\u001b[0m Trial 10 finished with value: 0.15867456896551724 and parameters: {'learning_rate': 0.00815770667195591, 'M': 296, 'k': 7, 'N': 18, 'optimizer': 'SGD'}. Best is trial 3 with value: 0.27478448275862066.\u001b[0m\n"
     ]
    },
    {
     "data": {
      "application/vnd.jupyter.widget-view+json": {
       "model_id": "81919506318d48738db8f464562c132c",
       "version_major": 2,
       "version_minor": 0
      },
      "text/plain": [
       "  0%|          | 0/10 [00:00<?, ?it/s]"
      ]
     },
     "metadata": {},
     "output_type": "display_data"
    },
    {
     "name": "stderr",
     "output_type": "stream",
     "text": [
      "\u001b[32m[I 2023-03-15 09:38:30,163]\u001b[0m Trial 11 finished with value: 0.3208512931034483 and parameters: {'learning_rate': 0.01576188421817021, 'M': 22, 'k': 5, 'N': 14, 'optimizer': 'Adam'}. Best is trial 11 with value: 0.3208512931034483.\u001b[0m\n"
     ]
    },
    {
     "data": {
      "application/vnd.jupyter.widget-view+json": {
       "model_id": "569de069a29b4da79f662c680bc53ca9",
       "version_major": 2,
       "version_minor": 0
      },
      "text/plain": [
       "  0%|          | 0/10 [00:00<?, ?it/s]"
      ]
     },
     "metadata": {},
     "output_type": "display_data"
    },
    {
     "name": "stderr",
     "output_type": "stream",
     "text": [
      "\u001b[32m[I 2023-03-15 09:38:53,432]\u001b[0m Trial 12 finished with value: 0.3666487068965517 and parameters: {'learning_rate': 0.012819559975329598, 'M': 249, 'k': 5, 'N': 13, 'optimizer': 'Adam'}. Best is trial 12 with value: 0.3666487068965517.\u001b[0m\n"
     ]
    },
    {
     "data": {
      "application/vnd.jupyter.widget-view+json": {
       "model_id": "af714291cbeb401091a45efecf076b1c",
       "version_major": 2,
       "version_minor": 0
      },
      "text/plain": [
       "  0%|          | 0/10 [00:00<?, ?it/s]"
      ]
     },
     "metadata": {},
     "output_type": "display_data"
    },
    {
     "name": "stderr",
     "output_type": "stream",
     "text": [
      "\u001b[32m[I 2023-03-15 09:39:17,471]\u001b[0m Trial 13 finished with value: 0.3642241379310345 and parameters: {'learning_rate': 0.011571617934099854, 'M': 228, 'k': 5, 'N': 13, 'optimizer': 'Adam'}. Best is trial 12 with value: 0.3666487068965517.\u001b[0m\n"
     ]
    },
    {
     "data": {
      "application/vnd.jupyter.widget-view+json": {
       "model_id": "3798d90ead034c7884db55bc26cd1743",
       "version_major": 2,
       "version_minor": 0
      },
      "text/plain": [
       "  0%|          | 0/10 [00:00<?, ?it/s]"
      ]
     },
     "metadata": {},
     "output_type": "display_data"
    },
    {
     "name": "stderr",
     "output_type": "stream",
     "text": [
      "\u001b[32m[I 2023-03-15 09:39:41,504]\u001b[0m Trial 14 finished with value: 0.3838900862068966 and parameters: {'learning_rate': 0.007706828396846198, 'M': 222, 'k': 5, 'N': 13, 'optimizer': 'Adam'}. Best is trial 14 with value: 0.3838900862068966.\u001b[0m\n"
     ]
    },
    {
     "data": {
      "application/vnd.jupyter.widget-view+json": {
       "model_id": "c432731dd357475fbc80610bf16f0f5e",
       "version_major": 2,
       "version_minor": 0
      },
      "text/plain": [
       "  0%|          | 0/10 [00:00<?, ?it/s]"
      ]
     },
     "metadata": {},
     "output_type": "display_data"
    },
    {
     "name": "stderr",
     "output_type": "stream",
     "text": [
      "\u001b[32m[I 2023-03-15 09:40:03,084]\u001b[0m Trial 15 finished with value: 0.3995150862068966 and parameters: {'learning_rate': 0.006273486470239134, 'M': 296, 'k': 5, 'N': 10, 'optimizer': 'Adam'}. Best is trial 15 with value: 0.3995150862068966.\u001b[0m\n"
     ]
    },
    {
     "data": {
      "application/vnd.jupyter.widget-view+json": {
       "model_id": "97f8c4b3beff46959646de1b31490e8a",
       "version_major": 2,
       "version_minor": 0
      },
      "text/plain": [
       "  0%|          | 0/10 [00:00<?, ?it/s]"
      ]
     },
     "metadata": {},
     "output_type": "display_data"
    },
    {
     "name": "stderr",
     "output_type": "stream",
     "text": [
      "\u001b[32m[I 2023-03-15 09:40:26,055]\u001b[0m Trial 16 finished with value: 0.48356681034482757 and parameters: {'learning_rate': 0.0055699315320352745, 'M': 287, 'k': 3, 'N': 10, 'optimizer': 'Adam'}. Best is trial 16 with value: 0.48356681034482757.\u001b[0m\n"
     ]
    },
    {
     "data": {
      "application/vnd.jupyter.widget-view+json": {
       "model_id": "c6c7ff2df37a4b5fb2c4bce28f6c3ae4",
       "version_major": 2,
       "version_minor": 0
      },
      "text/plain": [
       "  0%|          | 0/10 [00:00<?, ?it/s]"
      ]
     },
     "metadata": {},
     "output_type": "display_data"
    },
    {
     "name": "stderr",
     "output_type": "stream",
     "text": [
      "\u001b[32m[I 2023-03-15 09:40:49,198]\u001b[0m Trial 17 finished with value: 0.5183189655172413 and parameters: {'learning_rate': 0.004979990911867639, 'M': 298, 'k': 3, 'N': 10, 'optimizer': 'Adam'}. Best is trial 17 with value: 0.5183189655172413.\u001b[0m\n"
     ]
    },
    {
     "data": {
      "application/vnd.jupyter.widget-view+json": {
       "model_id": "2773b15176274558ba47104de71a75ce",
       "version_major": 2,
       "version_minor": 0
      },
      "text/plain": [
       "  0%|          | 0/10 [00:00<?, ?it/s]"
      ]
     },
     "metadata": {},
     "output_type": "display_data"
    },
    {
     "name": "stderr",
     "output_type": "stream",
     "text": [
      "\u001b[32m[I 2023-03-15 09:41:11,882]\u001b[0m Trial 18 finished with value: 0.4973060344827586 and parameters: {'learning_rate': 0.0038793241254154102, 'M': 276, 'k': 3, 'N': 10, 'optimizer': 'Adam'}. Best is trial 17 with value: 0.5183189655172413.\u001b[0m\n"
     ]
    },
    {
     "data": {
      "application/vnd.jupyter.widget-view+json": {
       "model_id": "d304f64a98f04ef182660f738c8b4348",
       "version_major": 2,
       "version_minor": 0
      },
      "text/plain": [
       "  0%|          | 0/10 [00:00<?, ?it/s]"
      ]
     },
     "metadata": {},
     "output_type": "display_data"
    },
    {
     "name": "stderr",
     "output_type": "stream",
     "text": [
      "\u001b[32m[I 2023-03-15 09:41:33,747]\u001b[0m Trial 19 finished with value: 0.4253771551724138 and parameters: {'learning_rate': 0.0027119853629885486, 'M': 205, 'k': 3, 'N': 12, 'optimizer': 'Adam'}. Best is trial 17 with value: 0.5183189655172413.\u001b[0m\n"
     ]
    }
   ],
   "source": [
    "#Create the optuna objective\n",
    "def Convolution_NN_objective(trial):\n",
    "    learning_rate = trial.suggest_float('learning_rate', 0.001, 0.3, log = True)\n",
    "    Ms = trial.suggest_int('M', 20,300)\n",
    "    ks = trial.suggest_int('k', 3,7, step = 2)\n",
    "    Ns = trial.suggest_int('N', 10,23)\n",
    "    optimizer_name = trial.suggest_categorical(\"optimizer\", [\"Adam\", \"RMSprop\", \"SGD\"])\n",
    "    \n",
    "    model = Convolution_NN(M = Ms, k = ks, N = Ns)\n",
    "    optimizer = getattr(torch.optim, optimizer_name)(model.parameters(), lr=learning_rate)\n",
    "        \n",
    "    train_losses, train_accuracies, val_losses, val_accuracies = train(model, optimizer, train_loader_small, val_loader_small, epochs = 10)\n",
    "    \n",
    "    return(val_accuracies[-1])\n",
    "\n",
    "study_nn = optuna.create_study(direction = 'maximize')\n",
    "study_nn.optimize(Convolution_NN_objective, n_trials = 20)"
   ]
  },
  {
   "cell_type": "markdown",
   "metadata": {},
   "source": [
    "This takes a very long time even on the small training and CV set using a small amount of epochs. I would like to use optunas pruning function where after each epoch it will check the accuracy compared to the other iterations and prune those that seem like they will not give good results. This will allow us to increase the number of epochs for hyperparameter tuning and the number of iterations to try and find an optimal hyperparameter setup while greatly reducing the search time. \n",
    "\n",
    "In order to do this I need a new training function and evaluate function that will work on a single epoch as opposed to the function above which works for some number of epochs as an input. Additionally, I will implement a learning rate scheduler to lower the learning rate as the number of epochs increases. This should give us a smoother curve and increase accuracy.\n",
    "\n",
    "Lets implement the functions and run a huge hyperparameter search."
   ]
  },
  {
   "cell_type": "code",
   "execution_count": 18,
   "metadata": {},
   "outputs": [],
   "source": [
    "def train_epoch(model, optimizer, dataloader):\n",
    "    model.train()\n",
    "    train_loss = 0\n",
    "    train_acc = 0\n",
    "    total = 0\n",
    "    \n",
    "    for images, labels in dataloader:\n",
    "        images, labels = images.to(DEVICE), labels.to(DEVICE)\n",
    "        optimizer.zero_grad()\n",
    "        output = model(images)\n",
    "        loss = torch.nn.functional.cross_entropy(output, labels)\n",
    "        loss.backward()\n",
    "        optimizer.step()\n",
    "        \n",
    "        train_loss += loss.item() * images.shape[0]\n",
    "        train_acc += (output.argmax(1) == labels).sum().item()\n",
    "        total += images.shape[0]\n",
    "        \n",
    "    return train_loss / total, train_acc / total"
   ]
  },
  {
   "cell_type": "code",
   "execution_count": 19,
   "metadata": {},
   "outputs": [],
   "source": [
    "def batch_eval(model, loader):\n",
    "    model.eval()\n",
    "    correct = 0\n",
    "    total = 0\n",
    "    total_loss = 0\n",
    "    with torch.no_grad():\n",
    "        for data in loader:\n",
    "                inputs, labels = data\n",
    "                inputs, labels = inputs.to(DEVICE), labels.to(DEVICE)\n",
    "                outputs = model(inputs)\n",
    "                loss = torch.nn.functional.cross_entropy(outputs, labels)\n",
    "                _, predicted = torch.max(outputs.data, 1)\n",
    "                total += labels.size(0)\n",
    "                correct += (predicted == labels).sum().item()\n",
    "                total_loss += loss.item() * labels.size(0)\n",
    "    accuracy = 100 * correct / total\n",
    "    loss = total_loss / total\n",
    "    return loss, accuracy"
   ]
  },
  {
   "cell_type": "code",
   "execution_count": 238,
   "metadata": {},
   "outputs": [
    {
     "name": "stderr",
     "output_type": "stream",
     "text": [
      "\u001b[32m[I 2023-03-14 19:26:15,441]\u001b[0m A new study created in memory with name: no-name-a8ccd1d8-265a-4890-8073-f3e56066f757\u001b[0m\n"
     ]
    },
    {
     "data": {
      "application/vnd.jupyter.widget-view+json": {
       "model_id": "a4766923896740678542c7404aeb4d0c",
       "version_major": 2,
       "version_minor": 0
      },
      "text/plain": [
       "  0%|          | 0/100 [00:00<?, ?it/s]"
      ]
     },
     "metadata": {},
     "output_type": "display_data"
    },
    {
     "name": "stdout",
     "output_type": "stream",
     "text": [
      "\u001b[32m[I 2023-03-14 19:28:08,481]\u001b[0m Trial 0 finished with value: 31.577503429355282 and parameters: {'initial_learning_rate': 0.02220424241140854, 'M': 232, 'k': 7, 'N': 15, 'optimizer': 'RMSprop'}. Best is trial 0 with value: 31.577503429355282.\u001b[0m\n",
      "\u001b[32m[I 2023-03-14 19:30:06,611]\u001b[0m Trial 1 finished with value: 45.8161865569273 and parameters: {'initial_learning_rate': 0.003567947637350851, 'M': 225, 'k': 7, 'N': 23, 'optimizer': 'Adam'}. Best is trial 1 with value: 45.8161865569273.\u001b[0m\n",
      "\u001b[32m[I 2023-03-14 19:31:54,262]\u001b[0m Trial 2 finished with value: 45.541838134430726 and parameters: {'initial_learning_rate': 0.002458014061795822, 'M': 102, 'k': 3, 'N': 15, 'optimizer': 'Adam'}. Best is trial 1 with value: 45.8161865569273.\u001b[0m\n",
      "\u001b[32m[I 2023-03-14 19:32:04,027]\u001b[0m Trial 3 pruned. \u001b[0m\n",
      "\u001b[32m[I 2023-03-14 19:34:22,087]\u001b[0m Trial 4 finished with value: 50.97393689986283 and parameters: {'initial_learning_rate': 0.004370438765752221, 'M': 293, 'k': 3, 'N': 15, 'optimizer': 'Adam'}. Best is trial 4 with value: 50.97393689986283.\u001b[0m\n",
      "\u001b[32m[I 2023-03-14 19:34:26,485]\u001b[0m Trial 5 pruned. \u001b[0m\n",
      "\u001b[32m[I 2023-03-14 19:34:30,737]\u001b[0m Trial 6 pruned. \u001b[0m\n",
      "\u001b[32m[I 2023-03-14 19:36:17,924]\u001b[0m Trial 7 finished with value: 34.81481481481482 and parameters: {'initial_learning_rate': 0.06050918196041143, 'M': 128, 'k': 3, 'N': 11, 'optimizer': 'SGD'}. Best is trial 4 with value: 50.97393689986283.\u001b[0m\n",
      "\u001b[32m[I 2023-03-14 19:36:22,667]\u001b[0m Trial 8 pruned. \u001b[0m\n",
      "\u001b[32m[I 2023-03-14 19:36:26,288]\u001b[0m Trial 9 pruned. \u001b[0m\n",
      "\u001b[32m[I 2023-03-14 19:38:11,254]\u001b[0m Trial 10 finished with value: 17.530864197530864 and parameters: {'initial_learning_rate': 0.05429862920676023, 'M': 114, 'k': 5, 'N': 20, 'optimizer': 'Adam'}. Best is trial 4 with value: 50.97393689986283.\u001b[0m\n",
      "\u001b[32m[I 2023-03-14 19:38:16,364]\u001b[0m Trial 11 pruned. \u001b[0m\n",
      "\u001b[32m[I 2023-03-14 19:38:35,331]\u001b[0m Trial 12 pruned. \u001b[0m\n",
      "\u001b[32m[I 2023-03-14 19:38:39,886]\u001b[0m Trial 13 pruned. \u001b[0m\n",
      "\u001b[32m[I 2023-03-14 19:38:43,839]\u001b[0m Trial 14 pruned. \u001b[0m\n",
      "\u001b[32m[I 2023-03-14 19:38:53,261]\u001b[0m Trial 15 pruned. \u001b[0m\n",
      "\u001b[32m[I 2023-03-14 19:38:56,801]\u001b[0m Trial 16 pruned. \u001b[0m\n",
      "\u001b[32m[I 2023-03-14 19:39:22,556]\u001b[0m Trial 17 pruned. \u001b[0m\n",
      "\u001b[32m[I 2023-03-14 19:39:32,687]\u001b[0m Trial 18 pruned. \u001b[0m\n",
      "\u001b[32m[I 2023-03-14 19:39:42,491]\u001b[0m Trial 19 pruned. \u001b[0m\n",
      "\u001b[32m[I 2023-03-14 19:39:50,636]\u001b[0m Trial 20 pruned. \u001b[0m\n",
      "\u001b[32m[I 2023-03-14 19:40:00,652]\u001b[0m Trial 21 pruned. \u001b[0m\n",
      "\u001b[32m[I 2023-03-14 19:40:06,124]\u001b[0m Trial 22 pruned. \u001b[0m\n",
      "\u001b[32m[I 2023-03-14 19:40:11,277]\u001b[0m Trial 23 pruned. \u001b[0m\n",
      "\u001b[32m[I 2023-03-14 19:40:20,781]\u001b[0m Trial 24 pruned. \u001b[0m\n",
      "\u001b[32m[I 2023-03-14 19:40:25,540]\u001b[0m Trial 25 pruned. \u001b[0m\n",
      "\u001b[32m[I 2023-03-14 19:40:34,786]\u001b[0m Trial 26 pruned. \u001b[0m\n",
      "\u001b[32m[I 2023-03-14 19:42:26,059]\u001b[0m Trial 27 finished with value: 41.61865569272977 and parameters: {'initial_learning_rate': 0.01038836863353313, 'M': 85, 'k': 3, 'N': 12, 'optimizer': 'RMSprop'}. Best is trial 4 with value: 50.97393689986283.\u001b[0m\n",
      "\u001b[32m[I 2023-03-14 19:42:52,287]\u001b[0m Trial 28 pruned. \u001b[0m\n",
      "\u001b[32m[I 2023-03-14 19:42:56,308]\u001b[0m Trial 29 pruned. \u001b[0m\n",
      "\u001b[32m[I 2023-03-14 19:43:06,200]\u001b[0m Trial 30 pruned. \u001b[0m\n",
      "\u001b[32m[I 2023-03-14 19:43:14,954]\u001b[0m Trial 31 pruned. \u001b[0m\n",
      "\u001b[32m[I 2023-03-14 19:43:24,699]\u001b[0m Trial 32 pruned. \u001b[0m\n",
      "\u001b[32m[I 2023-03-14 19:43:30,113]\u001b[0m Trial 33 pruned. \u001b[0m\n",
      "\u001b[32m[I 2023-03-14 19:43:34,977]\u001b[0m Trial 34 pruned. \u001b[0m\n",
      "\u001b[32m[I 2023-03-14 19:44:00,430]\u001b[0m Trial 35 pruned. \u001b[0m\n",
      "\u001b[32m[I 2023-03-14 19:44:05,567]\u001b[0m Trial 36 pruned. \u001b[0m\n",
      "\u001b[32m[I 2023-03-14 19:44:15,219]\u001b[0m Trial 37 pruned. \u001b[0m\n",
      "\u001b[32m[I 2023-03-14 19:45:13,021]\u001b[0m Trial 38 pruned. \u001b[0m\n",
      "\u001b[32m[I 2023-03-14 19:45:17,686]\u001b[0m Trial 39 pruned. \u001b[0m\n",
      "\u001b[32m[I 2023-03-14 19:45:24,649]\u001b[0m Trial 40 pruned. \u001b[0m\n",
      "\u001b[32m[I 2023-03-14 19:46:34,324]\u001b[0m Trial 41 pruned. \u001b[0m\n",
      "\u001b[32m[I 2023-03-14 19:46:39,640]\u001b[0m Trial 42 pruned. \u001b[0m\n",
      "\u001b[32m[I 2023-03-14 19:48:45,887]\u001b[0m Trial 43 finished with value: 45.76131687242798 and parameters: {'initial_learning_rate': 0.018103697797676812, 'M': 204, 'k': 3, 'N': 15, 'optimizer': 'Adam'}. Best is trial 4 with value: 50.97393689986283.\u001b[0m\n",
      "\u001b[32m[I 2023-03-14 19:50:51,487]\u001b[0m Trial 44 finished with value: 47.73662551440329 and parameters: {'initial_learning_rate': 0.20957792103344683, 'M': 300, 'k': 5, 'N': 12, 'optimizer': 'SGD'}. Best is trial 4 with value: 50.97393689986283.\u001b[0m\n",
      "\u001b[32m[I 2023-03-14 19:51:12,515]\u001b[0m Trial 45 pruned. \u001b[0m\n",
      "\u001b[32m[I 2023-03-14 19:51:16,488]\u001b[0m Trial 46 pruned. \u001b[0m\n",
      "\u001b[32m[I 2023-03-14 19:51:36,982]\u001b[0m Trial 47 pruned. \u001b[0m\n",
      "\u001b[32m[I 2023-03-14 19:51:40,972]\u001b[0m Trial 48 pruned. \u001b[0m\n",
      "\u001b[32m[I 2023-03-14 19:51:45,189]\u001b[0m Trial 49 pruned. \u001b[0m\n",
      "\u001b[32m[I 2023-03-14 19:51:53,653]\u001b[0m Trial 50 pruned. \u001b[0m\n",
      "\u001b[32m[I 2023-03-14 19:52:12,688]\u001b[0m Trial 51 pruned. \u001b[0m\n",
      "\u001b[32m[I 2023-03-14 19:52:22,128]\u001b[0m Trial 52 pruned. \u001b[0m\n",
      "\u001b[32m[I 2023-03-14 19:52:26,132]\u001b[0m Trial 53 pruned. \u001b[0m\n",
      "\u001b[32m[I 2023-03-14 19:53:25,703]\u001b[0m Trial 54 pruned. \u001b[0m\n",
      "\u001b[32m[I 2023-03-14 19:53:33,947]\u001b[0m Trial 55 pruned. \u001b[0m\n",
      "\u001b[32m[I 2023-03-14 19:53:43,883]\u001b[0m Trial 56 pruned. \u001b[0m\n",
      "\u001b[32m[I 2023-03-14 19:53:47,770]\u001b[0m Trial 57 pruned. \u001b[0m\n",
      "\u001b[32m[I 2023-03-14 19:54:06,484]\u001b[0m Trial 58 pruned. \u001b[0m\n",
      "\u001b[32m[I 2023-03-14 19:54:27,566]\u001b[0m Trial 59 pruned. \u001b[0m\n",
      "\u001b[32m[I 2023-03-14 19:54:31,387]\u001b[0m Trial 60 pruned. \u001b[0m\n",
      "\u001b[32m[I 2023-03-14 19:54:35,603]\u001b[0m Trial 61 pruned. \u001b[0m\n",
      "\u001b[32m[I 2023-03-14 19:56:26,259]\u001b[0m Trial 62 finished with value: 49.794238683127574 and parameters: {'initial_learning_rate': 0.001784160410981567, 'M': 185, 'k': 7, 'N': 10, 'optimizer': 'Adam'}. Best is trial 4 with value: 50.97393689986283.\u001b[0m\n",
      "\u001b[32m[I 2023-03-14 19:58:16,982]\u001b[0m Trial 63 finished with value: 49.93141289437586 and parameters: {'initial_learning_rate': 0.0036781925712019046, 'M': 191, 'k': 7, 'N': 10, 'optimizer': 'Adam'}. Best is trial 4 with value: 50.97393689986283.\u001b[0m\n",
      "\u001b[32m[I 2023-03-14 19:59:26,364]\u001b[0m Trial 64 pruned. \u001b[0m\n",
      "\u001b[32m[I 2023-03-14 19:59:49,007]\u001b[0m Trial 65 pruned. \u001b[0m\n",
      "\u001b[32m[I 2023-03-14 19:59:53,428]\u001b[0m Trial 66 pruned. \u001b[0m\n",
      "\u001b[32m[I 2023-03-14 20:00:02,619]\u001b[0m Trial 67 pruned. \u001b[0m\n",
      "\u001b[32m[I 2023-03-14 20:00:25,558]\u001b[0m Trial 68 pruned. \u001b[0m\n",
      "\u001b[32m[I 2023-03-14 20:02:20,149]\u001b[0m Trial 69 finished with value: 53.14128943758573 and parameters: {'initial_learning_rate': 0.001831988821098278, 'M': 236, 'k': 7, 'N': 11, 'optimizer': 'Adam'}. Best is trial 69 with value: 53.14128943758573.\u001b[0m\n",
      "\u001b[32m[I 2023-03-14 20:03:23,102]\u001b[0m Trial 70 pruned. \u001b[0m\n",
      "\u001b[32m[I 2023-03-14 20:05:15,939]\u001b[0m Trial 71 finished with value: 52.97668038408779 and parameters: {'initial_learning_rate': 0.00207935650222761, 'M': 218, 'k': 7, 'N': 11, 'optimizer': 'Adam'}. Best is trial 69 with value: 53.14128943758573.\u001b[0m\n",
      "\u001b[32m[I 2023-03-14 20:05:38,088]\u001b[0m Trial 72 pruned. \u001b[0m\n",
      "\u001b[32m[I 2023-03-14 20:07:39,979]\u001b[0m Trial 73 finished with value: 53.44307270233196 and parameters: {'initial_learning_rate': 0.0014347696798482025, 'M': 275, 'k': 7, 'N': 12, 'optimizer': 'Adam'}. Best is trial 73 with value: 53.44307270233196.\u001b[0m\n",
      "\u001b[32m[I 2023-03-14 20:08:48,041]\u001b[0m Trial 74 pruned. \u001b[0m\n",
      "\u001b[32m[I 2023-03-14 20:08:57,125]\u001b[0m Trial 75 pruned. \u001b[0m\n",
      "\u001b[32m[I 2023-03-14 20:09:19,937]\u001b[0m Trial 76 pruned. \u001b[0m\n",
      "\u001b[32m[I 2023-03-14 20:10:37,982]\u001b[0m Trial 77 pruned. \u001b[0m\n",
      "\u001b[32m[I 2023-03-14 20:10:57,899]\u001b[0m Trial 78 pruned. \u001b[0m\n",
      "\u001b[32m[I 2023-03-14 20:12:03,814]\u001b[0m Trial 79 pruned. \u001b[0m\n",
      "\u001b[32m[I 2023-03-14 20:14:07,341]\u001b[0m Trial 80 finished with value: 53.55281207133059 and parameters: {'initial_learning_rate': 0.0019561401566632907, 'M': 294, 'k': 7, 'N': 11, 'optimizer': 'Adam'}. Best is trial 80 with value: 53.55281207133059.\u001b[0m\n",
      "\u001b[32m[I 2023-03-14 20:15:05,733]\u001b[0m Trial 81 pruned. \u001b[0m\n",
      "\u001b[32m[I 2023-03-14 20:17:09,202]\u001b[0m Trial 82 finished with value: 53.19615912208505 and parameters: {'initial_learning_rate': 0.0021076444354648635, 'M': 300, 'k': 7, 'N': 11, 'optimizer': 'Adam'}. Best is trial 80 with value: 53.55281207133059.\u001b[0m\n",
      "\u001b[32m[I 2023-03-14 20:19:12,575]\u001b[0m Trial 83 finished with value: 53.63511659807956 and parameters: {'initial_learning_rate': 0.0021240372005085838, 'M': 300, 'k': 7, 'N': 11, 'optimizer': 'Adam'}. Best is trial 83 with value: 53.63511659807956.\u001b[0m\n",
      "\u001b[32m[I 2023-03-14 20:19:36,523]\u001b[0m Trial 84 pruned. \u001b[0m\n",
      "\u001b[32m[I 2023-03-14 20:20:45,333]\u001b[0m Trial 85 pruned. \u001b[0m\n",
      "\u001b[32m[I 2023-03-14 20:21:48,338]\u001b[0m Trial 86 pruned. \u001b[0m\n",
      "\u001b[32m[I 2023-03-14 20:21:56,314]\u001b[0m Trial 87 pruned. \u001b[0m\n",
      "\u001b[32m[I 2023-03-14 20:23:06,964]\u001b[0m Trial 88 pruned. \u001b[0m\n",
      "\u001b[32m[I 2023-03-14 20:23:17,066]\u001b[0m Trial 89 pruned. \u001b[0m\n",
      "\u001b[32m[I 2023-03-14 20:23:39,264]\u001b[0m Trial 90 pruned. \u001b[0m\n",
      "\u001b[32m[I 2023-03-14 20:23:58,993]\u001b[0m Trial 91 pruned. \u001b[0m\n",
      "\u001b[32m[I 2023-03-14 20:25:02,373]\u001b[0m Trial 92 pruned. \u001b[0m\n",
      "\u001b[32m[I 2023-03-14 20:25:12,399]\u001b[0m Trial 93 pruned. \u001b[0m\n",
      "\u001b[32m[I 2023-03-14 20:25:22,297]\u001b[0m Trial 94 pruned. \u001b[0m\n",
      "\u001b[32m[I 2023-03-14 20:25:48,065]\u001b[0m Trial 95 pruned. \u001b[0m\n",
      "\u001b[32m[I 2023-03-14 20:25:53,068]\u001b[0m Trial 96 pruned. \u001b[0m\n",
      "\u001b[32m[I 2023-03-14 20:26:02,576]\u001b[0m Trial 97 pruned. \u001b[0m\n",
      "\u001b[32m[I 2023-03-14 20:27:10,370]\u001b[0m Trial 98 pruned. \u001b[0m\n",
      "\u001b[32m[I 2023-03-14 20:27:15,156]\u001b[0m Trial 99 pruned. \u001b[0m\n"
     ]
    }
   ],
   "source": [
    "import torch.optim as optim\n",
    "import optuna\n",
    "from optuna.trial import TrialState\n",
    "\n",
    "def Convolution_NN_objective(trial):\n",
    "    #Potential hyper parameters\n",
    "    initial_learning_rate = trial.suggest_float('initial_learning_rate', 0.001, 0.3, log = True)\n",
    "    Ms = trial.suggest_int('M', 20,300)\n",
    "    ks = trial.suggest_int('k', 3,7, step = 2)\n",
    "    Ns = trial.suggest_int('N', 10,23)      \n",
    "    optimizer_name = trial.suggest_categorical(\"optimizer\", [\"Adam\", \"RMSprop\", \"SGD\"])\n",
    "    \n",
    "    model = Convolution_NN(M = Ms, k = ks, N = Ns)\n",
    "    optimizer = getattr(torch.optim, optimizer_name)(model.parameters(), lr=initial_learning_rate)\n",
    "    \n",
    "    # Step decay schedule\n",
    "    lr_scheduler = torch.optim.lr_scheduler.StepLR(optimizer, step_size=9, gamma=0.5)\n",
    "        \n",
    "    for epoch in range(50):\n",
    "        train_losses, train_accuracies = train_epoch(model, optimizer, train_loader_small)\n",
    "        val_losses, val_accuracies = batch_eval(model, val_loader_small)\n",
    "\n",
    "        # Report intermediate results to Optuna\n",
    "        trial.report(val_accuracies, epoch)\n",
    "\n",
    "        # Prune trials that perform poorly based on intermediate results\n",
    "        if trial.should_prune():\n",
    "            raise optuna.exceptions.TrialPruned()\n",
    "        \n",
    "        lr_scheduler.step()\n",
    "\n",
    "    return val_accuracies\n",
    "\n",
    "\n",
    "study_nn = optuna.create_study(direction='maximize', pruner=optuna.pruners.HyperbandPruner())\n",
    "study_nn.optimize(Convolution_NN_objective, n_trials=100, show_progress_bar = True)"
   ]
  },
  {
   "cell_type": "code",
   "execution_count": 239,
   "metadata": {},
   "outputs": [
    {
     "data": {
      "text/plain": [
       "{'initial_learning_rate': 0.0021240372005085838,\n",
       " 'M': 300,\n",
       " 'k': 7,\n",
       " 'N': 11,\n",
       " 'optimizer': 'Adam'}"
      ]
     },
     "execution_count": 239,
     "metadata": {},
     "output_type": "execute_result"
    }
   ],
   "source": [
    "study_nn.best_params"
   ]
  },
  {
   "cell_type": "markdown",
   "metadata": {},
   "source": [
    "# Final Model CNN\n",
    "\n",
    "Now that we have our best parameters we can run the final model. We will need to implement a learning rate scheduler into our previous train function as it captures lots of values for plotting which is nice. We will do that then let it run & plot."
   ]
  },
  {
   "cell_type": "code",
   "execution_count": 3,
   "metadata": {},
   "outputs": [],
   "source": [
    "#Update train function with LR scheduler.\n",
    "def train2(\n",
    "    model: nn.Module, optimizer: SGD,\n",
    "    train_loader: DataLoader, val_loader: DataLoader,\n",
    "    epochs: int = 20\n",
    "    )-> Tuple[List[float], List[float], List[float], List[float]]:\n",
    "    \"\"\"\n",
    "    Trains a model for the specified number of epochs using the loaders.\n",
    "\n",
    "    Returns: \n",
    "    Lists of training loss, training accuracy, validation loss, validation accuracy for each epoch.\n",
    "    \"\"\"\n",
    "\n",
    "    loss = nn.CrossEntropyLoss()\n",
    "    train_losses = []\n",
    "    train_accuracies = []\n",
    "    val_losses = []\n",
    "    val_accuracies = []\n",
    "    \n",
    "    lr_scheduler = torch.optim.lr_scheduler.StepLR(optimizer, step_size=9, gamma=0.5)\n",
    "    \n",
    "    for e in tqdm(range(epochs)):\n",
    "        model.train()\n",
    "        train_loss = 0.0\n",
    "        train_acc = 0.0\n",
    "\n",
    "        # Main training loop; iterate over train_loader. The loop\n",
    "        # terminates when the train loader finishes iterating, which is one epoch.\n",
    "        for (x_batch, labels) in train_loader:\n",
    "            x_batch, labels = x_batch.to(DEVICE), labels.to(DEVICE)\n",
    "            optimizer.zero_grad()\n",
    "            labels_pred = model(x_batch)\n",
    "            batch_loss = loss(labels_pred, labels)\n",
    "            train_loss = train_loss + batch_loss.item()\n",
    "\n",
    "            labels_pred_max = torch.argmax(labels_pred, 1)\n",
    "            batch_acc = torch.sum(labels_pred_max == labels)\n",
    "            train_acc = train_acc + batch_acc.item()\n",
    "\n",
    "            batch_loss.backward()\n",
    "            optimizer.step()\n",
    "            \n",
    "        lr_scheduler.step()   \n",
    "            \n",
    "        train_losses.append(train_loss / len(train_loader))\n",
    "        train_accuracies.append(train_acc / (batch_size * len(train_loader)))\n",
    "\n",
    "        # Validation loop; use .no_grad() context manager to save memory.\n",
    "        model.eval()\n",
    "        val_loss = 0.0\n",
    "        val_acc = 0.0\n",
    "\n",
    "        with torch.no_grad():\n",
    "            for (v_batch, labels) in val_loader:\n",
    "                v_batch, labels = v_batch.to(DEVICE), labels.to(DEVICE)\n",
    "                labels_pred = model(v_batch)\n",
    "                v_batch_loss = loss(labels_pred, labels)\n",
    "                val_loss = val_loss + v_batch_loss.item()\n",
    "\n",
    "                v_pred_max = torch.argmax(labels_pred, 1)\n",
    "                batch_acc = torch.sum(v_pred_max == labels)\n",
    "                val_acc = val_acc + batch_acc.item()\n",
    "            val_losses.append(val_loss / len(val_loader))\n",
    "            val_accuracies.append(val_acc / (batch_size * len(val_loader)))\n",
    "        \n",
    "        print(\"train: {:.5} \\t val: {:.5}\".format(train_accuracies[-1],val_accuracies[-1]))\n",
    "        \n",
    "    return train_losses, train_accuracies, val_losses, val_accuracies\n",
    "\n"
   ]
  },
  {
   "cell_type": "code",
   "execution_count": 280,
   "metadata": {},
   "outputs": [
    {
     "data": {
      "application/vnd.jupyter.widget-view+json": {
       "model_id": "529bbf5257fd4f428defc2954082305f",
       "version_major": 2,
       "version_minor": 0
      },
      "text/plain": [
       "  0%|          | 0/50 [00:00<?, ?it/s]"
      ]
     },
     "metadata": {},
     "output_type": "display_data"
    }
   ],
   "source": [
    "cnn_best_lr = study_nn.best_params['initial_learning_rate']\n",
    "cnn_best_M = study_nn.best_params['M']\n",
    "cnn_best_k = study_nn.best_params['k']\n",
    "cnn_best_N = study_nn.best_params['N']\n",
    "\n",
    "cnn_model_best = Convolution_NN(M = cnn_best_M, k = cnn_best_k, N = cnn_best_N)\n",
    "cnn_optimizer_best = torch.optim.Adam(cnn_model_best.parameters(), cnn_best_lr)\n",
    "\n",
    "train_losses, train_accuracies, val_losses, val_accuracies = train2(model = cnn_model_best, optimizer = cnn_optimizer_best, train_loader = train_loader, val_loader = val_loader, epochs = 50)"
   ]
  },
  {
   "cell_type": "code",
   "execution_count": 281,
   "metadata": {},
   "outputs": [
    {
     "data": {
      "image/png": "[encoded data removed]",
      "text/plain": [
       "<Figure size 640x480 with 1 Axes>"
      ]
     },
     "metadata": {},
     "output_type": "display_data"
    }
   ],
   "source": [
    "epochs = range(1, len(train_accuracies)+1)\n",
    "plt.plot(epochs, train_accuracies, label=\"Train Accuracy\")\n",
    "plt.plot(epochs, val_accuracies, label=\"Validation Accuracy\")\n",
    "plt.xlabel(\"Epoch\")\n",
    "plt.ylabel(\"Accuracy\")\n",
    "plt.legend()\n",
    "plt.title(\"CNN accuracy for CIFAR-10 vs Epoch\")\n",
    "plt.show()"
   ]
  },
  {
   "cell_type": "code",
   "execution_count": 285,
   "metadata": {},
   "outputs": [
    {
     "name": "stdout",
     "output_type": "stream",
     "text": [
      "Test Accuracy: 0.6559533227848101\n"
     ]
    }
   ],
   "source": [
    "test_loss, test_acc = evaluate(cnn_model_best, test_loader)\n",
    "print(f\"Test Accuracy: {test_acc}\")"
   ]
  },
  {
   "cell_type": "markdown",
   "metadata": {},
   "source": [
    "# Conclusions CNN\n",
    "\n",
    "Overall decent results. We see the CNN model greatly increases the accuracy to roughly 65%. This was a good chance to work with more advanced hyperparameter tuning functions and train a relatively simple neural network while demonstrating the strength of CNNs. "
   ]
  },
  {
   "cell_type": "markdown",
   "metadata": {},
   "source": [
    "# Using pretrained networks (Transfer learning)\n",
    "\n",
    "Instead of training a network from scratch, in this problem, we will use a network that has already been trained on a very large dataset (ImageNet) and adjust it for the task at hand. This process of adapting weights in a model trained for another task is known as transfer learning. To do so we will:\n",
    "- Begin with the pretrained AlexNet model from torchvision.models for both tasks below. AlexNet achieved an early breakthrough performance on ImageNet and was instrumental in sparking the deep learning revolution in 2012.\n",
    "-  Do not modify any module within AlexNet that is not the final classifier layer.\n",
    "-  The output of AlexNet comes from the 6th layer of the classifier. Specifically, model.classifer[6] = nn.Linear(4096, 1000). To use AlexNet with CIFAR-10, we will reinitialize (replace) this layer with nn.Linear(4096, 10). This re-initializes the weights, and changes the output shape to reflect the desired number of target classes in CIFAR-10\n",
    "- Afterwards we will train the entire model using the pretrained default weights as a starting point."
   ]
  },
  {
   "cell_type": "code",
   "execution_count": 4,
   "metadata": {},
   "outputs": [
    {
     "name": "stdout",
     "output_type": "stream",
     "text": [
      "Files already downloaded and verified\n",
      "Files already downloaded and verified\n"
     ]
    }
   ],
   "source": [
    "import torchvision.transforms as transforms\n",
    "\n",
    "transform = transforms.Compose([\n",
    "    transforms.Resize((224, 224)),\n",
    "    transforms.ToTensor(),\n",
    "])\n",
    "\n",
    "train_dataset = torchvision.datasets.CIFAR10(\"./data\", train=True, download=True, transform=transform)\n",
    "test_dataset = torchvision.datasets.CIFAR10(\"./data\", train=False, download=True, transform=transform)\n"
   ]
  },
  {
   "cell_type": "code",
   "execution_count": 5,
   "metadata": {},
   "outputs": [],
   "source": [
    "batch_size = 128\n",
    "\n",
    "train_dataset, val_dataset = random_split(train_dataset, [int(0.9 * len(train_dataset)), int( 0.1 * len(train_dataset))])\n",
    "\n",
    "# Create separate dataloaders for the train, test, and validation set\n",
    "train_loader = DataLoader(\n",
    "    train_dataset,\n",
    "    batch_size=batch_size,\n",
    "    shuffle=True\n",
    ")\n",
    "\n",
    "val_loader = DataLoader(\n",
    "    val_dataset,\n",
    "    batch_size=batch_size,\n",
    "    shuffle=True\n",
    ")\n",
    "\n",
    "test_loader = DataLoader(\n",
    "    test_dataset,\n",
    "    batch_size=batch_size,\n",
    "    shuffle=True\n",
    ")"
   ]
  },
  {
   "cell_type": "code",
   "execution_count": 6,
   "metadata": {},
   "outputs": [],
   "source": [
    "batch_size = 128\n",
    "\n",
    "small_train_dataset, small_val_dataset, throw_away = random_split(train_dataset, [int(0.1 * len(train_dataset)), int( 0.1 * len(train_dataset)), int(0.8*len(train_dataset))])\n",
    "\n",
    "# Create separate dataloaders for the train, test, and validation set\n",
    "train_loader_small = DataLoader(\n",
    "    small_train_dataset,\n",
    "    batch_size=batch_size,\n",
    "    shuffle=True,\n",
    ")\n",
    "\n",
    "val_loader_small = DataLoader(\n",
    "    small_val_dataset,\n",
    "    batch_size=batch_size,\n",
    "    shuffle=True,\n",
    ")\n",
    "\n",
    "test_loader_small = DataLoader(\n",
    "    test_dataset,\n",
    "    batch_size=batch_size,\n",
    "    shuffle=True,\n",
    ")"
   ]
  },
  {
   "cell_type": "code",
   "execution_count": 13,
   "metadata": {},
   "outputs": [],
   "source": [
    "model_alexnet = torchvision.models.alexnet(pretrained=True)\n",
    "for param in model_alexnet.parameters():\n",
    "    param.requires_grad = False\n",
    "    \n",
    "model_alexnet.classifier[6] = nn.Linear(4096, 10)\n",
    "model_alexnet.to(DEVICE)\n",
    "\n",
    "alexnet_optim = torch.optim.SGD(model_alexnet.parameters(), lr = 0.001)"
   ]
  },
  {
   "cell_type": "code",
   "execution_count": 10,
   "metadata": {},
   "outputs": [
    {
     "data": {
      "application/vnd.jupyter.widget-view+json": {
       "model_id": "58351994c6594d419c7d1ecdbf4ff53c",
       "version_major": 2,
       "version_minor": 0
      },
      "text/plain": [
       "  0%|          | 0/10 [00:00<?, ?it/s]"
      ]
     },
     "metadata": {},
     "output_type": "display_data"
    },
    {
     "name": "stdout",
     "output_type": "stream",
     "text": [
      "train: 0.13976 \t val: 0.16428\n",
      "train: 0.15213 \t val: 0.19423\n",
      "train: 0.17231 \t val: 0.22396\n",
      "train: 0.19271 \t val: 0.24327\n",
      "train: 0.20681 \t val: 0.27582\n",
      "train: 0.22287 \t val: 0.30143\n",
      "train: 0.25239 \t val: 0.31836\n",
      "train: 0.26845 \t val: 0.33746\n",
      "train: 0.28342 \t val: 0.35265\n",
      "train: 0.29536 \t val: 0.36328\n"
     ]
    }
   ],
   "source": [
    "train_losses_an, train_accuracies_an, val_losses_an, val_accuracies_an = train2(model = model_alexnet, optimizer = alexnet_optim, train_loader = train_loader_small, val_loader = val_loader_small, epochs = 10)"
   ]
  },
  {
   "cell_type": "code",
   "execution_count": 22,
   "metadata": {},
   "outputs": [
    {
     "name": "stderr",
     "output_type": "stream",
     "text": [
      "\u001b[32m[I 2023-03-17 19:48:10,218]\u001b[0m A new study created in memory with name: no-name-0accdf2c-9f86-476f-9077-800f95fe9562\u001b[0m\n"
     ]
    },
    {
     "data": {
      "application/vnd.jupyter.widget-view+json": {
       "model_id": "455b0936aa06415780a7b2ef1b4811ba",
       "version_major": 2,
       "version_minor": 0
      },
      "text/plain": [
       "  0%|          | 0/30 [00:00<?, ?it/s]"
      ]
     },
     "metadata": {},
     "output_type": "display_data"
    },
    {
     "name": "stdout",
     "output_type": "stream",
     "text": [
      "\u001b[32m[I 2023-03-17 19:51:35,061]\u001b[0m Trial 0 finished with value: 67.35555555555555 and parameters: {'initial_learning_rate': 0.0043959950106556255, 'optimizer': 'SGD'}. Best is trial 0 with value: 67.35555555555555.\u001b[0m\n",
      "\u001b[32m[I 2023-03-17 19:54:58,062]\u001b[0m Trial 1 finished with value: 65.6 and parameters: {'initial_learning_rate': 0.005874128458640579, 'optimizer': 'Adam'}. Best is trial 0 with value: 67.35555555555555.\u001b[0m\n",
      "\u001b[32m[I 2023-03-17 19:58:19,812]\u001b[0m Trial 2 finished with value: 67.06666666666666 and parameters: {'initial_learning_rate': 0.005318510159030153, 'optimizer': 'SGD'}. Best is trial 0 with value: 67.35555555555555.\u001b[0m\n",
      "\u001b[32m[I 2023-03-17 20:01:41,656]\u001b[0m Trial 3 finished with value: 67.04444444444445 and parameters: {'initial_learning_rate': 0.0010504573489292033, 'optimizer': 'Adam'}. Best is trial 0 with value: 67.35555555555555.\u001b[0m\n",
      "\u001b[32m[I 2023-03-17 20:05:02,938]\u001b[0m Trial 4 finished with value: 67.31111111111112 and parameters: {'initial_learning_rate': 0.0002013172087291426, 'optimizer': 'SGD'}. Best is trial 0 with value: 67.35555555555555.\u001b[0m\n",
      "\u001b[32m[I 2023-03-17 20:06:23,304]\u001b[0m Trial 5 pruned. \u001b[0m\n",
      "\u001b[32m[I 2023-03-17 20:09:45,379]\u001b[0m Trial 6 finished with value: 67.5111111111111 and parameters: {'initial_learning_rate': 0.001568070368523993, 'optimizer': 'Adam'}. Best is trial 6 with value: 67.5111111111111.\u001b[0m\n",
      "\u001b[32m[I 2023-03-17 20:13:16,638]\u001b[0m Trial 7 finished with value: 67.66666666666667 and parameters: {'initial_learning_rate': 0.000744934589247473, 'optimizer': 'SGD'}. Best is trial 7 with value: 67.66666666666667.\u001b[0m\n",
      "\u001b[32m[I 2023-03-17 20:14:39,151]\u001b[0m Trial 8 pruned. \u001b[0m\n",
      "\u001b[32m[I 2023-03-17 20:15:20,277]\u001b[0m Trial 9 pruned. \u001b[0m\n",
      "\u001b[32m[I 2023-03-17 20:16:43,345]\u001b[0m Trial 10 pruned. \u001b[0m\n",
      "\u001b[32m[I 2023-03-17 20:20:12,086]\u001b[0m Trial 11 finished with value: 67.95555555555555 and parameters: {'initial_learning_rate': 0.0022767961323112247, 'optimizer': 'Adam'}. Best is trial 11 with value: 67.95555555555555.\u001b[0m\n",
      "\u001b[32m[I 2023-03-17 20:23:41,936]\u001b[0m Trial 12 finished with value: 68.06666666666666 and parameters: {'initial_learning_rate': 0.0017060344967135383, 'optimizer': 'SGD'}. Best is trial 12 with value: 68.06666666666666.\u001b[0m\n",
      "\u001b[32m[I 2023-03-17 20:24:24,525]\u001b[0m Trial 13 pruned. \u001b[0m\n",
      "\u001b[32m[I 2023-03-17 20:27:48,720]\u001b[0m Trial 14 pruned. \u001b[0m\n",
      "\u001b[32m[I 2023-03-17 20:28:30,677]\u001b[0m Trial 15 pruned. \u001b[0m\n",
      "\u001b[32m[I 2023-03-17 20:29:14,396]\u001b[0m Trial 16 pruned. \u001b[0m\n",
      "\u001b[32m[I 2023-03-17 20:29:57,588]\u001b[0m Trial 17 pruned. \u001b[0m\n",
      "\u001b[32m[I 2023-03-17 20:33:27,815]\u001b[0m Trial 18 pruned. \u001b[0m\n",
      "\u001b[32m[I 2023-03-17 20:34:51,255]\u001b[0m Trial 19 pruned. \u001b[0m\n",
      "\u001b[32m[I 2023-03-17 20:35:33,006]\u001b[0m Trial 20 pruned. \u001b[0m\n",
      "\u001b[32m[I 2023-03-17 20:36:56,340]\u001b[0m Trial 21 pruned. \u001b[0m\n",
      "\u001b[32m[I 2023-03-17 20:40:24,212]\u001b[0m Trial 22 pruned. \u001b[0m\n",
      "\u001b[32m[I 2023-03-17 20:41:05,635]\u001b[0m Trial 23 pruned. \u001b[0m\n",
      "\u001b[32m[I 2023-03-17 20:41:47,187]\u001b[0m Trial 24 pruned. \u001b[0m\n",
      "\u001b[32m[I 2023-03-17 20:45:15,524]\u001b[0m Trial 25 pruned. \u001b[0m\n",
      "\u001b[32m[I 2023-03-17 20:46:38,888]\u001b[0m Trial 26 pruned. \u001b[0m\n",
      "\u001b[32m[I 2023-03-17 20:50:08,078]\u001b[0m Trial 27 finished with value: 67.82222222222222 and parameters: {'initial_learning_rate': 0.000662047689084329, 'optimizer': 'SGD'}. Best is trial 12 with value: 68.06666666666666.\u001b[0m\n",
      "\u001b[32m[I 2023-03-17 20:53:36,555]\u001b[0m Trial 28 finished with value: 67.93333333333334 and parameters: {'initial_learning_rate': 0.0005427669091179483, 'optimizer': 'SGD'}. Best is trial 12 with value: 68.06666666666666.\u001b[0m\n",
      "\u001b[32m[I 2023-03-17 20:57:03,055]\u001b[0m Trial 29 finished with value: 67.84444444444445 and parameters: {'initial_learning_rate': 0.0004911225115007941, 'optimizer': 'SGD'}. Best is trial 12 with value: 68.06666666666666.\u001b[0m\n"
     ]
    }
   ],
   "source": [
    "#Seems to work so lets try to optuna it.\n",
    "import torch.optim as optim\n",
    "import optuna\n",
    "from optuna.trial import TrialState\n",
    "\n",
    "def Alexnet_objective(trial):\n",
    "    #Potential hyper parameters\n",
    "    initial_learning_rate = trial.suggest_float('initial_learning_rate', 0.0001, 0.01, log = True)\n",
    "    optimizer_name = trial.suggest_categorical(\"optimizer\", [\"Adam\", \"SGD\"])\n",
    "    \n",
    "    model = model_alexnet\n",
    "    optimizer = getattr(torch.optim, optimizer_name)(model.parameters(), lr=initial_learning_rate)\n",
    "    \n",
    "    # Step decay schedule\n",
    "    lr_scheduler = torch.optim.lr_scheduler.StepLR(optimizer, step_size=9, gamma=0.5)\n",
    "        \n",
    "    for epoch in range(10):\n",
    "        train_losses, train_accuracies = train_epoch(model, optimizer, train_loader_small)\n",
    "        val_losses, val_accuracies = batch_eval(model, val_loader_small)\n",
    "\n",
    "        # Report intermediate results to Optuna\n",
    "        trial.report(val_accuracies, epoch)\n",
    "\n",
    "        # Prune trials that perform poorly based on intermediate results\n",
    "        if trial.should_prune():\n",
    "            raise optuna.exceptions.TrialPruned()\n",
    "        \n",
    "        lr_scheduler.step()\n",
    "\n",
    "    return val_accuracies\n",
    "\n",
    "study_alexnet = optuna.create_study(direction='maximize', pruner=optuna.pruners.HyperbandPruner())\n",
    "study_alexnet.optimize(Alexnet_objective, n_trials=30, show_progress_bar = True)"
   ]
  },
  {
   "cell_type": "code",
   "execution_count": 27,
   "metadata": {},
   "outputs": [
    {
     "data": {
      "application/vnd.jupyter.widget-view+json": {
       "model_id": "915ef71a17cc4d198eeb79ace619cda7",
       "version_major": 2,
       "version_minor": 0
      },
      "text/plain": [
       "  0%|          | 0/20 [00:00<?, ?it/s]"
      ]
     },
     "metadata": {},
     "output_type": "display_data"
    },
    {
     "name": "stdout",
     "output_type": "stream",
     "text": [
      "train: 0.45386 \t val: 0.54785\n",
      "train: 0.53817 \t val: 0.57441\n",
      "train: 0.56199 \t val: 0.59277\n",
      "train: 0.57156 \t val: 0.60586\n",
      "train: 0.57795 \t val: 0.61699\n",
      "train: 0.5878 \t val: 0.61758\n",
      "train: 0.58982 \t val: 0.62969\n",
      "train: 0.59306 \t val: 0.62344\n",
      "train: 0.59584 \t val: 0.61914\n",
      "train: 0.59757 \t val: 0.63652\n",
      "train: 0.60125 \t val: 0.63477\n",
      "train: 0.60019 \t val: 0.63906\n",
      "train: 0.60494 \t val: 0.63633\n",
      "train: 0.60405 \t val: 0.64102\n",
      "train: 0.60485 \t val: 0.6418\n",
      "train: 0.60744 \t val: 0.64102\n",
      "train: 0.60622 \t val: 0.64336\n",
      "train: 0.60698 \t val: 0.6418\n",
      "train: 0.61022 \t val: 0.64434\n",
      "train: 0.60687 \t val: 0.6457\n"
     ]
    }
   ],
   "source": [
    "model_alexnet = torchvision.models.alexnet(pretrained=True)\n",
    "for param in model_alexnet.parameters():\n",
    "    param.requires_grad = False\n",
    "    \n",
    "model_alexnet.classifier[6] = nn.Linear(4096, 10)\n",
    "model_alexnet.to(DEVICE)\n",
    "\n",
    "alexnet_optim_best = torch.optim.SGD(model_alexnet.parameters(), lr = 0.0017060344)\n",
    "\n",
    "train_losses_an, train_accuracies_an, val_losses_an, val_accuracies_an = train2(model = model_alexnet, optimizer = alexnet_optim_best, train_loader = train_loader, val_loader = val_loader, epochs = 20)"
   ]
  },
  {
   "cell_type": "code",
   "execution_count": 28,
   "metadata": {},
   "outputs": [
    {
     "data": {
      "image/png": "[encoded data removed]",
      "text/plain": [
       "<Figure size 640x480 with 1 Axes>"
      ]
     },
     "metadata": {},
     "output_type": "display_data"
    }
   ],
   "source": [
    "epochs = range(1, len(train_accuracies_an)+1)\n",
    "plt.plot(epochs, train_accuracies_an, label=\"Train Accuracy\")\n",
    "plt.plot(epochs, val_accuracies_an, label=\"Validation Accuracy\")\n",
    "plt.xlabel(\"Epoch\")\n",
    "plt.ylabel(\"Accuracy\")\n",
    "plt.legend()\n",
    "plt.title(\"AlexNet for CIFAR-10 vs Epoch\")\n",
    "plt.show()"
   ]
  },
  {
   "cell_type": "code",
   "execution_count": 23,
   "metadata": {},
   "outputs": [
    {
     "data": {
      "text/plain": [
       "AlexNet(\n",
       "  (features): Sequential(\n",
       "    (0): Conv2d(3, 64, kernel_size=(11, 11), stride=(4, 4), padding=(2, 2))\n",
       "    (1): ReLU(inplace=True)\n",
       "    (2): MaxPool2d(kernel_size=3, stride=2, padding=0, dilation=1, ceil_mode=False)\n",
       "    (3): Conv2d(64, 192, kernel_size=(5, 5), stride=(1, 1), padding=(2, 2))\n",
       "    (4): ReLU(inplace=True)\n",
       "    (5): MaxPool2d(kernel_size=3, stride=2, padding=0, dilation=1, ceil_mode=False)\n",
       "    (6): Conv2d(192, 384, kernel_size=(3, 3), stride=(1, 1), padding=(1, 1))\n",
       "    (7): ReLU(inplace=True)\n",
       "    (8): Conv2d(384, 256, kernel_size=(3, 3), stride=(1, 1), padding=(1, 1))\n",
       "    (9): ReLU(inplace=True)\n",
       "    (10): Conv2d(256, 256, kernel_size=(3, 3), stride=(1, 1), padding=(1, 1))\n",
       "    (11): ReLU(inplace=True)\n",
       "    (12): MaxPool2d(kernel_size=3, stride=2, padding=0, dilation=1, ceil_mode=False)\n",
       "  )\n",
       "  (avgpool): AdaptiveAvgPool2d(output_size=(6, 6))\n",
       "  (classifier): Sequential(\n",
       "    (0): Dropout(p=0.5, inplace=False)\n",
       "    (1): Linear(in_features=9216, out_features=4096, bias=True)\n",
       "    (2): ReLU(inplace=True)\n",
       "    (3): Dropout(p=0.5, inplace=False)\n",
       "    (4): Linear(in_features=4096, out_features=4096, bias=True)\n",
       "    (5): ReLU(inplace=True)\n",
       "    (6): Linear(in_features=4096, out_features=10, bias=True)\n",
       "  )\n",
       ")"
      ]
     },
     "execution_count": 23,
     "metadata": {},
     "output_type": "execute_result"
    }
   ],
   "source": [
    "model_alexnet2 = torchvision.models.alexnet(pretrained=True)\n",
    "model_alexnet2.classifier[6] = nn.Linear(4096, 10)\n",
    "model_alexnet2.to(DEVICE)"
   ]
  },
  {
   "cell_type": "code",
   "execution_count": 37,
   "metadata": {
    "jupyter": {
     "source_hidden": true
    },
    "tags": []
   },
   "outputs": [],
   "source": [
    "#Seems to be having issues.\n",
    "# def Alexnet_objective2(trial):\n",
    "#     #Potential hyper parameters\n",
    "#     initial_learning_rate = trial.suggest_float('initial_learning_rate', 0.001, 0.03, log = True)\n",
    "#     optimizer_name = trial.suggest_categorical(\"optimizer\", [\"Adam\", \"SGD\"])\n",
    "    \n",
    "#     model = model_alexnet2\n",
    "#     optimizer = getattr(torch.optim, optimizer_name)(model.parameters(), lr=initial_learning_rate)\n",
    "    \n",
    "#     # Step decay schedule\n",
    "#     lr_scheduler = torch.optim.lr_scheduler.StepLR(optimizer, step_size=9, gamma=0.5)\n",
    "        \n",
    "#     for epoch in range(10):\n",
    "#         train_losses, train_accuracies = train_epoch(model, optimizer, train_loader_small)\n",
    "#         val_losses, val_accuracies = batch_eval(model, val_loader_small)\n",
    "\n",
    "#         # Report intermediate results to Optuna\n",
    "#         trial.report(val_accuracies, epoch)\n",
    "\n",
    "#         # Prune trials that perform poorly based on intermediate results\n",
    "#         if trial.should_prune():\n",
    "#             raise optuna.exceptions.TrialPruned()\n",
    "        \n",
    "#         lr_scheduler.step()\n",
    "\n",
    "#     return val_accuracies\n",
    "\n",
    "# study_alexnet2 = optuna.create_study(direction='maximize', pruner=optuna.pruners.HyperbandPruner())\n",
    "# study_alexnet2.optimize(Alexnet_objective2, n_trials=30, show_progress_bar = True)"
   ]
  },
  {
   "cell_type": "code",
   "execution_count": 36,
   "metadata": {},
   "outputs": [
    {
     "data": {
      "application/vnd.jupyter.widget-view+json": {
       "model_id": "cf02c80ab9e94e87baa66ed46d6df3c8",
       "version_major": 2,
       "version_minor": 0
      },
      "text/plain": [
       "  0%|          | 0/20 [00:00<?, ?it/s]"
      ]
     },
     "metadata": {},
     "output_type": "display_data"
    },
    {
     "name": "stdout",
     "output_type": "stream",
     "text": [
      "train: 0.58265 \t val: 0.72793\n",
      "train: 0.76636 \t val: 0.74551\n",
      "train: 0.8103 \t val: 0.80801\n",
      "train: 0.83691 \t val: 0.82656\n",
      "train: 0.85352 \t val: 0.83242\n",
      "train: 0.86788 \t val: 0.83652\n",
      "train: 0.87891 \t val: 0.84688\n",
      "train: 0.88727 \t val: 0.85215\n",
      "train: 0.89478 \t val: 0.86797\n",
      "train: 0.91322 \t val: 0.8752\n",
      "train: 0.91868 \t val: 0.86758\n",
      "train: 0.92083 \t val: 0.86973\n",
      "train: 0.92385 \t val: 0.87383\n",
      "train: 0.92594 \t val: 0.87207\n",
      "train: 0.92831 \t val: 0.87539\n",
      "train: 0.93291 \t val: 0.87617\n",
      "train: 0.93306 \t val: 0.87129\n",
      "train: 0.93675 \t val: 0.88125\n",
      "train: 0.94456 \t val: 0.87988\n",
      "train: 0.94527 \t val: 0.88066\n"
     ]
    }
   ],
   "source": [
    "model_alexnet2 = torchvision.models.alexnet(pretrained=True)\n",
    "model_alexnet2.classifier[6] = nn.Linear(4096, 10)\n",
    "model_alexnet2.to(DEVICE)\n",
    "alexnet_optim_best2 = torch.optim.SGD(model_alexnet2.parameters(), lr = 0.01)\n",
    "train_losses_an2, train_accuracies_an2, val_losses_an2, val_accuracies_an2 = train2(model = model_alexnet2, optimizer = alexnet_optim_best2, train_loader = train_loader, val_loader = val_loader, epochs = 20)"
   ]
  },
  {
   "cell_type": "code",
   "execution_count": 39,
   "metadata": {},
   "outputs": [
    {
     "data": {
      "image/png": "[encoded data removed]",
      "text/plain": [
       "<Figure size 640x480 with 1 Axes>"
      ]
     },
     "metadata": {},
     "output_type": "display_data"
    }
   ],
   "source": [
    "epochs = range(1, len(train_accuracies_an)+1)\n",
    "plt.plot(epochs, train_accuracies_an2, label=\"Train Accuracy\")\n",
    "plt.plot(epochs, val_accuracies_an2, label=\"Validation Accuracy\")\n",
    "plt.xlabel(\"Epoch\")\n",
    "plt.ylabel(\"Accuracy\")\n",
    "plt.legend()\n",
    "plt.title(\"AlexNet for CIFAR-10 vs Epoch\")\n",
    "plt.show()"
   ]
  },
  {
   "cell_type": "code",
   "execution_count": 43,
   "metadata": {},
   "outputs": [
    {
     "name": "stdout",
     "output_type": "stream",
     "text": [
      " alexnet unmodified accuracy: 0.657 \n",
      " alexnet modified accuracy: 0.893\n"
     ]
    }
   ],
   "source": [
    "test_loss_an, test_acc_an = evaluate(model_alexnet, test_loader)\n",
    "test_loss_an2, test_acc_an2 = evaluate(model_alexnet2, test_loader)\n",
    "\n",
    "print(' alexnet unmodified accuracy: {:.3} \\n alexnet modified accuracy: {:.3}'.format(test_acc_an, test_acc_an2))"
   ]
  },
  {
   "cell_type": "markdown",
   "metadata": {},
   "source": [
    "# Pretrained networks conclusions:\n",
    "\n",
    "The AlexNet model worked extremely well. In particular the pretrained model with updated values based off our dataset achieved a very high accuracy. This really demonstrates the power of transfer learning. Additionally, the time to train these models on my pc (6gb vram 16g ram) really emphasises the difficulty in creating and tuning these more complex hyperparameters. It seems that tuning a pretrained model could be a good starting point for tackling many different types of problems."
   ]
  },
  {
   "cell_type": "markdown",
   "metadata": {},
   "source": [
    "# Overall Conclusions\n",
    "\n",
    "We should pretty much never be training our own neural network from scratch. Some very large teams backed by significant funding have created starting parameters for most types of problems which can be tackled by NNs. Additionally, we were able to explore the useage of convolutions and maxpools to help our network classify.\n",
    "\n",
    "This was super interesting to see just how long one of these networks takes to train on a single computer and to get a bit more experience implementing automated hyperparameter selection using Optuna bayesian search. "
   ]
  }
 ],
 "metadata": {
  "accelerator": "GPU",
  "colab": {
   "collapsed_sections": [],
   "name": "image-classification-on-cifar-10-starter-code.ipynb",
   "provenance": []
  },
  "kernelspec": {
   "display_name": "cse446",
   "language": "python",
   "name": "cse446"
  },
  "language_info": {
   "codemirror_mode": {
    "name": "ipython",
    "version": 3
   },
   "file_extension": ".py",
   "mimetype": "text/x-python",
   "name": "python",
   "nbconvert_exporter": "python",
   "pygments_lexer": "ipython3",
   "version": "3.8.10"
  },
  "varInspector": {
   "cols": {
    "lenName": 16,
    "lenType": 16,
    "lenVar": 40
   },
   "kernels_config": {
    "python": {
     "delete_cmd_postfix": "",
     "delete_cmd_prefix": "del ",
     "library": "var_list.py",
     "varRefreshCmd": "print(var_dic_list())"
    },
    "r": {
     "delete_cmd_postfix": ") ",
     "delete_cmd_prefix": "rm(",
     "library": "var_list.r",
     "varRefreshCmd": "cat(var_dic_list()) "
    }
   },
   "types_to_exclude": [
    "module",
    "function",
    "builtin_function_or_method",
    "instance",
    "_Feature"
   ],
   "window_display": false
  },
  "vscode": {
   "interpreter": {
    "hash": "bf814fda1cc440ac317e22279a1ec33d1b20faeecc9ea242b28923e33d4f784d"
   }
  }
 },
 "nbformat": 4,
 "nbformat_minor": 4
}
