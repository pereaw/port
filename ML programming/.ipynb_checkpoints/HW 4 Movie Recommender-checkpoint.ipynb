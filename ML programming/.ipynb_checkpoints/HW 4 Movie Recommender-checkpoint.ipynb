{
 "cells": [
  {
   "cell_type": "markdown",
   "id": "43b5e843-227a-4e55-b363-07917956e363",
   "metadata": {},
   "source": [
    "# Matrix completion Movie recommender\n",
    "\n",
    "We will build a personalized movie recommender system. We will use the 100K MovieLens dataset available at https://grouplens.org/datasets/movielens/100k/. There are m = 1682 movies and n = 943 users. Each user rated at least 20 movies, but some watched many more. The total dataset contains 100,000 total ratings from all users. The goal is to recommend movies the users haven’t seen.\n",
    "\n",
    "Below we train 3 models.\n",
    "1. We will do a basic predictive model where the movie rating will be the average rating of all users who have rated that movie, and if the movie does not have any users who have rated it the rating will just be set to the average of the entire movie rating set.\n",
    "2. Next we will do a matrix completion model using SVD. We will train the model for different values of d prinicpal components.\n",
    "3. Finally, we will do an alternating least squares movie where we optimize the u, v matrices for the uv predictor. The u matrix is size (n,d) and the v matrix is size (m,d). The idea is that the product uv will give a rating for the movie based off of some d features and user tendencies. We attempt to maximize the error based only on the ratings that we actually have not the missing values.\n",
    "\n",
    "We see that the ALS model works fairly well however it could definitely be improved upon. However it is a relatively simple program and can be trained relatively quickly."
   ]
  },
  {
   "cell_type": "code",
   "execution_count": 1,
   "id": "2b048001-6792-4500-83fb-ce9a9a50cc0e",
   "metadata": {},
   "outputs": [],
   "source": [
    "import csv\n",
    "import numpy as np\n",
    "data = []\n",
    "with open('data\\\\ml-100k\\\\u.data') as csvfile:\n",
    "    spamreader = csv.reader(csvfile, delimiter='\\t')\n",
    "    for row in spamreader:\n",
    "        data.append([int(row[0])-1, int(row[1])-1, int(row[2])])\n",
    "    \n",
    "data = np.array(data)\n",
    "num_observations = len(data) # num_observations = 100,000\n",
    "num_users = max(data[:,0])+1 # num_users = 943, indexed 0,...,942\n",
    "num_items = max(data[:,1])+1 # num_items = 1682 indexed 0,...,1681\n",
    "np.random.seed(1)\n",
    "num_train = int(0.8*num_observations)\n",
    "\n",
    "perm = np.random.permutation(data.shape[0])\n",
    "train = data[perm[0:num_train],:]\n",
    "test = data[perm[num_train::],:]"
   ]
  },
  {
   "cell_type": "code",
   "execution_count": 3,
   "id": "a3aa5b95-311b-471b-a3ae-12b4af2c2712",
   "metadata": {},
   "outputs": [
    {
     "data": {
      "text/plain": [
       "(array([3.84146341, 3.85964912, 3.39215686, ..., 3.59340659, 4.26116838,\n",
       "        3.1875    ]),\n",
       " 1.0532428361498423)"
      ]
     },
     "execution_count": 3,
     "metadata": {},
     "output_type": "execute_result"
    }
   ],
   "source": [
    "import pandas as pd\n",
    "from typing import Tuple\n",
    "\n",
    "def basic_prediction(train: np.ndarray,\n",
    "                      test: np.ndarray) -> Tuple[np.ndarray, float]:\n",
    "    \"\"\" \n",
    "    args:\n",
    "        train: an ndarray with 3 columns, user id, movie id, rating\n",
    "        test: an ndarray with 3 columns, user id, movie id, rating\n",
    "    returns:\n",
    "        a tuple containing the predicted ratings as a NumPy array and the mean squared error as a float\n",
    "    \"\"\"\n",
    "    columns = ['user', 'movie', 'rating']\n",
    "    train_df = pd.DataFrame(train, columns=columns)\n",
    "    test_df = pd.DataFrame(test, columns=columns)\n",
    "    movie_ratings = train_df.groupby('movie')['rating'].mean()\n",
    "    \n",
    "    preds = np.zeros(len(test_df))\n",
    "    \n",
    "    for i, movie in enumerate(test_df['movie']):\n",
    "        if movie in movie_ratings.index:\n",
    "            preds[i] = movie_ratings[movie]\n",
    "        else:\n",
    "            preds[i] = movie_ratings.mean()\n",
    "    \n",
    "    error = np.square(preds - test_df['rating']).mean()\n",
    "    \n",
    "    return preds, error\n",
    "\n",
    "basic_prediction(train, test)"
   ]
  },
  {
   "cell_type": "code",
   "execution_count": 4,
   "id": "bbfbee5b-2491-40ae-bdc7-c9143513f14e",
   "metadata": {},
   "outputs": [],
   "source": [
    "import numpy as np\n",
    "from scipy.sparse.linalg import svds\n",
    "\n",
    "def matrix_factorization(train: np.ndarray,\n",
    "                         test: np.ndarray,\n",
    "                         d_values: list) -> Tuple[list, list, list, np.ndarray, np.ndarray]:\n",
    "    \"\"\"\n",
    "    args:\n",
    "        train: an ndarray with 3 columns, user id, movie id, rating\n",
    "        test: an ndarray with 3 columns, user id, movie id, rating\n",
    "        d_values: a list of integers representing the different rank values to use in the SVD\n",
    "    returns:\n",
    "        a tuple containing the list of d values and the list of predicted ratings as NumPy arrays for each d value\n",
    "    \"\"\"\n",
    "    # Initialize matrix R\n",
    "    num_users = len(np.unique(data[:, 0]))\n",
    "    num_movies = len(np.unique(data[:, 1]))\n",
    "    \n",
    "    R = np.zeros((num_users, num_movies))\n",
    "    \n",
    "    R = np.zeros((num_users, num_movies))\n",
    "    for i, j, r in train:\n",
    "        R[i, j] = r\n",
    "    \n",
    "    # Compute SVD for different d values\n",
    "    d_list = []\n",
    "    r_hats = []\n",
    "    errors_train = []\n",
    "    errors_test = []\n",
    "    for d in d_values:\n",
    "        u, s, vt = svds(R, k=d)\n",
    "        S = np.diag(s)\n",
    "        R_hat = np.dot(np.dot(u, S), vt)\n",
    "        d_list.append(d)\n",
    "        r_hats.append(R_hat)\n",
    "        \n",
    "        y_train = train[:,2]\n",
    "        y_test = test[:,2]\n",
    "        \n",
    "        train_preds = R_hat[train[:,0],train[:,1]]\n",
    "        test_preds = R_hat[test[:,0],test[:,1]]\n",
    "        \n",
    "        error_train = np.square(y_train - train_preds).mean()\n",
    "        error_test = np.square(y_test - test_preds).mean()\n",
    "        \n",
    "        errors_train.append(error_train)\n",
    "        errors_test.append(error_test)\n",
    "        \n",
    "    return d_list, errors_train, errors_test, np.array(r_hats), R"
   ]
  },
  {
   "cell_type": "code",
   "execution_count": 5,
   "id": "8144fb2f-6a8d-4444-9710-81a3b9e07681",
   "metadata": {},
   "outputs": [],
   "source": [
    "d_values = [1,2,5,10,20,50]\n",
    "output = matrix_factorization(train,test,d_values)"
   ]
  },
  {
   "cell_type": "code",
   "execution_count": 6,
   "id": "e0525326-a175-4da9-b8ec-f86418228b9c",
   "metadata": {},
   "outputs": [
    {
     "data": {
      "text/plain": [
       "Text(0, 0.5, 'Error (MSE)')"
      ]
     },
     "execution_count": 6,
     "metadata": {},
     "output_type": "execute_result"
    },
    {
     "data": {
      "image/png": "[encoded data removed]",
      "text/plain": [
       "<Figure size 640x480 with 1 Axes>"
      ]
     },
     "metadata": {},
     "output_type": "display_data"
    }
   ],
   "source": [
    "import matplotlib.pyplot as plt\n",
    "\n",
    "plt.plot(output[0],output[1], label = 'train error')\n",
    "plt.plot(output[0],output[2], label = 'test error')\n",
    "plt.legend()\n",
    "plt.title('Error using SVD assuming 0 for missing movie ratings')\n",
    "plt.xlabel('top d singular values')\n",
    "plt.ylabel('Error (MSE)')"
   ]
  },
  {
   "cell_type": "code",
   "execution_count": 7,
   "id": "e6d3b2a1-657e-4f38-b653-b4b22df441da",
   "metadata": {},
   "outputs": [],
   "source": [
    "def ALS_sparse(train: np.ndarray,\n",
    "               test: np.ndarray,\n",
    "               d_values: list,\n",
    "               lamda: float,\n",
    "               max_iter=100):\n",
    "    \n",
    "    num_users = len(np.unique(data[:, 0]))\n",
    "    num_movies = len(np.unique(data[:, 1]))\n",
    "    \n",
    "    R = np.zeros((num_users, num_movies))\n",
    "    for i, j, r in train:\n",
    "        R[i, j] = r\n",
    "    \n",
    "    N, M = R.shape\n",
    "    \n",
    "    d_list = []\n",
    "    errors_train = []\n",
    "    errors_test = []\n",
    "    \n",
    "    for d in d_values:    \n",
    "        u = np.random.randn(N, d) * 3\n",
    "        v = np.random.randn(M, d) * 3\n",
    "        \n",
    "        for _ in range(max_iter):\n",
    "            # Update u\n",
    "            for i in range(N):\n",
    "                j_idx = R[i] > 0 #get the movies each user has rated\n",
    "                v_j = v[j_idx] #get 1 x movies actually reviewed vector\n",
    "                R_i = R[i, j_idx] #sparse matrix for user i, has their j movies rated.\n",
    "                u[i,:] = np.linalg.solve(v_j.T@ v_j + lamda * np.eye(d), v_j.T @ R_i)\n",
    "\n",
    "\n",
    "            # Update v\n",
    "            for j in range(M):\n",
    "                i_idx = R[:, j] > 0\n",
    "                u_i = u[i_idx]\n",
    "                R_j = R[i_idx, j]\n",
    "                v[j,:] = np.linalg.solve(u_i.T@ u_i + lamda * np.eye(d), u_i.T@ R_j)               \n",
    "        \n",
    "        R_hat = u@v.T\n",
    "        \n",
    "            \n",
    "        y_train = train[:,2]\n",
    "        y_test = test[:,2]\n",
    "        \n",
    "        train_preds = R_hat[train[:,0],train[:,1]]\n",
    "        test_preds = R_hat[test[:,0],test[:,1]]\n",
    "        \n",
    "        \n",
    "        \n",
    "        error_train = np.square(y_train - train_preds).mean()\n",
    "        error_test = np.square(y_test - test_preds).mean()\n",
    "        \n",
    "        errors_train.append(error_train)\n",
    "        errors_test.append(error_test)\n",
    "        print(\"als model error: {:.3}(d = {:}, lambda = {:}, e = {:})\".format(error_test,d,lamda,max_iter))\n",
    "    \n",
    "    return d_values, errors_train, errors_test, R_hat, R\n"
   ]
  },
  {
   "cell_type": "code",
   "execution_count": 8,
   "id": "c32fc923-d689-4549-9583-74a5efc5f571",
   "metadata": {},
   "outputs": [
    {
     "name": "stdout",
     "output_type": "stream",
     "text": [
      "als model error: 0.921(d = 1, lambda = 3, e = 50)\n",
      "als model error: 0.872(d = 2, lambda = 3, e = 50)\n",
      "als model error: 0.882(d = 5, lambda = 3, e = 50)\n",
      "als model error: 0.97(d = 10, lambda = 3, e = 50)\n",
      "als model error: 1.15(d = 20, lambda = 3, e = 50)\n",
      "als model error: 1.25(d = 50, lambda = 3, e = 50)\n"
     ]
    }
   ],
   "source": [
    "d_values = [1,2,5,10,20,50]\n",
    "output = ALS_sparse(train,test,d_values,lamda = 3, max_iter = 50)"
   ]
  },
  {
   "cell_type": "code",
   "execution_count": 5,
   "id": "db147319-8f5f-42bc-9343-177163d51b4e",
   "metadata": {},
   "outputs": [
    {
     "ename": "NameError",
     "evalue": "name 'plt' is not defined",
     "output_type": "error",
     "traceback": [
      "\u001b[1;31m---------------------------------------------------------------------------\u001b[0m",
      "\u001b[1;31mNameError\u001b[0m                                 Traceback (most recent call last)",
      "Cell \u001b[1;32mIn[5], line 1\u001b[0m\n\u001b[1;32m----> 1\u001b[0m \u001b[43mplt\u001b[49m\u001b[38;5;241m.\u001b[39mplot(output[\u001b[38;5;241m0\u001b[39m],output[\u001b[38;5;241m1\u001b[39m], label \u001b[38;5;241m=\u001b[39m \u001b[38;5;124m'\u001b[39m\u001b[38;5;124mtrain error\u001b[39m\u001b[38;5;124m'\u001b[39m)\n\u001b[0;32m      2\u001b[0m plt\u001b[38;5;241m.\u001b[39mplot(output[\u001b[38;5;241m0\u001b[39m],output[\u001b[38;5;241m2\u001b[39m], label \u001b[38;5;241m=\u001b[39m \u001b[38;5;124m'\u001b[39m\u001b[38;5;124mtest error\u001b[39m\u001b[38;5;124m'\u001b[39m)\n\u001b[0;32m      3\u001b[0m plt\u001b[38;5;241m.\u001b[39mlegend()\n",
      "\u001b[1;31mNameError\u001b[0m: name 'plt' is not defined"
     ]
    }
   ],
   "source": [
    "plt.plot(output[0],output[1], label = 'train error')\n",
    "plt.plot(output[0],output[2], label = 'test error')\n",
    "plt.legend()\n",
    "plt.title('Error using ALS')\n",
    "plt.xlabel('d')\n",
    "plt.ylabel('Error (MSE)')"
   ]
  },
  {
   "cell_type": "code",
   "execution_count": null,
   "id": "0f4993d3-a180-4cfc-a631-ee08d81f3614",
   "metadata": {},
   "outputs": [],
   "source": []
  }
 ],
 "metadata": {
  "kernelspec": {
   "display_name": "cse446",
   "language": "python",
   "name": "cse446"
  },
  "language_info": {
   "codemirror_mode": {
    "name": "ipython",
    "version": 3
   },
   "file_extension": ".py",
   "mimetype": "text/x-python",
   "name": "python",
   "nbconvert_exporter": "python",
   "pygments_lexer": "ipython3",
   "version": "3.8.10"
  }
 },
 "nbformat": 4,
 "nbformat_minor": 5
}
